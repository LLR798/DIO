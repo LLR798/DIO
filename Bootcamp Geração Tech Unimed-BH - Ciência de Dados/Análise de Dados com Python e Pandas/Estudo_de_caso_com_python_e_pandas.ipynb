{
  "nbformat": 4,
  "nbformat_minor": 0,
  "metadata": {
    "colab": {
      "provenance": [],
      "collapsed_sections": []
    },
    "kernelspec": {
      "name": "python3",
      "display_name": "Python 3"
    },
    "language_info": {
      "name": "python"
    }
  },
  "cells": [
    {
      "cell_type": "markdown",
      "source": [
        "# **Análise de dados usando Python e Pandas**"
      ],
      "metadata": {
        "id": "ztrKThwWgEhp"
      }
    },
    {
      "cell_type": "markdown",
      "source": [
        "**Apresentação:**"
      ],
      "metadata": {
        "id": "59mHXr7HgtSM"
      }
    },
    {
      "cell_type": "markdown",
      "source": [
        "Neste desafio de projeto da plataforma [DIO](https://www.dio.me/en), que consta no Bootcamp Geração Tech Unimed-BH - Ciência de Dados, é apresentado uma breve explicação da biblioteca Pandas. Uma biblioteca Python de código aberto para análise de dados comm python. Ela dá ao Python a capacidade de trabalhar com dados do tipo planilha, permitindo carregar, manipular e combinar dados rapidamente, dentre outras várias funções."
      ],
      "metadata": {
        "id": "jN2VFWLXgzr6"
      }
    },
    {
      "cell_type": "markdown",
      "source": [
        "### **Estrutura de dados**"
      ],
      "metadata": {
        "id": "auPFlJpkhrX1"
      }
    },
    {
      "cell_type": "markdown",
      "source": [
        "**Explicação:** <br>\n",
        "Abaixo está sendo feita uma breve demonstração, de como utilizar as principais estruturas de dados do python."
      ],
      "metadata": {
        "id": "WQbXy_P-iBEs"
      }
    },
    {
      "cell_type": "markdown",
      "source": [
        "**Listas:**"
      ],
      "metadata": {
        "id": "XTxkn6wKihEx"
      }
    },
    {
      "cell_type": "code",
      "source": [
        "# Linkar o Dataset do meu google drive ao colab:\n",
        "from google.colab import drive\n",
        "drive.mount('/content/drive')"
      ],
      "metadata": {
        "colab": {
          "base_uri": "https://localhost:8080/"
        },
        "id": "0hI_uUy4M6-E",
        "outputId": "e4f0dc7b-6a64-4816-ad34-70b105281c88"
      },
      "execution_count": 1,
      "outputs": [
        {
          "output_type": "stream",
          "name": "stdout",
          "text": [
            "Mounted at /content/drive\n"
          ]
        }
      ]
    },
    {
      "cell_type": "code",
      "source": [
        "# Criando uma lista chamada animais:\n",
        "animais = [1,2,3] \n",
        "animais"
      ],
      "metadata": {
        "colab": {
          "base_uri": "https://localhost:8080/"
        },
        "id": "Q4VhOrwtilhf",
        "outputId": "60bc2d88-1a5e-4ef5-df00-65cc48beb9bc"
      },
      "execution_count": 2,
      "outputs": [
        {
          "output_type": "execute_result",
          "data": {
            "text/plain": [
              "[1, 2, 3]"
            ]
          },
          "metadata": {},
          "execution_count": 2
        }
      ]
    },
    {
      "cell_type": "code",
      "source": [
        "# Sobrescrevendo a minha lista:\n",
        "animais = [\"cachorro\", \"gato\", 12345, 6.5]\n",
        "animais"
      ],
      "metadata": {
        "colab": {
          "base_uri": "https://localhost:8080/"
        },
        "id": "Vt_m0up4iu0J",
        "outputId": "139b52e2-0bb4-4f04-f7db-2b26116867a7"
      },
      "execution_count": 3,
      "outputs": [
        {
          "output_type": "execute_result",
          "data": {
            "text/plain": [
              "['cachorro', 'gato', 12345, 6.5]"
            ]
          },
          "metadata": {},
          "execution_count": 3
        }
      ]
    },
    {
      "cell_type": "code",
      "source": [
        "# Imprimindo o primeiro elemento da lista:\n",
        "animais[0] "
      ],
      "metadata": {
        "colab": {
          "base_uri": "https://localhost:8080/",
          "height": 36
        },
        "id": "S0VbbHs6ixlm",
        "outputId": "c1421948-4d15-45b9-d728-c760e1598e0f"
      },
      "execution_count": 4,
      "outputs": [
        {
          "output_type": "execute_result",
          "data": {
            "text/plain": [
              "'cachorro'"
            ],
            "application/vnd.google.colaboratory.intrinsic+json": {
              "type": "string"
            }
          },
          "metadata": {},
          "execution_count": 4
        }
      ]
    },
    {
      "cell_type": "code",
      "source": [
        "# Imprimindo o 4 elemento da lista:\n",
        "animais[3] "
      ],
      "metadata": {
        "colab": {
          "base_uri": "https://localhost:8080/"
        },
        "id": "px4Vt1rXi2Jj",
        "outputId": "b808e8d4-6cfa-4ae4-b99f-15b7837ab0d3"
      },
      "execution_count": 5,
      "outputs": [
        {
          "output_type": "execute_result",
          "data": {
            "text/plain": [
              "6.5"
            ]
          },
          "metadata": {},
          "execution_count": 5
        }
      ]
    },
    {
      "cell_type": "code",
      "source": [
        "# Substituindo o primeiro elemento da lista:\n",
        "animais[0] = \"papagaio\" \n",
        "animais"
      ],
      "metadata": {
        "colab": {
          "base_uri": "https://localhost:8080/"
        },
        "id": "grEm6VYgi62E",
        "outputId": "c1c00d80-c923-4953-db88-e283941b8c90"
      },
      "execution_count": 6,
      "outputs": [
        {
          "output_type": "execute_result",
          "data": {
            "text/plain": [
              "['papagaio', 'gato', 12345, 6.5]"
            ]
          },
          "metadata": {},
          "execution_count": 6
        }
      ]
    },
    {
      "cell_type": "code",
      "source": [
        "# Removendo \"gato\" da lista:\n",
        "animais.remove(\"gato\") \n",
        "animais"
      ],
      "metadata": {
        "colab": {
          "base_uri": "https://localhost:8080/"
        },
        "id": "iqvK2p_Yi9HA",
        "outputId": "fabb4d0e-c158-4812-fd72-ac00646f0999"
      },
      "execution_count": 7,
      "outputs": [
        {
          "output_type": "execute_result",
          "data": {
            "text/plain": [
              "['papagaio', 12345, 6.5]"
            ]
          },
          "metadata": {},
          "execution_count": 7
        }
      ]
    },
    {
      "cell_type": "code",
      "source": [
        "# Verificando o tamanho da lista:\n",
        "len(animais)"
      ],
      "metadata": {
        "colab": {
          "base_uri": "https://localhost:8080/"
        },
        "id": "wlxgpHtri_df",
        "outputId": "1006b17f-9696-4f4a-fbb6-eef20ff4f8ad"
      },
      "execution_count": 8,
      "outputs": [
        {
          "output_type": "execute_result",
          "data": {
            "text/plain": [
              "3"
            ]
          },
          "metadata": {},
          "execution_count": 8
        }
      ]
    },
    {
      "cell_type": "code",
      "source": [
        "# Verificando a existência de \"gato\" na lista:\n",
        "\"gato\" in animais"
      ],
      "metadata": {
        "colab": {
          "base_uri": "https://localhost:8080/"
        },
        "id": "Gs_Z_mcKjCI4",
        "outputId": "52111241-fe09-42f6-834b-5a2e5a2dc98c"
      },
      "execution_count": 9,
      "outputs": [
        {
          "output_type": "execute_result",
          "data": {
            "text/plain": [
              "False"
            ]
          },
          "metadata": {},
          "execution_count": 9
        }
      ]
    },
    {
      "cell_type": "code",
      "source": [
        "# Criei mais uma lista para demonstrar outros métodos:\n",
        "lista = [500, 30, 300, 80, 10]"
      ],
      "metadata": {
        "id": "OTRmW_zkj5F1"
      },
      "execution_count": 10,
      "outputs": []
    },
    {
      "cell_type": "code",
      "source": [
        "# Valor máximo em uma lista:\n",
        "max(lista)"
      ],
      "metadata": {
        "colab": {
          "base_uri": "https://localhost:8080/"
        },
        "id": "JDNCRNSukADS",
        "outputId": "db8550bd-b377-416e-d2e3-f0d7281aa4c3"
      },
      "execution_count": 11,
      "outputs": [
        {
          "output_type": "execute_result",
          "data": {
            "text/plain": [
              "500"
            ]
          },
          "metadata": {},
          "execution_count": 11
        }
      ]
    },
    {
      "cell_type": "code",
      "source": [
        "# Valor mínimo em uma lista:\n",
        "min(lista)"
      ],
      "metadata": {
        "colab": {
          "base_uri": "https://localhost:8080/"
        },
        "id": "W9azyrDBkHNR",
        "outputId": "4566e3a8-3aa2-478d-ef6e-b08ec200ab39"
      },
      "execution_count": 12,
      "outputs": [
        {
          "output_type": "execute_result",
          "data": {
            "text/plain": [
              "10"
            ]
          },
          "metadata": {},
          "execution_count": 12
        }
      ]
    },
    {
      "cell_type": "code",
      "source": [
        "# Ordenar uma lista do menor para o maior:\n",
        "lista.sort()\n",
        "lista"
      ],
      "metadata": {
        "colab": {
          "base_uri": "https://localhost:8080/"
        },
        "id": "l_cgO-JYkxQ4",
        "outputId": "1de1eb82-2d50-4360-81a5-992ff32fa85d"
      },
      "execution_count": 13,
      "outputs": [
        {
          "output_type": "execute_result",
          "data": {
            "text/plain": [
              "[10, 30, 80, 300, 500]"
            ]
          },
          "metadata": {},
          "execution_count": 13
        }
      ]
    },
    {
      "cell_type": "code",
      "source": [
        "# Cria uma lista aninhada (lista dentro de lista):\n",
        "animais.append([\"leão\", \"Cachorro\"]) \n",
        "animais"
      ],
      "metadata": {
        "colab": {
          "base_uri": "https://localhost:8080/"
        },
        "id": "d7opRCppkPsJ",
        "outputId": "6dbe84cb-4e22-4a98-943d-3c899c086eeb"
      },
      "execution_count": 14,
      "outputs": [
        {
          "output_type": "execute_result",
          "data": {
            "text/plain": [
              "['papagaio', 12345, 6.5, ['leão', 'Cachorro']]"
            ]
          },
          "metadata": {},
          "execution_count": 14
        }
      ]
    },
    {
      "cell_type": "code",
      "source": [
        "# Adiciona mais de um elemento na lista:\n",
        "animais.extend([\"cobra\", 6]) \n",
        "animais"
      ],
      "metadata": {
        "colab": {
          "base_uri": "https://localhost:8080/"
        },
        "id": "VDgGhlEykYW7",
        "outputId": "d1ee7160-0c23-4e3c-cc47-68f664fa462d"
      },
      "execution_count": 15,
      "outputs": [
        {
          "output_type": "execute_result",
          "data": {
            "text/plain": [
              "['papagaio', 12345, 6.5, ['leão', 'Cachorro'], 'cobra', 6]"
            ]
          },
          "metadata": {},
          "execution_count": 15
        }
      ]
    },
    {
      "cell_type": "code",
      "source": [
        "# Mostra quantas vezes apareceu a palavra \"leão\":\n",
        "animais.count(\"leão\")"
      ],
      "metadata": {
        "colab": {
          "base_uri": "https://localhost:8080/"
        },
        "id": "MlPK2XLdkll_",
        "outputId": "91b4bdda-c25e-4e9d-c301-9b214a718f52"
      },
      "execution_count": 16,
      "outputs": [
        {
          "output_type": "execute_result",
          "data": {
            "text/plain": [
              "0"
            ]
          },
          "metadata": {},
          "execution_count": 16
        }
      ]
    },
    {
      "cell_type": "markdown",
      "source": [
        "**Tuplas:**"
      ],
      "metadata": {
        "id": "3jBSFvXBlBgK"
      }
    },
    {
      "cell_type": "code",
      "source": [
        "# As tuplas usam parênteses como sintaxe:\n",
        "tp = (\"Banana\", \"Maçã\", 10, 50) \n",
        "tp"
      ],
      "metadata": {
        "colab": {
          "base_uri": "https://localhost:8080/"
        },
        "id": "EC9R13LzlInI",
        "outputId": "0adfa8ff-9f1f-42ff-eb12-002e4b89deff"
      },
      "execution_count": 17,
      "outputs": [
        {
          "output_type": "execute_result",
          "data": {
            "text/plain": [
              "('Banana', 'Maçã', 10, 50)"
            ]
          },
          "metadata": {},
          "execution_count": 17
        }
      ]
    },
    {
      "cell_type": "code",
      "source": [
        "# Retornando o primeiro elemento:\n",
        "tp[0]"
      ],
      "metadata": {
        "colab": {
          "base_uri": "https://localhost:8080/",
          "height": 36
        },
        "id": "yl3VlvH9lSB0",
        "outputId": "fbdef953-0ed3-4536-edb2-8e090224f1ab"
      },
      "execution_count": 18,
      "outputs": [
        {
          "output_type": "execute_result",
          "data": {
            "text/plain": [
              "'Banana'"
            ],
            "application/vnd.google.colaboratory.intrinsic+json": {
              "type": "string"
            }
          },
          "metadata": {},
          "execution_count": 18
        }
      ]
    },
    {
      "cell_type": "code",
      "source": [
        "# Diferente das listas as tuplas são imutáveis, ou seja, não podemos alterar os \n",
        "# seus elementos, por isso o código abaixo da erro, se executar:\n",
        "\n",
        "#tp[0] = \"Laranja\""
      ],
      "metadata": {
        "id": "yK9c-aW6lX4B"
      },
      "execution_count": 19,
      "outputs": []
    },
    {
      "cell_type": "code",
      "source": [
        "# Mostra quantas vezes a palavra maçã apareceu na tuplas:\n",
        "tp.count(\"Maçã\")"
      ],
      "metadata": {
        "colab": {
          "base_uri": "https://localhost:8080/"
        },
        "id": "WuyKeX4JljMB",
        "outputId": "f0fbbf39-c4dd-4454-f560-c4aa3d615efc"
      },
      "execution_count": 20,
      "outputs": [
        {
          "output_type": "execute_result",
          "data": {
            "text/plain": [
              "1"
            ]
          },
          "metadata": {},
          "execution_count": 20
        }
      ]
    },
    {
      "cell_type": "code",
      "source": [
        "# Mostra os elementos do indice 0 até o valor depois dos dois pontos -1, \n",
        "# ou seja, neste caso 0 até 1\n",
        "tp[0:2]"
      ],
      "metadata": {
        "colab": {
          "base_uri": "https://localhost:8080/"
        },
        "id": "gEKSVvQjl2of",
        "outputId": "7df92f3e-71e0-44a7-aa0d-6be974ae2e66"
      },
      "execution_count": 21,
      "outputs": [
        {
          "output_type": "execute_result",
          "data": {
            "text/plain": [
              "('Banana', 'Maçã')"
            ]
          },
          "metadata": {},
          "execution_count": 21
        }
      ]
    },
    {
      "cell_type": "markdown",
      "source": [
        "**Dicionários:**"
      ],
      "metadata": {
        "id": "miM2GLTOmRHJ"
      }
    },
    {
      "cell_type": "code",
      "source": [
        "# Para criarmos um dicionário usamos as {},\n",
        "# Diciónarios trabalham com o conceito de chave e valor:\n",
        "dc = {\"Maçã\":20, \"Banana\":10, \"Laranja\":15, \"Uva\":5} \n",
        "dc"
      ],
      "metadata": {
        "colab": {
          "base_uri": "https://localhost:8080/"
        },
        "id": "RA9F9q5AmU-x",
        "outputId": "20c62ca4-73f6-4724-ded2-ec9ef299ee3c"
      },
      "execution_count": 22,
      "outputs": [
        {
          "output_type": "execute_result",
          "data": {
            "text/plain": [
              "{'Maçã': 20, 'Banana': 10, 'Laranja': 15, 'Uva': 5}"
            ]
          },
          "metadata": {},
          "execution_count": 22
        }
      ]
    },
    {
      "cell_type": "code",
      "source": [
        "# Acessando o valor de um dicionário através da chave:\n",
        "dc[\"Maçã\"]"
      ],
      "metadata": {
        "colab": {
          "base_uri": "https://localhost:8080/"
        },
        "id": "msiQrhQ1mrRX",
        "outputId": "e65b8ead-8ca9-4885-f752-accff101f5d0"
      },
      "execution_count": 23,
      "outputs": [
        {
          "output_type": "execute_result",
          "data": {
            "text/plain": [
              "20"
            ]
          },
          "metadata": {},
          "execution_count": 23
        }
      ]
    },
    {
      "cell_type": "code",
      "source": [
        "# Atualizando o valor de maçãs:\n",
        "dc[\"Maçã\"] = 25\n",
        "dc\n",
        "dc[\"Maçã\"]"
      ],
      "metadata": {
        "colab": {
          "base_uri": "https://localhost:8080/"
        },
        "id": "dmNtSf3im2iq",
        "outputId": "3089fd6d-ca6c-48f0-f054-de9be45b7c42"
      },
      "execution_count": 24,
      "outputs": [
        {
          "output_type": "execute_result",
          "data": {
            "text/plain": [
              "25"
            ]
          },
          "metadata": {},
          "execution_count": 24
        }
      ]
    },
    {
      "cell_type": "code",
      "source": [
        "# Retornando todas as chaves de um dicionário:\n",
        "dc.keys()"
      ],
      "metadata": {
        "colab": {
          "base_uri": "https://localhost:8080/"
        },
        "id": "-_tv9YrDnDBM",
        "outputId": "2569548a-402e-4f77-a4ba-7fb7d997d338"
      },
      "execution_count": 25,
      "outputs": [
        {
          "output_type": "execute_result",
          "data": {
            "text/plain": [
              "dict_keys(['Maçã', 'Banana', 'Laranja', 'Uva'])"
            ]
          },
          "metadata": {},
          "execution_count": 25
        }
      ]
    },
    {
      "cell_type": "code",
      "source": [
        "# Retornando todos os valores de um dicionário:\n",
        "dc.values()"
      ],
      "metadata": {
        "colab": {
          "base_uri": "https://localhost:8080/"
        },
        "id": "nWgFb8S_nUEb",
        "outputId": "09fb08a7-8f07-4af1-90d1-2993cbf6b9f4"
      },
      "execution_count": 26,
      "outputs": [
        {
          "output_type": "execute_result",
          "data": {
            "text/plain": [
              "dict_values([25, 10, 15, 5])"
            ]
          },
          "metadata": {},
          "execution_count": 26
        }
      ]
    },
    {
      "cell_type": "code",
      "source": [
        "# Verificando se já existe uma chave no dicionário e caso não exista, inserir:\n",
        "dc.setdefault(\"Limão\", 22)\n",
        "dc"
      ],
      "metadata": {
        "colab": {
          "base_uri": "https://localhost:8080/"
        },
        "id": "3k0veUKwngyA",
        "outputId": "143453bb-626e-412e-b2f0-045e6df1e93c"
      },
      "execution_count": 27,
      "outputs": [
        {
          "output_type": "execute_result",
          "data": {
            "text/plain": [
              "{'Maçã': 25, 'Banana': 10, 'Laranja': 15, 'Uva': 5, 'Limão': 22}"
            ]
          },
          "metadata": {},
          "execution_count": 27
        }
      ]
    },
    {
      "cell_type": "markdown",
      "source": [
        "### **Python para análise de dados com Pandas:**"
      ],
      "metadata": {
        "id": "-MQhfp9Jn5Yt"
      }
    },
    {
      "cell_type": "code",
      "source": [
        "# Importando a biblioteca pandas:\n",
        "import pandas as pd"
      ],
      "metadata": {
        "id": "-pUvgBDzoJfa"
      },
      "execution_count": 28,
      "outputs": []
    },
    {
      "cell_type": "code",
      "source": [
        "# Ler o meu arquivo csv criando um dataFrame:\n",
        "df = pd.read_csv(\"/content/drive/MyDrive/Datasets/rankingBrasileirao.csv\", error_bad_lines=False)"
      ],
      "metadata": {
        "id": "nuRWyRS3H35H",
        "colab": {
          "base_uri": "https://localhost:8080/"
        },
        "outputId": "f5bc1c09-ca25-4d21-c00d-0aaa8ac17f70"
      },
      "execution_count": 29,
      "outputs": [
        {
          "output_type": "stream",
          "name": "stderr",
          "text": [
            "/usr/local/lib/python3.7/dist-packages/IPython/core/interactiveshell.py:3326: FutureWarning: The error_bad_lines argument has been deprecated and will be removed in a future version.\n",
            "\n",
            "\n",
            "  exec(code_obj, self.user_global_ns, self.user_ns)\n"
          ]
        }
      ]
    },
    {
      "cell_type": "code",
      "source": [
        "# Visualizando as 10 primeiras linhas:\n",
        "df.head(10)"
      ],
      "metadata": {
        "colab": {
          "base_uri": "https://localhost:8080/",
          "height": 528
        },
        "id": "7c9rIzJ8IcXV",
        "outputId": "3c1f2403-0795-4de8-b1f2-f3698913306b"
      },
      "execution_count": 30,
      "outputs": [
        {
          "output_type": "execute_result",
          "data": {
            "text/plain": [
              "   Posição           Equipes             Estado          Cidade  Temporadas  \\\n",
              "0        1         São Paulo          São Paulo       São Paulo          19   \n",
              "1        2          Flamengo     Rio de Janeiro  Rio de Janeiro          19   \n",
              "2        3            Santos          São Paulo          Santos          19   \n",
              "3        4       Corinthians          São Paulo       São Paulo          18   \n",
              "4        5     Internacional  Rio Grande do Sul    Porto Alegre          18   \n",
              "5        6            Grêmio  Rio Grande do Sul    Porto Alegre          18   \n",
              "6        7  Atlético Mineiro       Minas Gerais  Belo Horizonte          18   \n",
              "7        8        Fluminense     Rio de Janeiro  Rio de Janeiro          19   \n",
              "8        9          Cruzeiro       Minas Gerais  Belo Horizonte          17   \n",
              "9       10         Palmeiras          São Paulo       São Paulo          17   \n",
              "\n",
              "   Pontos  Jogos  Vitórias  Empates  Derrotas    GP   GC   SG  \\\n",
              "0    1217    742       338      203       201  1068  799  269   \n",
              "1    1151    742       317      204       221  1053  881  172   \n",
              "2    1147    742       317      196       229  1095  877  218   \n",
              "3    1094    704       296      204       204   908  748  160   \n",
              "4    1093    704       304      179       221   938  777  161   \n",
              "5    1065    700       295      180       225   956  778  178   \n",
              "6    1056    704       293      177       234  1034  912  122   \n",
              "7    1055    742       285      198       259   984  944   40   \n",
              "8    1030    666       293      151       222   978  818  160   \n",
              "9    1026    658       286      168       204   947  780  167   \n",
              "\n",
              "   Número de vezes que ganhou  Número de vezes que foi rebaixado  \\\n",
              "0                           3                                  0   \n",
              "1                           3                                  0   \n",
              "2                           1                                  0   \n",
              "3                           4                                  1   \n",
              "4                           0                                  1   \n",
              "5                           0                                  2   \n",
              "6                           1                                  1   \n",
              "7                           2                                  0   \n",
              "8                           3                                  1   \n",
              "9                           2                                  1   \n",
              "\n",
              "  Melhor colocação  \n",
              "0               1º  \n",
              "1               1º  \n",
              "2               1º  \n",
              "3               1º  \n",
              "4               2º  \n",
              "5               2º  \n",
              "6               1º  \n",
              "7               1º  \n",
              "8               1º  \n",
              "9               1º  "
            ],
            "text/html": [
              "\n",
              "  <div id=\"df-9992b8ae-6674-45f7-a425-6f52ff4bed00\">\n",
              "    <div class=\"colab-df-container\">\n",
              "      <div>\n",
              "<style scoped>\n",
              "    .dataframe tbody tr th:only-of-type {\n",
              "        vertical-align: middle;\n",
              "    }\n",
              "\n",
              "    .dataframe tbody tr th {\n",
              "        vertical-align: top;\n",
              "    }\n",
              "\n",
              "    .dataframe thead th {\n",
              "        text-align: right;\n",
              "    }\n",
              "</style>\n",
              "<table border=\"1\" class=\"dataframe\">\n",
              "  <thead>\n",
              "    <tr style=\"text-align: right;\">\n",
              "      <th></th>\n",
              "      <th>Posição</th>\n",
              "      <th>Equipes</th>\n",
              "      <th>Estado</th>\n",
              "      <th>Cidade</th>\n",
              "      <th>Temporadas</th>\n",
              "      <th>Pontos</th>\n",
              "      <th>Jogos</th>\n",
              "      <th>Vitórias</th>\n",
              "      <th>Empates</th>\n",
              "      <th>Derrotas</th>\n",
              "      <th>GP</th>\n",
              "      <th>GC</th>\n",
              "      <th>SG</th>\n",
              "      <th>Número de vezes que ganhou</th>\n",
              "      <th>Número de vezes que foi rebaixado</th>\n",
              "      <th>Melhor colocação</th>\n",
              "    </tr>\n",
              "  </thead>\n",
              "  <tbody>\n",
              "    <tr>\n",
              "      <th>0</th>\n",
              "      <td>1</td>\n",
              "      <td>São Paulo</td>\n",
              "      <td>São Paulo</td>\n",
              "      <td>São Paulo</td>\n",
              "      <td>19</td>\n",
              "      <td>1217</td>\n",
              "      <td>742</td>\n",
              "      <td>338</td>\n",
              "      <td>203</td>\n",
              "      <td>201</td>\n",
              "      <td>1068</td>\n",
              "      <td>799</td>\n",
              "      <td>269</td>\n",
              "      <td>3</td>\n",
              "      <td>0</td>\n",
              "      <td>1º</td>\n",
              "    </tr>\n",
              "    <tr>\n",
              "      <th>1</th>\n",
              "      <td>2</td>\n",
              "      <td>Flamengo</td>\n",
              "      <td>Rio de Janeiro</td>\n",
              "      <td>Rio de Janeiro</td>\n",
              "      <td>19</td>\n",
              "      <td>1151</td>\n",
              "      <td>742</td>\n",
              "      <td>317</td>\n",
              "      <td>204</td>\n",
              "      <td>221</td>\n",
              "      <td>1053</td>\n",
              "      <td>881</td>\n",
              "      <td>172</td>\n",
              "      <td>3</td>\n",
              "      <td>0</td>\n",
              "      <td>1º</td>\n",
              "    </tr>\n",
              "    <tr>\n",
              "      <th>2</th>\n",
              "      <td>3</td>\n",
              "      <td>Santos</td>\n",
              "      <td>São Paulo</td>\n",
              "      <td>Santos</td>\n",
              "      <td>19</td>\n",
              "      <td>1147</td>\n",
              "      <td>742</td>\n",
              "      <td>317</td>\n",
              "      <td>196</td>\n",
              "      <td>229</td>\n",
              "      <td>1095</td>\n",
              "      <td>877</td>\n",
              "      <td>218</td>\n",
              "      <td>1</td>\n",
              "      <td>0</td>\n",
              "      <td>1º</td>\n",
              "    </tr>\n",
              "    <tr>\n",
              "      <th>3</th>\n",
              "      <td>4</td>\n",
              "      <td>Corinthians</td>\n",
              "      <td>São Paulo</td>\n",
              "      <td>São Paulo</td>\n",
              "      <td>18</td>\n",
              "      <td>1094</td>\n",
              "      <td>704</td>\n",
              "      <td>296</td>\n",
              "      <td>204</td>\n",
              "      <td>204</td>\n",
              "      <td>908</td>\n",
              "      <td>748</td>\n",
              "      <td>160</td>\n",
              "      <td>4</td>\n",
              "      <td>1</td>\n",
              "      <td>1º</td>\n",
              "    </tr>\n",
              "    <tr>\n",
              "      <th>4</th>\n",
              "      <td>5</td>\n",
              "      <td>Internacional</td>\n",
              "      <td>Rio Grande do Sul</td>\n",
              "      <td>Porto Alegre</td>\n",
              "      <td>18</td>\n",
              "      <td>1093</td>\n",
              "      <td>704</td>\n",
              "      <td>304</td>\n",
              "      <td>179</td>\n",
              "      <td>221</td>\n",
              "      <td>938</td>\n",
              "      <td>777</td>\n",
              "      <td>161</td>\n",
              "      <td>0</td>\n",
              "      <td>1</td>\n",
              "      <td>2º</td>\n",
              "    </tr>\n",
              "    <tr>\n",
              "      <th>5</th>\n",
              "      <td>6</td>\n",
              "      <td>Grêmio</td>\n",
              "      <td>Rio Grande do Sul</td>\n",
              "      <td>Porto Alegre</td>\n",
              "      <td>18</td>\n",
              "      <td>1065</td>\n",
              "      <td>700</td>\n",
              "      <td>295</td>\n",
              "      <td>180</td>\n",
              "      <td>225</td>\n",
              "      <td>956</td>\n",
              "      <td>778</td>\n",
              "      <td>178</td>\n",
              "      <td>0</td>\n",
              "      <td>2</td>\n",
              "      <td>2º</td>\n",
              "    </tr>\n",
              "    <tr>\n",
              "      <th>6</th>\n",
              "      <td>7</td>\n",
              "      <td>Atlético Mineiro</td>\n",
              "      <td>Minas Gerais</td>\n",
              "      <td>Belo Horizonte</td>\n",
              "      <td>18</td>\n",
              "      <td>1056</td>\n",
              "      <td>704</td>\n",
              "      <td>293</td>\n",
              "      <td>177</td>\n",
              "      <td>234</td>\n",
              "      <td>1034</td>\n",
              "      <td>912</td>\n",
              "      <td>122</td>\n",
              "      <td>1</td>\n",
              "      <td>1</td>\n",
              "      <td>1º</td>\n",
              "    </tr>\n",
              "    <tr>\n",
              "      <th>7</th>\n",
              "      <td>8</td>\n",
              "      <td>Fluminense</td>\n",
              "      <td>Rio de Janeiro</td>\n",
              "      <td>Rio de Janeiro</td>\n",
              "      <td>19</td>\n",
              "      <td>1055</td>\n",
              "      <td>742</td>\n",
              "      <td>285</td>\n",
              "      <td>198</td>\n",
              "      <td>259</td>\n",
              "      <td>984</td>\n",
              "      <td>944</td>\n",
              "      <td>40</td>\n",
              "      <td>2</td>\n",
              "      <td>0</td>\n",
              "      <td>1º</td>\n",
              "    </tr>\n",
              "    <tr>\n",
              "      <th>8</th>\n",
              "      <td>9</td>\n",
              "      <td>Cruzeiro</td>\n",
              "      <td>Minas Gerais</td>\n",
              "      <td>Belo Horizonte</td>\n",
              "      <td>17</td>\n",
              "      <td>1030</td>\n",
              "      <td>666</td>\n",
              "      <td>293</td>\n",
              "      <td>151</td>\n",
              "      <td>222</td>\n",
              "      <td>978</td>\n",
              "      <td>818</td>\n",
              "      <td>160</td>\n",
              "      <td>3</td>\n",
              "      <td>1</td>\n",
              "      <td>1º</td>\n",
              "    </tr>\n",
              "    <tr>\n",
              "      <th>9</th>\n",
              "      <td>10</td>\n",
              "      <td>Palmeiras</td>\n",
              "      <td>São Paulo</td>\n",
              "      <td>São Paulo</td>\n",
              "      <td>17</td>\n",
              "      <td>1026</td>\n",
              "      <td>658</td>\n",
              "      <td>286</td>\n",
              "      <td>168</td>\n",
              "      <td>204</td>\n",
              "      <td>947</td>\n",
              "      <td>780</td>\n",
              "      <td>167</td>\n",
              "      <td>2</td>\n",
              "      <td>1</td>\n",
              "      <td>1º</td>\n",
              "    </tr>\n",
              "  </tbody>\n",
              "</table>\n",
              "</div>\n",
              "      <button class=\"colab-df-convert\" onclick=\"convertToInteractive('df-9992b8ae-6674-45f7-a425-6f52ff4bed00')\"\n",
              "              title=\"Convert this dataframe to an interactive table.\"\n",
              "              style=\"display:none;\">\n",
              "        \n",
              "  <svg xmlns=\"http://www.w3.org/2000/svg\" height=\"24px\"viewBox=\"0 0 24 24\"\n",
              "       width=\"24px\">\n",
              "    <path d=\"M0 0h24v24H0V0z\" fill=\"none\"/>\n",
              "    <path d=\"M18.56 5.44l.94 2.06.94-2.06 2.06-.94-2.06-.94-.94-2.06-.94 2.06-2.06.94zm-11 1L8.5 8.5l.94-2.06 2.06-.94-2.06-.94L8.5 2.5l-.94 2.06-2.06.94zm10 10l.94 2.06.94-2.06 2.06-.94-2.06-.94-.94-2.06-.94 2.06-2.06.94z\"/><path d=\"M17.41 7.96l-1.37-1.37c-.4-.4-.92-.59-1.43-.59-.52 0-1.04.2-1.43.59L10.3 9.45l-7.72 7.72c-.78.78-.78 2.05 0 2.83L4 21.41c.39.39.9.59 1.41.59.51 0 1.02-.2 1.41-.59l7.78-7.78 2.81-2.81c.8-.78.8-2.07 0-2.86zM5.41 20L4 18.59l7.72-7.72 1.47 1.35L5.41 20z\"/>\n",
              "  </svg>\n",
              "      </button>\n",
              "      \n",
              "  <style>\n",
              "    .colab-df-container {\n",
              "      display:flex;\n",
              "      flex-wrap:wrap;\n",
              "      gap: 12px;\n",
              "    }\n",
              "\n",
              "    .colab-df-convert {\n",
              "      background-color: #E8F0FE;\n",
              "      border: none;\n",
              "      border-radius: 50%;\n",
              "      cursor: pointer;\n",
              "      display: none;\n",
              "      fill: #1967D2;\n",
              "      height: 32px;\n",
              "      padding: 0 0 0 0;\n",
              "      width: 32px;\n",
              "    }\n",
              "\n",
              "    .colab-df-convert:hover {\n",
              "      background-color: #E2EBFA;\n",
              "      box-shadow: 0px 1px 2px rgba(60, 64, 67, 0.3), 0px 1px 3px 1px rgba(60, 64, 67, 0.15);\n",
              "      fill: #174EA6;\n",
              "    }\n",
              "\n",
              "    [theme=dark] .colab-df-convert {\n",
              "      background-color: #3B4455;\n",
              "      fill: #D2E3FC;\n",
              "    }\n",
              "\n",
              "    [theme=dark] .colab-df-convert:hover {\n",
              "      background-color: #434B5C;\n",
              "      box-shadow: 0px 1px 3px 1px rgba(0, 0, 0, 0.15);\n",
              "      filter: drop-shadow(0px 1px 2px rgba(0, 0, 0, 0.3));\n",
              "      fill: #FFFFFF;\n",
              "    }\n",
              "  </style>\n",
              "\n",
              "      <script>\n",
              "        const buttonEl =\n",
              "          document.querySelector('#df-9992b8ae-6674-45f7-a425-6f52ff4bed00 button.colab-df-convert');\n",
              "        buttonEl.style.display =\n",
              "          google.colab.kernel.accessAllowed ? 'block' : 'none';\n",
              "\n",
              "        async function convertToInteractive(key) {\n",
              "          const element = document.querySelector('#df-9992b8ae-6674-45f7-a425-6f52ff4bed00');\n",
              "          const dataTable =\n",
              "            await google.colab.kernel.invokeFunction('convertToInteractive',\n",
              "                                                     [key], {});\n",
              "          if (!dataTable) return;\n",
              "\n",
              "          const docLinkHtml = 'Like what you see? Visit the ' +\n",
              "            '<a target=\"_blank\" href=https://colab.research.google.com/notebooks/data_table.ipynb>data table notebook</a>'\n",
              "            + ' to learn more about interactive tables.';\n",
              "          element.innerHTML = '';\n",
              "          dataTable['output_type'] = 'display_data';\n",
              "          await google.colab.output.renderOutput(dataTable, element);\n",
              "          const docLink = document.createElement('div');\n",
              "          docLink.innerHTML = docLinkHtml;\n",
              "          element.appendChild(docLink);\n",
              "        }\n",
              "      </script>\n",
              "    </div>\n",
              "  </div>\n",
              "  "
            ]
          },
          "metadata": {},
          "execution_count": 30
        }
      ]
    },
    {
      "cell_type": "code",
      "source": [
        "# Retornar o total de linhas e colunas no nosso conjunto de dados:\n",
        "df.shape"
      ],
      "metadata": {
        "colab": {
          "base_uri": "https://localhost:8080/"
        },
        "id": "sR_KxatwIj9C",
        "outputId": "f188fe9d-d5f8-4d87-a268-00fd84e40afa"
      },
      "execution_count": 31,
      "outputs": [
        {
          "output_type": "execute_result",
          "data": {
            "text/plain": [
              "(44, 16)"
            ]
          },
          "metadata": {},
          "execution_count": 31
        }
      ]
    },
    {
      "cell_type": "code",
      "source": [
        "# Retorna os nomes das colunas:\n",
        "df.columns"
      ],
      "metadata": {
        "colab": {
          "base_uri": "https://localhost:8080/"
        },
        "id": "5bixBYQ0OjUL",
        "outputId": "4808bac9-fa7c-40bf-c899-9bc54e28e79b"
      },
      "execution_count": 32,
      "outputs": [
        {
          "output_type": "execute_result",
          "data": {
            "text/plain": [
              "Index(['Posição', 'Equipes', 'Estado', 'Cidade', 'Temporadas', 'Pontos',\n",
              "       'Jogos', 'Vitórias', 'Empates', 'Derrotas', 'GP', 'GC', 'SG',\n",
              "       'Número de vezes que ganhou', 'Número de vezes que foi rebaixado',\n",
              "       'Melhor colocação'],\n",
              "      dtype='object')"
            ]
          },
          "metadata": {},
          "execution_count": 32
        }
      ]
    },
    {
      "cell_type": "code",
      "source": [
        "# Tipo de dado em cada coluna:\n",
        "df.dtypes"
      ],
      "metadata": {
        "colab": {
          "base_uri": "https://localhost:8080/"
        },
        "id": "L8D2QVaNOw7w",
        "outputId": "a2620eda-2f3d-4d9f-82e7-03d2af919129"
      },
      "execution_count": 33,
      "outputs": [
        {
          "output_type": "execute_result",
          "data": {
            "text/plain": [
              "Posição                               int64\n",
              "Equipes                              object\n",
              "Estado                               object\n",
              "Cidade                               object\n",
              "Temporadas                            int64\n",
              "Pontos                                int64\n",
              "Jogos                                 int64\n",
              "Vitórias                              int64\n",
              "Empates                               int64\n",
              "Derrotas                              int64\n",
              "GP                                    int64\n",
              "GC                                    int64\n",
              "SG                                    int64\n",
              "Número de vezes que ganhou            int64\n",
              "Número de vezes que foi rebaixado     int64\n",
              "Melhor colocação                     object\n",
              "dtype: object"
            ]
          },
          "metadata": {},
          "execution_count": 33
        }
      ]
    },
    {
      "cell_type": "code",
      "source": [
        "# Retornar as 10 últimas linhas:\n",
        "df.tail(10)"
      ],
      "metadata": {
        "colab": {
          "base_uri": "https://localhost:8080/",
          "height": 459
        },
        "id": "At6HRyI5O8Ss",
        "outputId": "33fb4810-eff6-4d55-e1d7-287b8edaba55"
      },
      "execution_count": 34,
      "outputs": [
        {
          "output_type": "execute_result",
          "data": {
            "text/plain": [
              "    Posição              Equipes               Estado           Cidade  \\\n",
              "34       35  Red Bull Bragantino            São Paulo  Brança Paulista   \n",
              "35       36       Grêmio Barueri            São Paulo          Barueri   \n",
              "36       37           Santa Cruz           Pernambuco           Recife   \n",
              "37       38               Cuiabá          Mato Grosso           Cuiabá   \n",
              "38       39          Santo André            São Paulo      Santo André   \n",
              "39       40          Brasiliense       Distro Federal       Taguatinga   \n",
              "40       41             Ipatinga         Minas Gerais         Ipatinga   \n",
              "41       42                  CSA              Alagoas           Maceió   \n",
              "42       43            Joinville       Santa Catarina        Joinville   \n",
              "43       44     América de Natal  Rio Grande do Norte            Natal   \n",
              "\n",
              "    Temporadas  Pontos  Jogos  Vitórias  Empates  Derrotas   GP   GC  SG  \\\n",
              "34           2     109     76        27       28        21  105   86  19   \n",
              "35           2      77     76        19       23        34   98  116 -18   \n",
              "36           2      56     76        15       14        47   86  145 -59   \n",
              "37           1      47     38        10       17        11   34   37  -3   \n",
              "38           1      41     38        11        8        19   46   61 -15   \n",
              "39           1      41     42        10       11        21   47   67 -20   \n",
              "40           1      35     38         9        8        21   37   67 -30   \n",
              "41           1      32     38         8        8        22   24   58 -34   \n",
              "42           1      31     38         7       10        21   26   48 -22   \n",
              "43           1      17     38         4        5        29   24   80 -56   \n",
              "\n",
              "    Número de vezes que ganhou  Número de vezes que foi rebaixado  \\\n",
              "34                           0                                  0   \n",
              "35                           0                                  1   \n",
              "36                           0                                  2   \n",
              "37                           0                                  0   \n",
              "38                           0                                  1   \n",
              "39                           0                                  1   \n",
              "40                           0                                  1   \n",
              "41                           0                                  1   \n",
              "42                           0                                  1   \n",
              "43                           0                                  1   \n",
              "\n",
              "   Melhor colocação  \n",
              "34               6º  \n",
              "35              11º  \n",
              "36              19º  \n",
              "37              15º  \n",
              "38              18º  \n",
              "39              22º  \n",
              "40              20º  \n",
              "41              18º  \n",
              "42              20º  \n",
              "43              20º  "
            ],
            "text/html": [
              "\n",
              "  <div id=\"df-aefc571f-d89b-482d-b3b3-a3817087c07c\">\n",
              "    <div class=\"colab-df-container\">\n",
              "      <div>\n",
              "<style scoped>\n",
              "    .dataframe tbody tr th:only-of-type {\n",
              "        vertical-align: middle;\n",
              "    }\n",
              "\n",
              "    .dataframe tbody tr th {\n",
              "        vertical-align: top;\n",
              "    }\n",
              "\n",
              "    .dataframe thead th {\n",
              "        text-align: right;\n",
              "    }\n",
              "</style>\n",
              "<table border=\"1\" class=\"dataframe\">\n",
              "  <thead>\n",
              "    <tr style=\"text-align: right;\">\n",
              "      <th></th>\n",
              "      <th>Posição</th>\n",
              "      <th>Equipes</th>\n",
              "      <th>Estado</th>\n",
              "      <th>Cidade</th>\n",
              "      <th>Temporadas</th>\n",
              "      <th>Pontos</th>\n",
              "      <th>Jogos</th>\n",
              "      <th>Vitórias</th>\n",
              "      <th>Empates</th>\n",
              "      <th>Derrotas</th>\n",
              "      <th>GP</th>\n",
              "      <th>GC</th>\n",
              "      <th>SG</th>\n",
              "      <th>Número de vezes que ganhou</th>\n",
              "      <th>Número de vezes que foi rebaixado</th>\n",
              "      <th>Melhor colocação</th>\n",
              "    </tr>\n",
              "  </thead>\n",
              "  <tbody>\n",
              "    <tr>\n",
              "      <th>34</th>\n",
              "      <td>35</td>\n",
              "      <td>Red Bull Bragantino</td>\n",
              "      <td>São Paulo</td>\n",
              "      <td>Brança Paulista</td>\n",
              "      <td>2</td>\n",
              "      <td>109</td>\n",
              "      <td>76</td>\n",
              "      <td>27</td>\n",
              "      <td>28</td>\n",
              "      <td>21</td>\n",
              "      <td>105</td>\n",
              "      <td>86</td>\n",
              "      <td>19</td>\n",
              "      <td>0</td>\n",
              "      <td>0</td>\n",
              "      <td>6º</td>\n",
              "    </tr>\n",
              "    <tr>\n",
              "      <th>35</th>\n",
              "      <td>36</td>\n",
              "      <td>Grêmio Barueri</td>\n",
              "      <td>São Paulo</td>\n",
              "      <td>Barueri</td>\n",
              "      <td>2</td>\n",
              "      <td>77</td>\n",
              "      <td>76</td>\n",
              "      <td>19</td>\n",
              "      <td>23</td>\n",
              "      <td>34</td>\n",
              "      <td>98</td>\n",
              "      <td>116</td>\n",
              "      <td>-18</td>\n",
              "      <td>0</td>\n",
              "      <td>1</td>\n",
              "      <td>11º</td>\n",
              "    </tr>\n",
              "    <tr>\n",
              "      <th>36</th>\n",
              "      <td>37</td>\n",
              "      <td>Santa Cruz</td>\n",
              "      <td>Pernambuco</td>\n",
              "      <td>Recife</td>\n",
              "      <td>2</td>\n",
              "      <td>56</td>\n",
              "      <td>76</td>\n",
              "      <td>15</td>\n",
              "      <td>14</td>\n",
              "      <td>47</td>\n",
              "      <td>86</td>\n",
              "      <td>145</td>\n",
              "      <td>-59</td>\n",
              "      <td>0</td>\n",
              "      <td>2</td>\n",
              "      <td>19º</td>\n",
              "    </tr>\n",
              "    <tr>\n",
              "      <th>37</th>\n",
              "      <td>38</td>\n",
              "      <td>Cuiabá</td>\n",
              "      <td>Mato Grosso</td>\n",
              "      <td>Cuiabá</td>\n",
              "      <td>1</td>\n",
              "      <td>47</td>\n",
              "      <td>38</td>\n",
              "      <td>10</td>\n",
              "      <td>17</td>\n",
              "      <td>11</td>\n",
              "      <td>34</td>\n",
              "      <td>37</td>\n",
              "      <td>-3</td>\n",
              "      <td>0</td>\n",
              "      <td>0</td>\n",
              "      <td>15º</td>\n",
              "    </tr>\n",
              "    <tr>\n",
              "      <th>38</th>\n",
              "      <td>39</td>\n",
              "      <td>Santo André</td>\n",
              "      <td>São Paulo</td>\n",
              "      <td>Santo André</td>\n",
              "      <td>1</td>\n",
              "      <td>41</td>\n",
              "      <td>38</td>\n",
              "      <td>11</td>\n",
              "      <td>8</td>\n",
              "      <td>19</td>\n",
              "      <td>46</td>\n",
              "      <td>61</td>\n",
              "      <td>-15</td>\n",
              "      <td>0</td>\n",
              "      <td>1</td>\n",
              "      <td>18º</td>\n",
              "    </tr>\n",
              "    <tr>\n",
              "      <th>39</th>\n",
              "      <td>40</td>\n",
              "      <td>Brasiliense</td>\n",
              "      <td>Distro Federal</td>\n",
              "      <td>Taguatinga</td>\n",
              "      <td>1</td>\n",
              "      <td>41</td>\n",
              "      <td>42</td>\n",
              "      <td>10</td>\n",
              "      <td>11</td>\n",
              "      <td>21</td>\n",
              "      <td>47</td>\n",
              "      <td>67</td>\n",
              "      <td>-20</td>\n",
              "      <td>0</td>\n",
              "      <td>1</td>\n",
              "      <td>22º</td>\n",
              "    </tr>\n",
              "    <tr>\n",
              "      <th>40</th>\n",
              "      <td>41</td>\n",
              "      <td>Ipatinga</td>\n",
              "      <td>Minas Gerais</td>\n",
              "      <td>Ipatinga</td>\n",
              "      <td>1</td>\n",
              "      <td>35</td>\n",
              "      <td>38</td>\n",
              "      <td>9</td>\n",
              "      <td>8</td>\n",
              "      <td>21</td>\n",
              "      <td>37</td>\n",
              "      <td>67</td>\n",
              "      <td>-30</td>\n",
              "      <td>0</td>\n",
              "      <td>1</td>\n",
              "      <td>20º</td>\n",
              "    </tr>\n",
              "    <tr>\n",
              "      <th>41</th>\n",
              "      <td>42</td>\n",
              "      <td>CSA</td>\n",
              "      <td>Alagoas</td>\n",
              "      <td>Maceió</td>\n",
              "      <td>1</td>\n",
              "      <td>32</td>\n",
              "      <td>38</td>\n",
              "      <td>8</td>\n",
              "      <td>8</td>\n",
              "      <td>22</td>\n",
              "      <td>24</td>\n",
              "      <td>58</td>\n",
              "      <td>-34</td>\n",
              "      <td>0</td>\n",
              "      <td>1</td>\n",
              "      <td>18º</td>\n",
              "    </tr>\n",
              "    <tr>\n",
              "      <th>42</th>\n",
              "      <td>43</td>\n",
              "      <td>Joinville</td>\n",
              "      <td>Santa Catarina</td>\n",
              "      <td>Joinville</td>\n",
              "      <td>1</td>\n",
              "      <td>31</td>\n",
              "      <td>38</td>\n",
              "      <td>7</td>\n",
              "      <td>10</td>\n",
              "      <td>21</td>\n",
              "      <td>26</td>\n",
              "      <td>48</td>\n",
              "      <td>-22</td>\n",
              "      <td>0</td>\n",
              "      <td>1</td>\n",
              "      <td>20º</td>\n",
              "    </tr>\n",
              "    <tr>\n",
              "      <th>43</th>\n",
              "      <td>44</td>\n",
              "      <td>América de Natal</td>\n",
              "      <td>Rio Grande do Norte</td>\n",
              "      <td>Natal</td>\n",
              "      <td>1</td>\n",
              "      <td>17</td>\n",
              "      <td>38</td>\n",
              "      <td>4</td>\n",
              "      <td>5</td>\n",
              "      <td>29</td>\n",
              "      <td>24</td>\n",
              "      <td>80</td>\n",
              "      <td>-56</td>\n",
              "      <td>0</td>\n",
              "      <td>1</td>\n",
              "      <td>20º</td>\n",
              "    </tr>\n",
              "  </tbody>\n",
              "</table>\n",
              "</div>\n",
              "      <button class=\"colab-df-convert\" onclick=\"convertToInteractive('df-aefc571f-d89b-482d-b3b3-a3817087c07c')\"\n",
              "              title=\"Convert this dataframe to an interactive table.\"\n",
              "              style=\"display:none;\">\n",
              "        \n",
              "  <svg xmlns=\"http://www.w3.org/2000/svg\" height=\"24px\"viewBox=\"0 0 24 24\"\n",
              "       width=\"24px\">\n",
              "    <path d=\"M0 0h24v24H0V0z\" fill=\"none\"/>\n",
              "    <path d=\"M18.56 5.44l.94 2.06.94-2.06 2.06-.94-2.06-.94-.94-2.06-.94 2.06-2.06.94zm-11 1L8.5 8.5l.94-2.06 2.06-.94-2.06-.94L8.5 2.5l-.94 2.06-2.06.94zm10 10l.94 2.06.94-2.06 2.06-.94-2.06-.94-.94-2.06-.94 2.06-2.06.94z\"/><path d=\"M17.41 7.96l-1.37-1.37c-.4-.4-.92-.59-1.43-.59-.52 0-1.04.2-1.43.59L10.3 9.45l-7.72 7.72c-.78.78-.78 2.05 0 2.83L4 21.41c.39.39.9.59 1.41.59.51 0 1.02-.2 1.41-.59l7.78-7.78 2.81-2.81c.8-.78.8-2.07 0-2.86zM5.41 20L4 18.59l7.72-7.72 1.47 1.35L5.41 20z\"/>\n",
              "  </svg>\n",
              "      </button>\n",
              "      \n",
              "  <style>\n",
              "    .colab-df-container {\n",
              "      display:flex;\n",
              "      flex-wrap:wrap;\n",
              "      gap: 12px;\n",
              "    }\n",
              "\n",
              "    .colab-df-convert {\n",
              "      background-color: #E8F0FE;\n",
              "      border: none;\n",
              "      border-radius: 50%;\n",
              "      cursor: pointer;\n",
              "      display: none;\n",
              "      fill: #1967D2;\n",
              "      height: 32px;\n",
              "      padding: 0 0 0 0;\n",
              "      width: 32px;\n",
              "    }\n",
              "\n",
              "    .colab-df-convert:hover {\n",
              "      background-color: #E2EBFA;\n",
              "      box-shadow: 0px 1px 2px rgba(60, 64, 67, 0.3), 0px 1px 3px 1px rgba(60, 64, 67, 0.15);\n",
              "      fill: #174EA6;\n",
              "    }\n",
              "\n",
              "    [theme=dark] .colab-df-convert {\n",
              "      background-color: #3B4455;\n",
              "      fill: #D2E3FC;\n",
              "    }\n",
              "\n",
              "    [theme=dark] .colab-df-convert:hover {\n",
              "      background-color: #434B5C;\n",
              "      box-shadow: 0px 1px 3px 1px rgba(0, 0, 0, 0.15);\n",
              "      filter: drop-shadow(0px 1px 2px rgba(0, 0, 0, 0.3));\n",
              "      fill: #FFFFFF;\n",
              "    }\n",
              "  </style>\n",
              "\n",
              "      <script>\n",
              "        const buttonEl =\n",
              "          document.querySelector('#df-aefc571f-d89b-482d-b3b3-a3817087c07c button.colab-df-convert');\n",
              "        buttonEl.style.display =\n",
              "          google.colab.kernel.accessAllowed ? 'block' : 'none';\n",
              "\n",
              "        async function convertToInteractive(key) {\n",
              "          const element = document.querySelector('#df-aefc571f-d89b-482d-b3b3-a3817087c07c');\n",
              "          const dataTable =\n",
              "            await google.colab.kernel.invokeFunction('convertToInteractive',\n",
              "                                                     [key], {});\n",
              "          if (!dataTable) return;\n",
              "\n",
              "          const docLinkHtml = 'Like what you see? Visit the ' +\n",
              "            '<a target=\"_blank\" href=https://colab.research.google.com/notebooks/data_table.ipynb>data table notebook</a>'\n",
              "            + ' to learn more about interactive tables.';\n",
              "          element.innerHTML = '';\n",
              "          dataTable['output_type'] = 'display_data';\n",
              "          await google.colab.output.renderOutput(dataTable, element);\n",
              "          const docLink = document.createElement('div');\n",
              "          docLink.innerHTML = docLinkHtml;\n",
              "          element.appendChild(docLink);\n",
              "        }\n",
              "      </script>\n",
              "    </div>\n",
              "  </div>\n",
              "  "
            ]
          },
          "metadata": {},
          "execution_count": 34
        }
      ]
    },
    {
      "cell_type": "code",
      "source": [
        "# Verificar quais estados eu tenho na minha base:\n",
        "df[\"Estado\"].unique()"
      ],
      "metadata": {
        "colab": {
          "base_uri": "https://localhost:8080/"
        },
        "id": "2_rpmuHbQAxN",
        "outputId": "61ebd55a-2187-4291-a8f7-229c8c18a63b"
      },
      "execution_count": 35,
      "outputs": [
        {
          "output_type": "execute_result",
          "data": {
            "text/plain": [
              "array(['São Paulo', 'Rio de Janeiro', 'Rio Grande do Sul', 'Minas Gerais',\n",
              "       'Paraná', 'Goiás', 'Santa Catarina', 'Pernambuco', 'Salvador',\n",
              "       'Ceará', 'Pará', 'Mato Grosso', 'Distro Federal', 'Alagoas',\n",
              "       'Rio Grande do Norte'], dtype=object)"
            ]
          },
          "metadata": {},
          "execution_count": 35
        }
      ]
    },
    {
      "cell_type": "code",
      "source": [
        "# Retornar apenas os valores de um estado:\n",
        "SP = df.loc[df[\"Estado\"] == \"São Paulo\"]\n",
        "\n",
        "# Ver a variável SP:\n",
        "SP"
      ],
      "metadata": {
        "colab": {
          "base_uri": "https://localhost:8080/",
          "height": 646
        },
        "id": "eWT63iSbQLP8",
        "outputId": "7a96303d-6d2c-4515-cf45-11ef30dce54b"
      },
      "execution_count": 36,
      "outputs": [
        {
          "output_type": "execute_result",
          "data": {
            "text/plain": [
              "    Posição              Equipes     Estado              Cidade  Temporadas  \\\n",
              "0         1            São Paulo  São Paulo           São Paulo          19   \n",
              "2         3               Santos  São Paulo              Santos          19   \n",
              "3         4          Corinthians  São Paulo           São Paulo          18   \n",
              "9        10            Palmeiras  São Paulo           São Paulo          17   \n",
              "19       20          Ponte Preta  São Paulo            Campinas           9   \n",
              "27       28          São Caetano  São Paulo  São Caetano do Sul           4   \n",
              "31       32              Guarani  São Paulo            Campinas           3   \n",
              "33       34           Portuguesa  São Paulo           São Paulo           3   \n",
              "34       35  Red Bull Bragantino  São Paulo     Brança Paulista           2   \n",
              "35       36       Grêmio Barueri  São Paulo             Barueri           2   \n",
              "38       39          Santo André  São Paulo         Santo André           1   \n",
              "\n",
              "    Pontos  Jogos  Vitórias  Empates  Derrotas    GP   GC   SG  \\\n",
              "0     1217    742       338      203       201  1068  799  269   \n",
              "2     1147    742       317      196       229  1095  877  218   \n",
              "3     1094    704       296      204       204   908  748  160   \n",
              "9     1026    658       286      168       204   947  780  167   \n",
              "19     432    362       114       91       157   414  534 -120   \n",
              "27     215    172        65       41        66   209  199   10   \n",
              "31     147    130        36       39        55   140  180  -40   \n",
              "33     127    114        31       38        45   137  157  -20   \n",
              "34     109     76        27       28        21   105   86   19   \n",
              "35      77     76        19       23        34    98  116  -18   \n",
              "38      41     38        11        8        19    46   61  -15   \n",
              "\n",
              "    Número de vezes que ganhou  Número de vezes que foi rebaixado  \\\n",
              "0                            3                                  0   \n",
              "2                            1                                  0   \n",
              "3                            4                                  1   \n",
              "9                            2                                  1   \n",
              "19                           0                                  3   \n",
              "27                           0                                  1   \n",
              "31                           0                                  2   \n",
              "33                           0                                  2   \n",
              "34                           0                                  0   \n",
              "35                           0                                  1   \n",
              "38                           0                                  1   \n",
              "\n",
              "   Melhor colocação  \n",
              "0                1º  \n",
              "2                1º  \n",
              "3                1º  \n",
              "9                1º  \n",
              "19               8º  \n",
              "27               4º  \n",
              "31              13º  \n",
              "33              16º  \n",
              "34               6º  \n",
              "35              11º  \n",
              "38              18º  "
            ],
            "text/html": [
              "\n",
              "  <div id=\"df-785f450b-260c-44d7-be5b-c0011e579506\">\n",
              "    <div class=\"colab-df-container\">\n",
              "      <div>\n",
              "<style scoped>\n",
              "    .dataframe tbody tr th:only-of-type {\n",
              "        vertical-align: middle;\n",
              "    }\n",
              "\n",
              "    .dataframe tbody tr th {\n",
              "        vertical-align: top;\n",
              "    }\n",
              "\n",
              "    .dataframe thead th {\n",
              "        text-align: right;\n",
              "    }\n",
              "</style>\n",
              "<table border=\"1\" class=\"dataframe\">\n",
              "  <thead>\n",
              "    <tr style=\"text-align: right;\">\n",
              "      <th></th>\n",
              "      <th>Posição</th>\n",
              "      <th>Equipes</th>\n",
              "      <th>Estado</th>\n",
              "      <th>Cidade</th>\n",
              "      <th>Temporadas</th>\n",
              "      <th>Pontos</th>\n",
              "      <th>Jogos</th>\n",
              "      <th>Vitórias</th>\n",
              "      <th>Empates</th>\n",
              "      <th>Derrotas</th>\n",
              "      <th>GP</th>\n",
              "      <th>GC</th>\n",
              "      <th>SG</th>\n",
              "      <th>Número de vezes que ganhou</th>\n",
              "      <th>Número de vezes que foi rebaixado</th>\n",
              "      <th>Melhor colocação</th>\n",
              "    </tr>\n",
              "  </thead>\n",
              "  <tbody>\n",
              "    <tr>\n",
              "      <th>0</th>\n",
              "      <td>1</td>\n",
              "      <td>São Paulo</td>\n",
              "      <td>São Paulo</td>\n",
              "      <td>São Paulo</td>\n",
              "      <td>19</td>\n",
              "      <td>1217</td>\n",
              "      <td>742</td>\n",
              "      <td>338</td>\n",
              "      <td>203</td>\n",
              "      <td>201</td>\n",
              "      <td>1068</td>\n",
              "      <td>799</td>\n",
              "      <td>269</td>\n",
              "      <td>3</td>\n",
              "      <td>0</td>\n",
              "      <td>1º</td>\n",
              "    </tr>\n",
              "    <tr>\n",
              "      <th>2</th>\n",
              "      <td>3</td>\n",
              "      <td>Santos</td>\n",
              "      <td>São Paulo</td>\n",
              "      <td>Santos</td>\n",
              "      <td>19</td>\n",
              "      <td>1147</td>\n",
              "      <td>742</td>\n",
              "      <td>317</td>\n",
              "      <td>196</td>\n",
              "      <td>229</td>\n",
              "      <td>1095</td>\n",
              "      <td>877</td>\n",
              "      <td>218</td>\n",
              "      <td>1</td>\n",
              "      <td>0</td>\n",
              "      <td>1º</td>\n",
              "    </tr>\n",
              "    <tr>\n",
              "      <th>3</th>\n",
              "      <td>4</td>\n",
              "      <td>Corinthians</td>\n",
              "      <td>São Paulo</td>\n",
              "      <td>São Paulo</td>\n",
              "      <td>18</td>\n",
              "      <td>1094</td>\n",
              "      <td>704</td>\n",
              "      <td>296</td>\n",
              "      <td>204</td>\n",
              "      <td>204</td>\n",
              "      <td>908</td>\n",
              "      <td>748</td>\n",
              "      <td>160</td>\n",
              "      <td>4</td>\n",
              "      <td>1</td>\n",
              "      <td>1º</td>\n",
              "    </tr>\n",
              "    <tr>\n",
              "      <th>9</th>\n",
              "      <td>10</td>\n",
              "      <td>Palmeiras</td>\n",
              "      <td>São Paulo</td>\n",
              "      <td>São Paulo</td>\n",
              "      <td>17</td>\n",
              "      <td>1026</td>\n",
              "      <td>658</td>\n",
              "      <td>286</td>\n",
              "      <td>168</td>\n",
              "      <td>204</td>\n",
              "      <td>947</td>\n",
              "      <td>780</td>\n",
              "      <td>167</td>\n",
              "      <td>2</td>\n",
              "      <td>1</td>\n",
              "      <td>1º</td>\n",
              "    </tr>\n",
              "    <tr>\n",
              "      <th>19</th>\n",
              "      <td>20</td>\n",
              "      <td>Ponte Preta</td>\n",
              "      <td>São Paulo</td>\n",
              "      <td>Campinas</td>\n",
              "      <td>9</td>\n",
              "      <td>432</td>\n",
              "      <td>362</td>\n",
              "      <td>114</td>\n",
              "      <td>91</td>\n",
              "      <td>157</td>\n",
              "      <td>414</td>\n",
              "      <td>534</td>\n",
              "      <td>-120</td>\n",
              "      <td>0</td>\n",
              "      <td>3</td>\n",
              "      <td>8º</td>\n",
              "    </tr>\n",
              "    <tr>\n",
              "      <th>27</th>\n",
              "      <td>28</td>\n",
              "      <td>São Caetano</td>\n",
              "      <td>São Paulo</td>\n",
              "      <td>São Caetano do Sul</td>\n",
              "      <td>4</td>\n",
              "      <td>215</td>\n",
              "      <td>172</td>\n",
              "      <td>65</td>\n",
              "      <td>41</td>\n",
              "      <td>66</td>\n",
              "      <td>209</td>\n",
              "      <td>199</td>\n",
              "      <td>10</td>\n",
              "      <td>0</td>\n",
              "      <td>1</td>\n",
              "      <td>4º</td>\n",
              "    </tr>\n",
              "    <tr>\n",
              "      <th>31</th>\n",
              "      <td>32</td>\n",
              "      <td>Guarani</td>\n",
              "      <td>São Paulo</td>\n",
              "      <td>Campinas</td>\n",
              "      <td>3</td>\n",
              "      <td>147</td>\n",
              "      <td>130</td>\n",
              "      <td>36</td>\n",
              "      <td>39</td>\n",
              "      <td>55</td>\n",
              "      <td>140</td>\n",
              "      <td>180</td>\n",
              "      <td>-40</td>\n",
              "      <td>0</td>\n",
              "      <td>2</td>\n",
              "      <td>13º</td>\n",
              "    </tr>\n",
              "    <tr>\n",
              "      <th>33</th>\n",
              "      <td>34</td>\n",
              "      <td>Portuguesa</td>\n",
              "      <td>São Paulo</td>\n",
              "      <td>São Paulo</td>\n",
              "      <td>3</td>\n",
              "      <td>127</td>\n",
              "      <td>114</td>\n",
              "      <td>31</td>\n",
              "      <td>38</td>\n",
              "      <td>45</td>\n",
              "      <td>137</td>\n",
              "      <td>157</td>\n",
              "      <td>-20</td>\n",
              "      <td>0</td>\n",
              "      <td>2</td>\n",
              "      <td>16º</td>\n",
              "    </tr>\n",
              "    <tr>\n",
              "      <th>34</th>\n",
              "      <td>35</td>\n",
              "      <td>Red Bull Bragantino</td>\n",
              "      <td>São Paulo</td>\n",
              "      <td>Brança Paulista</td>\n",
              "      <td>2</td>\n",
              "      <td>109</td>\n",
              "      <td>76</td>\n",
              "      <td>27</td>\n",
              "      <td>28</td>\n",
              "      <td>21</td>\n",
              "      <td>105</td>\n",
              "      <td>86</td>\n",
              "      <td>19</td>\n",
              "      <td>0</td>\n",
              "      <td>0</td>\n",
              "      <td>6º</td>\n",
              "    </tr>\n",
              "    <tr>\n",
              "      <th>35</th>\n",
              "      <td>36</td>\n",
              "      <td>Grêmio Barueri</td>\n",
              "      <td>São Paulo</td>\n",
              "      <td>Barueri</td>\n",
              "      <td>2</td>\n",
              "      <td>77</td>\n",
              "      <td>76</td>\n",
              "      <td>19</td>\n",
              "      <td>23</td>\n",
              "      <td>34</td>\n",
              "      <td>98</td>\n",
              "      <td>116</td>\n",
              "      <td>-18</td>\n",
              "      <td>0</td>\n",
              "      <td>1</td>\n",
              "      <td>11º</td>\n",
              "    </tr>\n",
              "    <tr>\n",
              "      <th>38</th>\n",
              "      <td>39</td>\n",
              "      <td>Santo André</td>\n",
              "      <td>São Paulo</td>\n",
              "      <td>Santo André</td>\n",
              "      <td>1</td>\n",
              "      <td>41</td>\n",
              "      <td>38</td>\n",
              "      <td>11</td>\n",
              "      <td>8</td>\n",
              "      <td>19</td>\n",
              "      <td>46</td>\n",
              "      <td>61</td>\n",
              "      <td>-15</td>\n",
              "      <td>0</td>\n",
              "      <td>1</td>\n",
              "      <td>18º</td>\n",
              "    </tr>\n",
              "  </tbody>\n",
              "</table>\n",
              "</div>\n",
              "      <button class=\"colab-df-convert\" onclick=\"convertToInteractive('df-785f450b-260c-44d7-be5b-c0011e579506')\"\n",
              "              title=\"Convert this dataframe to an interactive table.\"\n",
              "              style=\"display:none;\">\n",
              "        \n",
              "  <svg xmlns=\"http://www.w3.org/2000/svg\" height=\"24px\"viewBox=\"0 0 24 24\"\n",
              "       width=\"24px\">\n",
              "    <path d=\"M0 0h24v24H0V0z\" fill=\"none\"/>\n",
              "    <path d=\"M18.56 5.44l.94 2.06.94-2.06 2.06-.94-2.06-.94-.94-2.06-.94 2.06-2.06.94zm-11 1L8.5 8.5l.94-2.06 2.06-.94-2.06-.94L8.5 2.5l-.94 2.06-2.06.94zm10 10l.94 2.06.94-2.06 2.06-.94-2.06-.94-.94-2.06-.94 2.06-2.06.94z\"/><path d=\"M17.41 7.96l-1.37-1.37c-.4-.4-.92-.59-1.43-.59-.52 0-1.04.2-1.43.59L10.3 9.45l-7.72 7.72c-.78.78-.78 2.05 0 2.83L4 21.41c.39.39.9.59 1.41.59.51 0 1.02-.2 1.41-.59l7.78-7.78 2.81-2.81c.8-.78.8-2.07 0-2.86zM5.41 20L4 18.59l7.72-7.72 1.47 1.35L5.41 20z\"/>\n",
              "  </svg>\n",
              "      </button>\n",
              "      \n",
              "  <style>\n",
              "    .colab-df-container {\n",
              "      display:flex;\n",
              "      flex-wrap:wrap;\n",
              "      gap: 12px;\n",
              "    }\n",
              "\n",
              "    .colab-df-convert {\n",
              "      background-color: #E8F0FE;\n",
              "      border: none;\n",
              "      border-radius: 50%;\n",
              "      cursor: pointer;\n",
              "      display: none;\n",
              "      fill: #1967D2;\n",
              "      height: 32px;\n",
              "      padding: 0 0 0 0;\n",
              "      width: 32px;\n",
              "    }\n",
              "\n",
              "    .colab-df-convert:hover {\n",
              "      background-color: #E2EBFA;\n",
              "      box-shadow: 0px 1px 2px rgba(60, 64, 67, 0.3), 0px 1px 3px 1px rgba(60, 64, 67, 0.15);\n",
              "      fill: #174EA6;\n",
              "    }\n",
              "\n",
              "    [theme=dark] .colab-df-convert {\n",
              "      background-color: #3B4455;\n",
              "      fill: #D2E3FC;\n",
              "    }\n",
              "\n",
              "    [theme=dark] .colab-df-convert:hover {\n",
              "      background-color: #434B5C;\n",
              "      box-shadow: 0px 1px 3px 1px rgba(0, 0, 0, 0.15);\n",
              "      filter: drop-shadow(0px 1px 2px rgba(0, 0, 0, 0.3));\n",
              "      fill: #FFFFFF;\n",
              "    }\n",
              "  </style>\n",
              "\n",
              "      <script>\n",
              "        const buttonEl =\n",
              "          document.querySelector('#df-785f450b-260c-44d7-be5b-c0011e579506 button.colab-df-convert');\n",
              "        buttonEl.style.display =\n",
              "          google.colab.kernel.accessAllowed ? 'block' : 'none';\n",
              "\n",
              "        async function convertToInteractive(key) {\n",
              "          const element = document.querySelector('#df-785f450b-260c-44d7-be5b-c0011e579506');\n",
              "          const dataTable =\n",
              "            await google.colab.kernel.invokeFunction('convertToInteractive',\n",
              "                                                     [key], {});\n",
              "          if (!dataTable) return;\n",
              "\n",
              "          const docLinkHtml = 'Like what you see? Visit the ' +\n",
              "            '<a target=\"_blank\" href=https://colab.research.google.com/notebooks/data_table.ipynb>data table notebook</a>'\n",
              "            + ' to learn more about interactive tables.';\n",
              "          element.innerHTML = '';\n",
              "          dataTable['output_type'] = 'display_data';\n",
              "          await google.colab.output.renderOutput(dataTable, element);\n",
              "          const docLink = document.createElement('div');\n",
              "          docLink.innerHTML = docLinkHtml;\n",
              "          element.appendChild(docLink);\n",
              "        }\n",
              "      </script>\n",
              "    </div>\n",
              "  </div>\n",
              "  "
            ]
          },
          "metadata": {},
          "execution_count": 36
        }
      ]
    },
    {
      "cell_type": "code",
      "source": [
        "# Fazer um agrupamento para contar quantos times temos por cidade:\n",
        "df.groupby(\"Cidade\")[\"Equipes\"].nunique()"
      ],
      "metadata": {
        "colab": {
          "base_uri": "https://localhost:8080/"
        },
        "id": "V-94oYSUWF7l",
        "outputId": "d30aa728-494c-4de1-a087-7d9ad84ed90c"
      },
      "execution_count": 37,
      "outputs": [
        {
          "output_type": "execute_result",
          "data": {
            "text/plain": [
              "Cidade\n",
              "Bahia                 2\n",
              "Barueri               1\n",
              "Belo Horizonte        3\n",
              "Belém                 1\n",
              "Brança Paulista       1\n",
              "Campinas              2\n",
              "Caxias do Sul         1\n",
              "Chapecó               1\n",
              "Criciúma              1\n",
              "Cuiabá                1\n",
              "Curitiba              3\n",
              "Florianópolis         2\n",
              "Fortaleza             2\n",
              "Goiânia               2\n",
              "Ipatinga              1\n",
              "Joinville             1\n",
              "Maceió                1\n",
              "Natal                 1\n",
              "Porto Alegre          2\n",
              "Recife                3\n",
              "Rio de Janeiro        4\n",
              "Santo André           1\n",
              "Santos                1\n",
              "São Caetano do Sul    1\n",
              "São Paulo             4\n",
              "Taguatinga            1\n",
              "Name: Equipes, dtype: int64"
            ]
          },
          "metadata": {},
          "execution_count": 37
        }
      ]
    },
    {
      "cell_type": "code",
      "source": [
        "# Fazer um agrupamento para contar quantos times temos por estado:\n",
        "df.groupby(\"Estado\")[\"Equipes\"].nunique()"
      ],
      "metadata": {
        "colab": {
          "base_uri": "https://localhost:8080/"
        },
        "id": "WP3LMw4NWgB-",
        "outputId": "bb0f8c82-27c9-492b-a396-ead2fbf11f6d"
      },
      "execution_count": 38,
      "outputs": [
        {
          "output_type": "execute_result",
          "data": {
            "text/plain": [
              "Estado\n",
              "Alagoas                 1\n",
              "Ceará                   2\n",
              "Distro Federal          1\n",
              "Goiás                   2\n",
              "Mato Grosso             1\n",
              "Minas Gerais            4\n",
              "Paraná                  3\n",
              "Pará                    1\n",
              "Pernambuco              3\n",
              "Rio Grande do Norte     1\n",
              "Rio Grande do Sul       3\n",
              "Rio de Janeiro          4\n",
              "Salvador                2\n",
              "Santa Catarina          5\n",
              "São Paulo              11\n",
              "Name: Equipes, dtype: int64"
            ]
          },
          "metadata": {},
          "execution_count": 38
        }
      ]
    },
    {
      "cell_type": "code",
      "source": [
        "# Qual a média de pontos de cada estado no brasileirão:\n",
        "df.groupby(\"Estado\")[\"Pontos\"].mean()"
      ],
      "metadata": {
        "colab": {
          "base_uri": "https://localhost:8080/"
        },
        "id": "YHMyeSsCWmYx",
        "outputId": "3a2849fd-6eae-44d7-e46d-7014ec054fd5"
      },
      "execution_count": 39,
      "outputs": [
        {
          "output_type": "execute_result",
          "data": {
            "text/plain": [
              "Estado\n",
              "Alagoas                 32.000000\n",
              "Ceará                  282.500000\n",
              "Distro Federal          41.000000\n",
              "Goiás                  472.000000\n",
              "Mato Grosso             47.000000\n",
              "Minas Gerais           569.750000\n",
              "Paraná                 650.666667\n",
              "Pará                   146.000000\n",
              "Pernambuco             251.000000\n",
              "Rio Grande do Norte     17.000000\n",
              "Rio Grande do Sul      823.333333\n",
              "Rio de Janeiro         946.750000\n",
              "Salvador               463.000000\n",
              "Santa Catarina         258.400000\n",
              "São Paulo              512.000000\n",
              "Name: Pontos, dtype: float64"
            ]
          },
          "metadata": {},
          "execution_count": 39
        }
      ]
    },
    {
      "cell_type": "code",
      "source": [
        "# Média de partidas jogadas:\n",
        "df[\"Jogos\"].mean()"
      ],
      "metadata": {
        "colab": {
          "base_uri": "https://localhost:8080/"
        },
        "id": "Zi1JrRbeX0-E",
        "outputId": "521b58f4-1d40-4d47-e961-ed700472c60b"
      },
      "execution_count": 40,
      "outputs": [
        {
          "output_type": "execute_result",
          "data": {
            "text/plain": [
              "347.54545454545456"
            ]
          },
          "metadata": {},
          "execution_count": 40
        }
      ]
    },
    {
      "cell_type": "code",
      "source": [
        "# Soma total de partidas jogadas pelas 44 equipes:\n",
        "df[\"Jogos\"].sum()"
      ],
      "metadata": {
        "colab": {
          "base_uri": "https://localhost:8080/"
        },
        "id": "lH5ipMQfX_1u",
        "outputId": "d1bf9e7b-38b9-4b87-a7d1-4c5a8a31ee99"
      },
      "execution_count": 41,
      "outputs": [
        {
          "output_type": "execute_result",
          "data": {
            "text/plain": [
              "15292"
            ]
          },
          "metadata": {},
          "execution_count": 41
        }
      ]
    },
    {
      "cell_type": "markdown",
      "source": [
        "### **Trabalhando com Planilhas do Excel:**"
      ],
      "metadata": {
        "id": "4lkgiMlQYMIW"
      }
    },
    {
      "cell_type": "code",
      "source": [
        "# Importando a biblioteca pandas:\n",
        "import pandas as pd "
      ],
      "metadata": {
        "id": "FGeVIHzIYbIe"
      },
      "execution_count": 42,
      "outputs": []
    },
    {
      "cell_type": "code",
      "source": [
        "# Leitura de um arquivo excel que foi feito o upload:\n",
        "df1 = pd.read_excel(\"vendasBH.xlsx\")\n",
        "df2 = pd.read_excel(\"vendasRJ.xlsx\")\n",
        "df3 = pd.read_excel(\"vendasRS.xlsx\")\n",
        "df4 = pd.read_excel(\"vendasSP.xlsx\")"
      ],
      "metadata": {
        "id": "2XGgHr6hVDtZ"
      },
      "execution_count": 43,
      "outputs": []
    },
    {
      "cell_type": "code",
      "source": [
        "# Juntando todos os arquivos em um único dataFrame:\n",
        "df = pd.concat([df1,df2,df3,df4])"
      ],
      "metadata": {
        "id": "MtT3Orw8V6CC"
      },
      "execution_count": 44,
      "outputs": []
    },
    {
      "cell_type": "code",
      "source": [
        "# Exibindo as 10 primeiras linhas:\n",
        "df.head(10)"
      ],
      "metadata": {
        "colab": {
          "base_uri": "https://localhost:8080/",
          "height": 363
        },
        "id": "FE8Zt5WnWFMV",
        "outputId": "9a34ed67-8dc7-4e31-caf0-4e1376f8a138"
      },
      "execution_count": 45,
      "outputs": [
        {
          "output_type": "execute_result",
          "data": {
            "text/plain": [
              "       ID     Produto  Qtd Vendida                 Data   Loja        Estado  \\\n",
              "0  HL1918      iPhone          2.0  2020-01-01 00:00:00  iTech  Minas Gerais   \n",
              "1  HL7348  SmartWatch          3.0  2020-01-01 00:00:00  iTech  Minas Gerais   \n",
              "2  HL2714      Tablet          4.0  2020-02-01 00:00:00  iTech  Minas Gerais   \n",
              "3  HL7348  SmartWatch          4.0  2020-02-01 00:00:00  iTech  Minas Gerais   \n",
              "4  HL7348  SmartWatch          5.0  2020-02-01 00:00:00  iTech  Minas Gerais   \n",
              "5  HL9962     Android          1.0  2020-03-01 00:00:00  iTech  Minas Gerais   \n",
              "6  HL7348  SmartWatch          1.0  2020-03-01 00:00:00  iTech  Minas Gerais   \n",
              "7  HL1918      iPhone          1.0  2020-04-01 00:00:00  iTech  Minas Gerais   \n",
              "8  HL4379   Televisão          5.0  2020-04-01 00:00:00  iTech  Minas Gerais   \n",
              "9  HL4379   Televisão          3.0  2020-04-01 00:00:00  iTech  Minas Gerais   \n",
              "\n",
              "           Cidade  Preço Unitário      Nome  Sobrenome Gênero  \n",
              "0  Belo Horizonte            9440    Silvio     Santos      M  \n",
              "1  Belo Horizonte            3945    Marina     Araujo      F  \n",
              "2  Belo Horizonte           10392   Raphael    Roberto      M  \n",
              "3  Belo Horizonte            7024  Isabelle      Souza      F  \n",
              "4  Belo Horizonte           12058  Fernanda   Cozendey      F  \n",
              "5  Belo Horizonte            1797      João    Teraoka      M  \n",
              "6  Belo Horizonte            4681    Raíssa     Junior      F  \n",
              "7  Belo Horizonte            5819       Ana  Rodrigues      F  \n",
              "8  Belo Horizonte           13431  Fernanda      Mello      F  \n",
              "9  Belo Horizonte           14605   Beatriz   Teixeira      F  "
            ],
            "text/html": [
              "\n",
              "  <div id=\"df-cfc71090-ff42-4dcc-addb-ef2c4084d0b8\">\n",
              "    <div class=\"colab-df-container\">\n",
              "      <div>\n",
              "<style scoped>\n",
              "    .dataframe tbody tr th:only-of-type {\n",
              "        vertical-align: middle;\n",
              "    }\n",
              "\n",
              "    .dataframe tbody tr th {\n",
              "        vertical-align: top;\n",
              "    }\n",
              "\n",
              "    .dataframe thead th {\n",
              "        text-align: right;\n",
              "    }\n",
              "</style>\n",
              "<table border=\"1\" class=\"dataframe\">\n",
              "  <thead>\n",
              "    <tr style=\"text-align: right;\">\n",
              "      <th></th>\n",
              "      <th>ID</th>\n",
              "      <th>Produto</th>\n",
              "      <th>Qtd Vendida</th>\n",
              "      <th>Data</th>\n",
              "      <th>Loja</th>\n",
              "      <th>Estado</th>\n",
              "      <th>Cidade</th>\n",
              "      <th>Preço Unitário</th>\n",
              "      <th>Nome</th>\n",
              "      <th>Sobrenome</th>\n",
              "      <th>Gênero</th>\n",
              "    </tr>\n",
              "  </thead>\n",
              "  <tbody>\n",
              "    <tr>\n",
              "      <th>0</th>\n",
              "      <td>HL1918</td>\n",
              "      <td>iPhone</td>\n",
              "      <td>2.0</td>\n",
              "      <td>2020-01-01 00:00:00</td>\n",
              "      <td>iTech</td>\n",
              "      <td>Minas Gerais</td>\n",
              "      <td>Belo Horizonte</td>\n",
              "      <td>9440</td>\n",
              "      <td>Silvio</td>\n",
              "      <td>Santos</td>\n",
              "      <td>M</td>\n",
              "    </tr>\n",
              "    <tr>\n",
              "      <th>1</th>\n",
              "      <td>HL7348</td>\n",
              "      <td>SmartWatch</td>\n",
              "      <td>3.0</td>\n",
              "      <td>2020-01-01 00:00:00</td>\n",
              "      <td>iTech</td>\n",
              "      <td>Minas Gerais</td>\n",
              "      <td>Belo Horizonte</td>\n",
              "      <td>3945</td>\n",
              "      <td>Marina</td>\n",
              "      <td>Araujo</td>\n",
              "      <td>F</td>\n",
              "    </tr>\n",
              "    <tr>\n",
              "      <th>2</th>\n",
              "      <td>HL2714</td>\n",
              "      <td>Tablet</td>\n",
              "      <td>4.0</td>\n",
              "      <td>2020-02-01 00:00:00</td>\n",
              "      <td>iTech</td>\n",
              "      <td>Minas Gerais</td>\n",
              "      <td>Belo Horizonte</td>\n",
              "      <td>10392</td>\n",
              "      <td>Raphael</td>\n",
              "      <td>Roberto</td>\n",
              "      <td>M</td>\n",
              "    </tr>\n",
              "    <tr>\n",
              "      <th>3</th>\n",
              "      <td>HL7348</td>\n",
              "      <td>SmartWatch</td>\n",
              "      <td>4.0</td>\n",
              "      <td>2020-02-01 00:00:00</td>\n",
              "      <td>iTech</td>\n",
              "      <td>Minas Gerais</td>\n",
              "      <td>Belo Horizonte</td>\n",
              "      <td>7024</td>\n",
              "      <td>Isabelle</td>\n",
              "      <td>Souza</td>\n",
              "      <td>F</td>\n",
              "    </tr>\n",
              "    <tr>\n",
              "      <th>4</th>\n",
              "      <td>HL7348</td>\n",
              "      <td>SmartWatch</td>\n",
              "      <td>5.0</td>\n",
              "      <td>2020-02-01 00:00:00</td>\n",
              "      <td>iTech</td>\n",
              "      <td>Minas Gerais</td>\n",
              "      <td>Belo Horizonte</td>\n",
              "      <td>12058</td>\n",
              "      <td>Fernanda</td>\n",
              "      <td>Cozendey</td>\n",
              "      <td>F</td>\n",
              "    </tr>\n",
              "    <tr>\n",
              "      <th>5</th>\n",
              "      <td>HL9962</td>\n",
              "      <td>Android</td>\n",
              "      <td>1.0</td>\n",
              "      <td>2020-03-01 00:00:00</td>\n",
              "      <td>iTech</td>\n",
              "      <td>Minas Gerais</td>\n",
              "      <td>Belo Horizonte</td>\n",
              "      <td>1797</td>\n",
              "      <td>João</td>\n",
              "      <td>Teraoka</td>\n",
              "      <td>M</td>\n",
              "    </tr>\n",
              "    <tr>\n",
              "      <th>6</th>\n",
              "      <td>HL7348</td>\n",
              "      <td>SmartWatch</td>\n",
              "      <td>1.0</td>\n",
              "      <td>2020-03-01 00:00:00</td>\n",
              "      <td>iTech</td>\n",
              "      <td>Minas Gerais</td>\n",
              "      <td>Belo Horizonte</td>\n",
              "      <td>4681</td>\n",
              "      <td>Raíssa</td>\n",
              "      <td>Junior</td>\n",
              "      <td>F</td>\n",
              "    </tr>\n",
              "    <tr>\n",
              "      <th>7</th>\n",
              "      <td>HL1918</td>\n",
              "      <td>iPhone</td>\n",
              "      <td>1.0</td>\n",
              "      <td>2020-04-01 00:00:00</td>\n",
              "      <td>iTech</td>\n",
              "      <td>Minas Gerais</td>\n",
              "      <td>Belo Horizonte</td>\n",
              "      <td>5819</td>\n",
              "      <td>Ana</td>\n",
              "      <td>Rodrigues</td>\n",
              "      <td>F</td>\n",
              "    </tr>\n",
              "    <tr>\n",
              "      <th>8</th>\n",
              "      <td>HL4379</td>\n",
              "      <td>Televisão</td>\n",
              "      <td>5.0</td>\n",
              "      <td>2020-04-01 00:00:00</td>\n",
              "      <td>iTech</td>\n",
              "      <td>Minas Gerais</td>\n",
              "      <td>Belo Horizonte</td>\n",
              "      <td>13431</td>\n",
              "      <td>Fernanda</td>\n",
              "      <td>Mello</td>\n",
              "      <td>F</td>\n",
              "    </tr>\n",
              "    <tr>\n",
              "      <th>9</th>\n",
              "      <td>HL4379</td>\n",
              "      <td>Televisão</td>\n",
              "      <td>3.0</td>\n",
              "      <td>2020-04-01 00:00:00</td>\n",
              "      <td>iTech</td>\n",
              "      <td>Minas Gerais</td>\n",
              "      <td>Belo Horizonte</td>\n",
              "      <td>14605</td>\n",
              "      <td>Beatriz</td>\n",
              "      <td>Teixeira</td>\n",
              "      <td>F</td>\n",
              "    </tr>\n",
              "  </tbody>\n",
              "</table>\n",
              "</div>\n",
              "      <button class=\"colab-df-convert\" onclick=\"convertToInteractive('df-cfc71090-ff42-4dcc-addb-ef2c4084d0b8')\"\n",
              "              title=\"Convert this dataframe to an interactive table.\"\n",
              "              style=\"display:none;\">\n",
              "        \n",
              "  <svg xmlns=\"http://www.w3.org/2000/svg\" height=\"24px\"viewBox=\"0 0 24 24\"\n",
              "       width=\"24px\">\n",
              "    <path d=\"M0 0h24v24H0V0z\" fill=\"none\"/>\n",
              "    <path d=\"M18.56 5.44l.94 2.06.94-2.06 2.06-.94-2.06-.94-.94-2.06-.94 2.06-2.06.94zm-11 1L8.5 8.5l.94-2.06 2.06-.94-2.06-.94L8.5 2.5l-.94 2.06-2.06.94zm10 10l.94 2.06.94-2.06 2.06-.94-2.06-.94-.94-2.06-.94 2.06-2.06.94z\"/><path d=\"M17.41 7.96l-1.37-1.37c-.4-.4-.92-.59-1.43-.59-.52 0-1.04.2-1.43.59L10.3 9.45l-7.72 7.72c-.78.78-.78 2.05 0 2.83L4 21.41c.39.39.9.59 1.41.59.51 0 1.02-.2 1.41-.59l7.78-7.78 2.81-2.81c.8-.78.8-2.07 0-2.86zM5.41 20L4 18.59l7.72-7.72 1.47 1.35L5.41 20z\"/>\n",
              "  </svg>\n",
              "      </button>\n",
              "      \n",
              "  <style>\n",
              "    .colab-df-container {\n",
              "      display:flex;\n",
              "      flex-wrap:wrap;\n",
              "      gap: 12px;\n",
              "    }\n",
              "\n",
              "    .colab-df-convert {\n",
              "      background-color: #E8F0FE;\n",
              "      border: none;\n",
              "      border-radius: 50%;\n",
              "      cursor: pointer;\n",
              "      display: none;\n",
              "      fill: #1967D2;\n",
              "      height: 32px;\n",
              "      padding: 0 0 0 0;\n",
              "      width: 32px;\n",
              "    }\n",
              "\n",
              "    .colab-df-convert:hover {\n",
              "      background-color: #E2EBFA;\n",
              "      box-shadow: 0px 1px 2px rgba(60, 64, 67, 0.3), 0px 1px 3px 1px rgba(60, 64, 67, 0.15);\n",
              "      fill: #174EA6;\n",
              "    }\n",
              "\n",
              "    [theme=dark] .colab-df-convert {\n",
              "      background-color: #3B4455;\n",
              "      fill: #D2E3FC;\n",
              "    }\n",
              "\n",
              "    [theme=dark] .colab-df-convert:hover {\n",
              "      background-color: #434B5C;\n",
              "      box-shadow: 0px 1px 3px 1px rgba(0, 0, 0, 0.15);\n",
              "      filter: drop-shadow(0px 1px 2px rgba(0, 0, 0, 0.3));\n",
              "      fill: #FFFFFF;\n",
              "    }\n",
              "  </style>\n",
              "\n",
              "      <script>\n",
              "        const buttonEl =\n",
              "          document.querySelector('#df-cfc71090-ff42-4dcc-addb-ef2c4084d0b8 button.colab-df-convert');\n",
              "        buttonEl.style.display =\n",
              "          google.colab.kernel.accessAllowed ? 'block' : 'none';\n",
              "\n",
              "        async function convertToInteractive(key) {\n",
              "          const element = document.querySelector('#df-cfc71090-ff42-4dcc-addb-ef2c4084d0b8');\n",
              "          const dataTable =\n",
              "            await google.colab.kernel.invokeFunction('convertToInteractive',\n",
              "                                                     [key], {});\n",
              "          if (!dataTable) return;\n",
              "\n",
              "          const docLinkHtml = 'Like what you see? Visit the ' +\n",
              "            '<a target=\"_blank\" href=https://colab.research.google.com/notebooks/data_table.ipynb>data table notebook</a>'\n",
              "            + ' to learn more about interactive tables.';\n",
              "          element.innerHTML = '';\n",
              "          dataTable['output_type'] = 'display_data';\n",
              "          await google.colab.output.renderOutput(dataTable, element);\n",
              "          const docLink = document.createElement('div');\n",
              "          docLink.innerHTML = docLinkHtml;\n",
              "          element.appendChild(docLink);\n",
              "        }\n",
              "      </script>\n",
              "    </div>\n",
              "  </div>\n",
              "  "
            ]
          },
          "metadata": {},
          "execution_count": 45
        }
      ]
    },
    {
      "cell_type": "code",
      "source": [
        "# Exibindo as 10 últimas linhas:\n",
        "df.tail(10)"
      ],
      "metadata": {
        "colab": {
          "base_uri": "https://localhost:8080/",
          "height": 363
        },
        "id": "8wyYODq1WIh5",
        "outputId": "3e992254-2b3b-4588-e34a-9a229a65fd01"
      },
      "execution_count": 46,
      "outputs": [
        {
          "output_type": "execute_result",
          "data": {
            "text/plain": [
              "          ID    Produto  Qtd Vendida        Data   Loja     Estado     Cidade  \\\n",
              "3223  HL4379  Televisão          5.0  12/28/2020  iTech  São Paulo  Guarulhos   \n",
              "3224  HL1148     Câmera          3.0  12/28/2020  iTech  São Paulo  Guarulhos   \n",
              "3225  HL8851   Notebook          4.0  12/28/2020  iTech  São Paulo  Guarulhos   \n",
              "3226  HL1148     Câmera          1.0  12/28/2020  iTech  São Paulo  Guarulhos   \n",
              "3227  HL2714     Tablet          4.0  12/29/2020  iTech  São Paulo  Guarulhos   \n",
              "3228  HL9962    Android          3.0  12/29/2020  iTech  São Paulo  Guarulhos   \n",
              "3229  HL2714     Tablet          4.0  12/30/2020  iTech  São Paulo  Guarulhos   \n",
              "3230  HL9962    Android          2.0  12/30/2020  iTech  São Paulo  Guarulhos   \n",
              "3231  HL1918     iPhone          5.0  12/30/2020  iTech  São Paulo  Guarulhos   \n",
              "3232  HL1918     iPhone          4.0  12/31/2020  iTech  São Paulo  Guarulhos   \n",
              "\n",
              "      Preço Unitário     Nome  Sobrenome Gênero  \n",
              "3223           11443  Isabela    Cardoso      F  \n",
              "3224           13383    Diego      Filho      M  \n",
              "3225            6696   Karine  Meirelles      F  \n",
              "3226            9572  Gabriel  Fernandes      M  \n",
              "3227            8603   Bianca  Wajnsztok      F  \n",
              "3228           11238    Pedro     Thiele      M  \n",
              "3229            9011      Wen       Lira      F  \n",
              "3230           12902    Júlia     Moraes      F  \n",
              "3231           10213     Anna      Abreu      F  \n",
              "3232            7224   Thiago     Soares      M  "
            ],
            "text/html": [
              "\n",
              "  <div id=\"df-98155e36-87ac-4c19-abdc-d2dd300676b5\">\n",
              "    <div class=\"colab-df-container\">\n",
              "      <div>\n",
              "<style scoped>\n",
              "    .dataframe tbody tr th:only-of-type {\n",
              "        vertical-align: middle;\n",
              "    }\n",
              "\n",
              "    .dataframe tbody tr th {\n",
              "        vertical-align: top;\n",
              "    }\n",
              "\n",
              "    .dataframe thead th {\n",
              "        text-align: right;\n",
              "    }\n",
              "</style>\n",
              "<table border=\"1\" class=\"dataframe\">\n",
              "  <thead>\n",
              "    <tr style=\"text-align: right;\">\n",
              "      <th></th>\n",
              "      <th>ID</th>\n",
              "      <th>Produto</th>\n",
              "      <th>Qtd Vendida</th>\n",
              "      <th>Data</th>\n",
              "      <th>Loja</th>\n",
              "      <th>Estado</th>\n",
              "      <th>Cidade</th>\n",
              "      <th>Preço Unitário</th>\n",
              "      <th>Nome</th>\n",
              "      <th>Sobrenome</th>\n",
              "      <th>Gênero</th>\n",
              "    </tr>\n",
              "  </thead>\n",
              "  <tbody>\n",
              "    <tr>\n",
              "      <th>3223</th>\n",
              "      <td>HL4379</td>\n",
              "      <td>Televisão</td>\n",
              "      <td>5.0</td>\n",
              "      <td>12/28/2020</td>\n",
              "      <td>iTech</td>\n",
              "      <td>São Paulo</td>\n",
              "      <td>Guarulhos</td>\n",
              "      <td>11443</td>\n",
              "      <td>Isabela</td>\n",
              "      <td>Cardoso</td>\n",
              "      <td>F</td>\n",
              "    </tr>\n",
              "    <tr>\n",
              "      <th>3224</th>\n",
              "      <td>HL1148</td>\n",
              "      <td>Câmera</td>\n",
              "      <td>3.0</td>\n",
              "      <td>12/28/2020</td>\n",
              "      <td>iTech</td>\n",
              "      <td>São Paulo</td>\n",
              "      <td>Guarulhos</td>\n",
              "      <td>13383</td>\n",
              "      <td>Diego</td>\n",
              "      <td>Filho</td>\n",
              "      <td>M</td>\n",
              "    </tr>\n",
              "    <tr>\n",
              "      <th>3225</th>\n",
              "      <td>HL8851</td>\n",
              "      <td>Notebook</td>\n",
              "      <td>4.0</td>\n",
              "      <td>12/28/2020</td>\n",
              "      <td>iTech</td>\n",
              "      <td>São Paulo</td>\n",
              "      <td>Guarulhos</td>\n",
              "      <td>6696</td>\n",
              "      <td>Karine</td>\n",
              "      <td>Meirelles</td>\n",
              "      <td>F</td>\n",
              "    </tr>\n",
              "    <tr>\n",
              "      <th>3226</th>\n",
              "      <td>HL1148</td>\n",
              "      <td>Câmera</td>\n",
              "      <td>1.0</td>\n",
              "      <td>12/28/2020</td>\n",
              "      <td>iTech</td>\n",
              "      <td>São Paulo</td>\n",
              "      <td>Guarulhos</td>\n",
              "      <td>9572</td>\n",
              "      <td>Gabriel</td>\n",
              "      <td>Fernandes</td>\n",
              "      <td>M</td>\n",
              "    </tr>\n",
              "    <tr>\n",
              "      <th>3227</th>\n",
              "      <td>HL2714</td>\n",
              "      <td>Tablet</td>\n",
              "      <td>4.0</td>\n",
              "      <td>12/29/2020</td>\n",
              "      <td>iTech</td>\n",
              "      <td>São Paulo</td>\n",
              "      <td>Guarulhos</td>\n",
              "      <td>8603</td>\n",
              "      <td>Bianca</td>\n",
              "      <td>Wajnsztok</td>\n",
              "      <td>F</td>\n",
              "    </tr>\n",
              "    <tr>\n",
              "      <th>3228</th>\n",
              "      <td>HL9962</td>\n",
              "      <td>Android</td>\n",
              "      <td>3.0</td>\n",
              "      <td>12/29/2020</td>\n",
              "      <td>iTech</td>\n",
              "      <td>São Paulo</td>\n",
              "      <td>Guarulhos</td>\n",
              "      <td>11238</td>\n",
              "      <td>Pedro</td>\n",
              "      <td>Thiele</td>\n",
              "      <td>M</td>\n",
              "    </tr>\n",
              "    <tr>\n",
              "      <th>3229</th>\n",
              "      <td>HL2714</td>\n",
              "      <td>Tablet</td>\n",
              "      <td>4.0</td>\n",
              "      <td>12/30/2020</td>\n",
              "      <td>iTech</td>\n",
              "      <td>São Paulo</td>\n",
              "      <td>Guarulhos</td>\n",
              "      <td>9011</td>\n",
              "      <td>Wen</td>\n",
              "      <td>Lira</td>\n",
              "      <td>F</td>\n",
              "    </tr>\n",
              "    <tr>\n",
              "      <th>3230</th>\n",
              "      <td>HL9962</td>\n",
              "      <td>Android</td>\n",
              "      <td>2.0</td>\n",
              "      <td>12/30/2020</td>\n",
              "      <td>iTech</td>\n",
              "      <td>São Paulo</td>\n",
              "      <td>Guarulhos</td>\n",
              "      <td>12902</td>\n",
              "      <td>Júlia</td>\n",
              "      <td>Moraes</td>\n",
              "      <td>F</td>\n",
              "    </tr>\n",
              "    <tr>\n",
              "      <th>3231</th>\n",
              "      <td>HL1918</td>\n",
              "      <td>iPhone</td>\n",
              "      <td>5.0</td>\n",
              "      <td>12/30/2020</td>\n",
              "      <td>iTech</td>\n",
              "      <td>São Paulo</td>\n",
              "      <td>Guarulhos</td>\n",
              "      <td>10213</td>\n",
              "      <td>Anna</td>\n",
              "      <td>Abreu</td>\n",
              "      <td>F</td>\n",
              "    </tr>\n",
              "    <tr>\n",
              "      <th>3232</th>\n",
              "      <td>HL1918</td>\n",
              "      <td>iPhone</td>\n",
              "      <td>4.0</td>\n",
              "      <td>12/31/2020</td>\n",
              "      <td>iTech</td>\n",
              "      <td>São Paulo</td>\n",
              "      <td>Guarulhos</td>\n",
              "      <td>7224</td>\n",
              "      <td>Thiago</td>\n",
              "      <td>Soares</td>\n",
              "      <td>M</td>\n",
              "    </tr>\n",
              "  </tbody>\n",
              "</table>\n",
              "</div>\n",
              "      <button class=\"colab-df-convert\" onclick=\"convertToInteractive('df-98155e36-87ac-4c19-abdc-d2dd300676b5')\"\n",
              "              title=\"Convert this dataframe to an interactive table.\"\n",
              "              style=\"display:none;\">\n",
              "        \n",
              "  <svg xmlns=\"http://www.w3.org/2000/svg\" height=\"24px\"viewBox=\"0 0 24 24\"\n",
              "       width=\"24px\">\n",
              "    <path d=\"M0 0h24v24H0V0z\" fill=\"none\"/>\n",
              "    <path d=\"M18.56 5.44l.94 2.06.94-2.06 2.06-.94-2.06-.94-.94-2.06-.94 2.06-2.06.94zm-11 1L8.5 8.5l.94-2.06 2.06-.94-2.06-.94L8.5 2.5l-.94 2.06-2.06.94zm10 10l.94 2.06.94-2.06 2.06-.94-2.06-.94-.94-2.06-.94 2.06-2.06.94z\"/><path d=\"M17.41 7.96l-1.37-1.37c-.4-.4-.92-.59-1.43-.59-.52 0-1.04.2-1.43.59L10.3 9.45l-7.72 7.72c-.78.78-.78 2.05 0 2.83L4 21.41c.39.39.9.59 1.41.59.51 0 1.02-.2 1.41-.59l7.78-7.78 2.81-2.81c.8-.78.8-2.07 0-2.86zM5.41 20L4 18.59l7.72-7.72 1.47 1.35L5.41 20z\"/>\n",
              "  </svg>\n",
              "      </button>\n",
              "      \n",
              "  <style>\n",
              "    .colab-df-container {\n",
              "      display:flex;\n",
              "      flex-wrap:wrap;\n",
              "      gap: 12px;\n",
              "    }\n",
              "\n",
              "    .colab-df-convert {\n",
              "      background-color: #E8F0FE;\n",
              "      border: none;\n",
              "      border-radius: 50%;\n",
              "      cursor: pointer;\n",
              "      display: none;\n",
              "      fill: #1967D2;\n",
              "      height: 32px;\n",
              "      padding: 0 0 0 0;\n",
              "      width: 32px;\n",
              "    }\n",
              "\n",
              "    .colab-df-convert:hover {\n",
              "      background-color: #E2EBFA;\n",
              "      box-shadow: 0px 1px 2px rgba(60, 64, 67, 0.3), 0px 1px 3px 1px rgba(60, 64, 67, 0.15);\n",
              "      fill: #174EA6;\n",
              "    }\n",
              "\n",
              "    [theme=dark] .colab-df-convert {\n",
              "      background-color: #3B4455;\n",
              "      fill: #D2E3FC;\n",
              "    }\n",
              "\n",
              "    [theme=dark] .colab-df-convert:hover {\n",
              "      background-color: #434B5C;\n",
              "      box-shadow: 0px 1px 3px 1px rgba(0, 0, 0, 0.15);\n",
              "      filter: drop-shadow(0px 1px 2px rgba(0, 0, 0, 0.3));\n",
              "      fill: #FFFFFF;\n",
              "    }\n",
              "  </style>\n",
              "\n",
              "      <script>\n",
              "        const buttonEl =\n",
              "          document.querySelector('#df-98155e36-87ac-4c19-abdc-d2dd300676b5 button.colab-df-convert');\n",
              "        buttonEl.style.display =\n",
              "          google.colab.kernel.accessAllowed ? 'block' : 'none';\n",
              "\n",
              "        async function convertToInteractive(key) {\n",
              "          const element = document.querySelector('#df-98155e36-87ac-4c19-abdc-d2dd300676b5');\n",
              "          const dataTable =\n",
              "            await google.colab.kernel.invokeFunction('convertToInteractive',\n",
              "                                                     [key], {});\n",
              "          if (!dataTable) return;\n",
              "\n",
              "          const docLinkHtml = 'Like what you see? Visit the ' +\n",
              "            '<a target=\"_blank\" href=https://colab.research.google.com/notebooks/data_table.ipynb>data table notebook</a>'\n",
              "            + ' to learn more about interactive tables.';\n",
              "          element.innerHTML = '';\n",
              "          dataTable['output_type'] = 'display_data';\n",
              "          await google.colab.output.renderOutput(dataTable, element);\n",
              "          const docLink = document.createElement('div');\n",
              "          docLink.innerHTML = docLinkHtml;\n",
              "          element.appendChild(docLink);\n",
              "        }\n",
              "      </script>\n",
              "    </div>\n",
              "  </div>\n",
              "  "
            ]
          },
          "metadata": {},
          "execution_count": 46
        }
      ]
    },
    {
      "cell_type": "code",
      "source": [
        "# Amostra de dados:\n",
        "df.sample(5)"
      ],
      "metadata": {
        "colab": {
          "base_uri": "https://localhost:8080/",
          "height": 206
        },
        "id": "lcGuQYpYWby8",
        "outputId": "82a4618d-ce74-4ffc-a7cb-9f0366ce1c53"
      },
      "execution_count": 47,
      "outputs": [
        {
          "output_type": "execute_result",
          "data": {
            "text/plain": [
              "          ID    Produto  Qtd Vendida                 Data   Loja  \\\n",
              "2580  HL9962    Android          5.0  2020-08-11 00:00:00  iTech   \n",
              "608   HL4379  Televisão          4.0           10/16/2020  iTech   \n",
              "1339  HL1918     iPhone          5.0  2020-03-12 00:00:00  iTech   \n",
              "3135  HL9962    Android          1.0  2020-12-11 00:00:00  iTech   \n",
              "3000  HL1918     iPhone          3.0  2020-11-09 00:00:00  iTech   \n",
              "\n",
              "              Estado          Cidade  Preço Unitário      Nome   Sobrenome  \\\n",
              "2580       São Paulo       Guarulhos            4404    Nathan    Abraçado   \n",
              "608   Rio de Janeiro  Rio de Janeiro           12461   Natalia  Boccaletti   \n",
              "1339    Minas Gerais  Belo Horizonte            3250   Eduardo   Lencastre   \n",
              "3135       São Paulo       Guarulhos            8474  Carolina       Pinto   \n",
              "3000       São Paulo       Guarulhos            7489   Gabriel   Fernandes   \n",
              "\n",
              "     Gênero  \n",
              "2580      M  \n",
              "608       F  \n",
              "1339      M  \n",
              "3135      F  \n",
              "3000      M  "
            ],
            "text/html": [
              "\n",
              "  <div id=\"df-a0ae2483-753f-407f-8373-a90df92804f3\">\n",
              "    <div class=\"colab-df-container\">\n",
              "      <div>\n",
              "<style scoped>\n",
              "    .dataframe tbody tr th:only-of-type {\n",
              "        vertical-align: middle;\n",
              "    }\n",
              "\n",
              "    .dataframe tbody tr th {\n",
              "        vertical-align: top;\n",
              "    }\n",
              "\n",
              "    .dataframe thead th {\n",
              "        text-align: right;\n",
              "    }\n",
              "</style>\n",
              "<table border=\"1\" class=\"dataframe\">\n",
              "  <thead>\n",
              "    <tr style=\"text-align: right;\">\n",
              "      <th></th>\n",
              "      <th>ID</th>\n",
              "      <th>Produto</th>\n",
              "      <th>Qtd Vendida</th>\n",
              "      <th>Data</th>\n",
              "      <th>Loja</th>\n",
              "      <th>Estado</th>\n",
              "      <th>Cidade</th>\n",
              "      <th>Preço Unitário</th>\n",
              "      <th>Nome</th>\n",
              "      <th>Sobrenome</th>\n",
              "      <th>Gênero</th>\n",
              "    </tr>\n",
              "  </thead>\n",
              "  <tbody>\n",
              "    <tr>\n",
              "      <th>2580</th>\n",
              "      <td>HL9962</td>\n",
              "      <td>Android</td>\n",
              "      <td>5.0</td>\n",
              "      <td>2020-08-11 00:00:00</td>\n",
              "      <td>iTech</td>\n",
              "      <td>São Paulo</td>\n",
              "      <td>Guarulhos</td>\n",
              "      <td>4404</td>\n",
              "      <td>Nathan</td>\n",
              "      <td>Abraçado</td>\n",
              "      <td>M</td>\n",
              "    </tr>\n",
              "    <tr>\n",
              "      <th>608</th>\n",
              "      <td>HL4379</td>\n",
              "      <td>Televisão</td>\n",
              "      <td>4.0</td>\n",
              "      <td>10/16/2020</td>\n",
              "      <td>iTech</td>\n",
              "      <td>Rio de Janeiro</td>\n",
              "      <td>Rio de Janeiro</td>\n",
              "      <td>12461</td>\n",
              "      <td>Natalia</td>\n",
              "      <td>Boccaletti</td>\n",
              "      <td>F</td>\n",
              "    </tr>\n",
              "    <tr>\n",
              "      <th>1339</th>\n",
              "      <td>HL1918</td>\n",
              "      <td>iPhone</td>\n",
              "      <td>5.0</td>\n",
              "      <td>2020-03-12 00:00:00</td>\n",
              "      <td>iTech</td>\n",
              "      <td>Minas Gerais</td>\n",
              "      <td>Belo Horizonte</td>\n",
              "      <td>3250</td>\n",
              "      <td>Eduardo</td>\n",
              "      <td>Lencastre</td>\n",
              "      <td>M</td>\n",
              "    </tr>\n",
              "    <tr>\n",
              "      <th>3135</th>\n",
              "      <td>HL9962</td>\n",
              "      <td>Android</td>\n",
              "      <td>1.0</td>\n",
              "      <td>2020-12-11 00:00:00</td>\n",
              "      <td>iTech</td>\n",
              "      <td>São Paulo</td>\n",
              "      <td>Guarulhos</td>\n",
              "      <td>8474</td>\n",
              "      <td>Carolina</td>\n",
              "      <td>Pinto</td>\n",
              "      <td>F</td>\n",
              "    </tr>\n",
              "    <tr>\n",
              "      <th>3000</th>\n",
              "      <td>HL1918</td>\n",
              "      <td>iPhone</td>\n",
              "      <td>3.0</td>\n",
              "      <td>2020-11-09 00:00:00</td>\n",
              "      <td>iTech</td>\n",
              "      <td>São Paulo</td>\n",
              "      <td>Guarulhos</td>\n",
              "      <td>7489</td>\n",
              "      <td>Gabriel</td>\n",
              "      <td>Fernandes</td>\n",
              "      <td>M</td>\n",
              "    </tr>\n",
              "  </tbody>\n",
              "</table>\n",
              "</div>\n",
              "      <button class=\"colab-df-convert\" onclick=\"convertToInteractive('df-a0ae2483-753f-407f-8373-a90df92804f3')\"\n",
              "              title=\"Convert this dataframe to an interactive table.\"\n",
              "              style=\"display:none;\">\n",
              "        \n",
              "  <svg xmlns=\"http://www.w3.org/2000/svg\" height=\"24px\"viewBox=\"0 0 24 24\"\n",
              "       width=\"24px\">\n",
              "    <path d=\"M0 0h24v24H0V0z\" fill=\"none\"/>\n",
              "    <path d=\"M18.56 5.44l.94 2.06.94-2.06 2.06-.94-2.06-.94-.94-2.06-.94 2.06-2.06.94zm-11 1L8.5 8.5l.94-2.06 2.06-.94-2.06-.94L8.5 2.5l-.94 2.06-2.06.94zm10 10l.94 2.06.94-2.06 2.06-.94-2.06-.94-.94-2.06-.94 2.06-2.06.94z\"/><path d=\"M17.41 7.96l-1.37-1.37c-.4-.4-.92-.59-1.43-.59-.52 0-1.04.2-1.43.59L10.3 9.45l-7.72 7.72c-.78.78-.78 2.05 0 2.83L4 21.41c.39.39.9.59 1.41.59.51 0 1.02-.2 1.41-.59l7.78-7.78 2.81-2.81c.8-.78.8-2.07 0-2.86zM5.41 20L4 18.59l7.72-7.72 1.47 1.35L5.41 20z\"/>\n",
              "  </svg>\n",
              "      </button>\n",
              "      \n",
              "  <style>\n",
              "    .colab-df-container {\n",
              "      display:flex;\n",
              "      flex-wrap:wrap;\n",
              "      gap: 12px;\n",
              "    }\n",
              "\n",
              "    .colab-df-convert {\n",
              "      background-color: #E8F0FE;\n",
              "      border: none;\n",
              "      border-radius: 50%;\n",
              "      cursor: pointer;\n",
              "      display: none;\n",
              "      fill: #1967D2;\n",
              "      height: 32px;\n",
              "      padding: 0 0 0 0;\n",
              "      width: 32px;\n",
              "    }\n",
              "\n",
              "    .colab-df-convert:hover {\n",
              "      background-color: #E2EBFA;\n",
              "      box-shadow: 0px 1px 2px rgba(60, 64, 67, 0.3), 0px 1px 3px 1px rgba(60, 64, 67, 0.15);\n",
              "      fill: #174EA6;\n",
              "    }\n",
              "\n",
              "    [theme=dark] .colab-df-convert {\n",
              "      background-color: #3B4455;\n",
              "      fill: #D2E3FC;\n",
              "    }\n",
              "\n",
              "    [theme=dark] .colab-df-convert:hover {\n",
              "      background-color: #434B5C;\n",
              "      box-shadow: 0px 1px 3px 1px rgba(0, 0, 0, 0.15);\n",
              "      filter: drop-shadow(0px 1px 2px rgba(0, 0, 0, 0.3));\n",
              "      fill: #FFFFFF;\n",
              "    }\n",
              "  </style>\n",
              "\n",
              "      <script>\n",
              "        const buttonEl =\n",
              "          document.querySelector('#df-a0ae2483-753f-407f-8373-a90df92804f3 button.colab-df-convert');\n",
              "        buttonEl.style.display =\n",
              "          google.colab.kernel.accessAllowed ? 'block' : 'none';\n",
              "\n",
              "        async function convertToInteractive(key) {\n",
              "          const element = document.querySelector('#df-a0ae2483-753f-407f-8373-a90df92804f3');\n",
              "          const dataTable =\n",
              "            await google.colab.kernel.invokeFunction('convertToInteractive',\n",
              "                                                     [key], {});\n",
              "          if (!dataTable) return;\n",
              "\n",
              "          const docLinkHtml = 'Like what you see? Visit the ' +\n",
              "            '<a target=\"_blank\" href=https://colab.research.google.com/notebooks/data_table.ipynb>data table notebook</a>'\n",
              "            + ' to learn more about interactive tables.';\n",
              "          element.innerHTML = '';\n",
              "          dataTable['output_type'] = 'display_data';\n",
              "          await google.colab.output.renderOutput(dataTable, element);\n",
              "          const docLink = document.createElement('div');\n",
              "          docLink.innerHTML = docLinkHtml;\n",
              "          element.appendChild(docLink);\n",
              "        }\n",
              "      </script>\n",
              "    </div>\n",
              "  </div>\n",
              "  "
            ]
          },
          "metadata": {},
          "execution_count": 47
        }
      ]
    },
    {
      "cell_type": "code",
      "source": [
        "# Verificando os tipos de dados:\n",
        "df.dtypes"
      ],
      "metadata": {
        "colab": {
          "base_uri": "https://localhost:8080/"
        },
        "id": "UuXhrQKeYN9y",
        "outputId": "2bcbc022-5e42-4cf4-84ef-7daa84812c7e"
      },
      "execution_count": 48,
      "outputs": [
        {
          "output_type": "execute_result",
          "data": {
            "text/plain": [
              "ID                 object\n",
              "Produto            object\n",
              "Qtd Vendida       float64\n",
              "Data               object\n",
              "Loja               object\n",
              "Estado             object\n",
              "Cidade             object\n",
              "Preço Unitário      int64\n",
              "Nome               object\n",
              "Sobrenome          object\n",
              "Gênero             object\n",
              "dtype: object"
            ]
          },
          "metadata": {},
          "execution_count": 48
        }
      ]
    },
    {
      "cell_type": "code",
      "source": [
        "# Alterando o tipo de dado da coluna quantidade de vendas:\n",
        "df[\"Qtd Vendida\"] = df[\"Qtd Vendida\"].astype(\"int64\")"
      ],
      "metadata": {
        "id": "n_mak7LcYcgX"
      },
      "execution_count": 49,
      "outputs": []
    },
    {
      "cell_type": "code",
      "source": [
        "# Alterando o tipo de dado da coluna preço unitário:\n",
        "df[\"Preço Unitário\"] = df[\"Preço Unitário\"].astype(\"float64\")"
      ],
      "metadata": {
        "id": "HfDHZ5FfmCBh"
      },
      "execution_count": 50,
      "outputs": []
    },
    {
      "cell_type": "code",
      "source": [
        "df.dtypes"
      ],
      "metadata": {
        "colab": {
          "base_uri": "https://localhost:8080/"
        },
        "id": "RNnptg2Fe5qC",
        "outputId": "72abae52-e40b-4fd3-c159-2eb5aaf15f3c"
      },
      "execution_count": 51,
      "outputs": [
        {
          "output_type": "execute_result",
          "data": {
            "text/plain": [
              "ID                 object\n",
              "Produto            object\n",
              "Qtd Vendida         int64\n",
              "Data               object\n",
              "Loja               object\n",
              "Estado             object\n",
              "Cidade             object\n",
              "Preço Unitário    float64\n",
              "Nome               object\n",
              "Sobrenome          object\n",
              "Gênero             object\n",
              "dtype: object"
            ]
          },
          "metadata": {},
          "execution_count": 51
        }
      ]
    },
    {
      "cell_type": "code",
      "source": [
        "df.head(10)"
      ],
      "metadata": {
        "colab": {
          "base_uri": "https://localhost:8080/",
          "height": 363
        },
        "id": "twJfWU5qe8i9",
        "outputId": "94bc6e3a-0257-4780-bd81-4339b0bde6e5"
      },
      "execution_count": 52,
      "outputs": [
        {
          "output_type": "execute_result",
          "data": {
            "text/plain": [
              "       ID     Produto  Qtd Vendida                 Data   Loja        Estado  \\\n",
              "0  HL1918      iPhone            2  2020-01-01 00:00:00  iTech  Minas Gerais   \n",
              "1  HL7348  SmartWatch            3  2020-01-01 00:00:00  iTech  Minas Gerais   \n",
              "2  HL2714      Tablet            4  2020-02-01 00:00:00  iTech  Minas Gerais   \n",
              "3  HL7348  SmartWatch            4  2020-02-01 00:00:00  iTech  Minas Gerais   \n",
              "4  HL7348  SmartWatch            5  2020-02-01 00:00:00  iTech  Minas Gerais   \n",
              "5  HL9962     Android            1  2020-03-01 00:00:00  iTech  Minas Gerais   \n",
              "6  HL7348  SmartWatch            1  2020-03-01 00:00:00  iTech  Minas Gerais   \n",
              "7  HL1918      iPhone            1  2020-04-01 00:00:00  iTech  Minas Gerais   \n",
              "8  HL4379   Televisão            5  2020-04-01 00:00:00  iTech  Minas Gerais   \n",
              "9  HL4379   Televisão            3  2020-04-01 00:00:00  iTech  Minas Gerais   \n",
              "\n",
              "           Cidade  Preço Unitário      Nome  Sobrenome Gênero  \n",
              "0  Belo Horizonte          9440.0    Silvio     Santos      M  \n",
              "1  Belo Horizonte          3945.0    Marina     Araujo      F  \n",
              "2  Belo Horizonte         10392.0   Raphael    Roberto      M  \n",
              "3  Belo Horizonte          7024.0  Isabelle      Souza      F  \n",
              "4  Belo Horizonte         12058.0  Fernanda   Cozendey      F  \n",
              "5  Belo Horizonte          1797.0      João    Teraoka      M  \n",
              "6  Belo Horizonte          4681.0    Raíssa     Junior      F  \n",
              "7  Belo Horizonte          5819.0       Ana  Rodrigues      F  \n",
              "8  Belo Horizonte         13431.0  Fernanda      Mello      F  \n",
              "9  Belo Horizonte         14605.0   Beatriz   Teixeira      F  "
            ],
            "text/html": [
              "\n",
              "  <div id=\"df-faf07550-2858-41cd-9375-5dc14dd7939e\">\n",
              "    <div class=\"colab-df-container\">\n",
              "      <div>\n",
              "<style scoped>\n",
              "    .dataframe tbody tr th:only-of-type {\n",
              "        vertical-align: middle;\n",
              "    }\n",
              "\n",
              "    .dataframe tbody tr th {\n",
              "        vertical-align: top;\n",
              "    }\n",
              "\n",
              "    .dataframe thead th {\n",
              "        text-align: right;\n",
              "    }\n",
              "</style>\n",
              "<table border=\"1\" class=\"dataframe\">\n",
              "  <thead>\n",
              "    <tr style=\"text-align: right;\">\n",
              "      <th></th>\n",
              "      <th>ID</th>\n",
              "      <th>Produto</th>\n",
              "      <th>Qtd Vendida</th>\n",
              "      <th>Data</th>\n",
              "      <th>Loja</th>\n",
              "      <th>Estado</th>\n",
              "      <th>Cidade</th>\n",
              "      <th>Preço Unitário</th>\n",
              "      <th>Nome</th>\n",
              "      <th>Sobrenome</th>\n",
              "      <th>Gênero</th>\n",
              "    </tr>\n",
              "  </thead>\n",
              "  <tbody>\n",
              "    <tr>\n",
              "      <th>0</th>\n",
              "      <td>HL1918</td>\n",
              "      <td>iPhone</td>\n",
              "      <td>2</td>\n",
              "      <td>2020-01-01 00:00:00</td>\n",
              "      <td>iTech</td>\n",
              "      <td>Minas Gerais</td>\n",
              "      <td>Belo Horizonte</td>\n",
              "      <td>9440.0</td>\n",
              "      <td>Silvio</td>\n",
              "      <td>Santos</td>\n",
              "      <td>M</td>\n",
              "    </tr>\n",
              "    <tr>\n",
              "      <th>1</th>\n",
              "      <td>HL7348</td>\n",
              "      <td>SmartWatch</td>\n",
              "      <td>3</td>\n",
              "      <td>2020-01-01 00:00:00</td>\n",
              "      <td>iTech</td>\n",
              "      <td>Minas Gerais</td>\n",
              "      <td>Belo Horizonte</td>\n",
              "      <td>3945.0</td>\n",
              "      <td>Marina</td>\n",
              "      <td>Araujo</td>\n",
              "      <td>F</td>\n",
              "    </tr>\n",
              "    <tr>\n",
              "      <th>2</th>\n",
              "      <td>HL2714</td>\n",
              "      <td>Tablet</td>\n",
              "      <td>4</td>\n",
              "      <td>2020-02-01 00:00:00</td>\n",
              "      <td>iTech</td>\n",
              "      <td>Minas Gerais</td>\n",
              "      <td>Belo Horizonte</td>\n",
              "      <td>10392.0</td>\n",
              "      <td>Raphael</td>\n",
              "      <td>Roberto</td>\n",
              "      <td>M</td>\n",
              "    </tr>\n",
              "    <tr>\n",
              "      <th>3</th>\n",
              "      <td>HL7348</td>\n",
              "      <td>SmartWatch</td>\n",
              "      <td>4</td>\n",
              "      <td>2020-02-01 00:00:00</td>\n",
              "      <td>iTech</td>\n",
              "      <td>Minas Gerais</td>\n",
              "      <td>Belo Horizonte</td>\n",
              "      <td>7024.0</td>\n",
              "      <td>Isabelle</td>\n",
              "      <td>Souza</td>\n",
              "      <td>F</td>\n",
              "    </tr>\n",
              "    <tr>\n",
              "      <th>4</th>\n",
              "      <td>HL7348</td>\n",
              "      <td>SmartWatch</td>\n",
              "      <td>5</td>\n",
              "      <td>2020-02-01 00:00:00</td>\n",
              "      <td>iTech</td>\n",
              "      <td>Minas Gerais</td>\n",
              "      <td>Belo Horizonte</td>\n",
              "      <td>12058.0</td>\n",
              "      <td>Fernanda</td>\n",
              "      <td>Cozendey</td>\n",
              "      <td>F</td>\n",
              "    </tr>\n",
              "    <tr>\n",
              "      <th>5</th>\n",
              "      <td>HL9962</td>\n",
              "      <td>Android</td>\n",
              "      <td>1</td>\n",
              "      <td>2020-03-01 00:00:00</td>\n",
              "      <td>iTech</td>\n",
              "      <td>Minas Gerais</td>\n",
              "      <td>Belo Horizonte</td>\n",
              "      <td>1797.0</td>\n",
              "      <td>João</td>\n",
              "      <td>Teraoka</td>\n",
              "      <td>M</td>\n",
              "    </tr>\n",
              "    <tr>\n",
              "      <th>6</th>\n",
              "      <td>HL7348</td>\n",
              "      <td>SmartWatch</td>\n",
              "      <td>1</td>\n",
              "      <td>2020-03-01 00:00:00</td>\n",
              "      <td>iTech</td>\n",
              "      <td>Minas Gerais</td>\n",
              "      <td>Belo Horizonte</td>\n",
              "      <td>4681.0</td>\n",
              "      <td>Raíssa</td>\n",
              "      <td>Junior</td>\n",
              "      <td>F</td>\n",
              "    </tr>\n",
              "    <tr>\n",
              "      <th>7</th>\n",
              "      <td>HL1918</td>\n",
              "      <td>iPhone</td>\n",
              "      <td>1</td>\n",
              "      <td>2020-04-01 00:00:00</td>\n",
              "      <td>iTech</td>\n",
              "      <td>Minas Gerais</td>\n",
              "      <td>Belo Horizonte</td>\n",
              "      <td>5819.0</td>\n",
              "      <td>Ana</td>\n",
              "      <td>Rodrigues</td>\n",
              "      <td>F</td>\n",
              "    </tr>\n",
              "    <tr>\n",
              "      <th>8</th>\n",
              "      <td>HL4379</td>\n",
              "      <td>Televisão</td>\n",
              "      <td>5</td>\n",
              "      <td>2020-04-01 00:00:00</td>\n",
              "      <td>iTech</td>\n",
              "      <td>Minas Gerais</td>\n",
              "      <td>Belo Horizonte</td>\n",
              "      <td>13431.0</td>\n",
              "      <td>Fernanda</td>\n",
              "      <td>Mello</td>\n",
              "      <td>F</td>\n",
              "    </tr>\n",
              "    <tr>\n",
              "      <th>9</th>\n",
              "      <td>HL4379</td>\n",
              "      <td>Televisão</td>\n",
              "      <td>3</td>\n",
              "      <td>2020-04-01 00:00:00</td>\n",
              "      <td>iTech</td>\n",
              "      <td>Minas Gerais</td>\n",
              "      <td>Belo Horizonte</td>\n",
              "      <td>14605.0</td>\n",
              "      <td>Beatriz</td>\n",
              "      <td>Teixeira</td>\n",
              "      <td>F</td>\n",
              "    </tr>\n",
              "  </tbody>\n",
              "</table>\n",
              "</div>\n",
              "      <button class=\"colab-df-convert\" onclick=\"convertToInteractive('df-faf07550-2858-41cd-9375-5dc14dd7939e')\"\n",
              "              title=\"Convert this dataframe to an interactive table.\"\n",
              "              style=\"display:none;\">\n",
              "        \n",
              "  <svg xmlns=\"http://www.w3.org/2000/svg\" height=\"24px\"viewBox=\"0 0 24 24\"\n",
              "       width=\"24px\">\n",
              "    <path d=\"M0 0h24v24H0V0z\" fill=\"none\"/>\n",
              "    <path d=\"M18.56 5.44l.94 2.06.94-2.06 2.06-.94-2.06-.94-.94-2.06-.94 2.06-2.06.94zm-11 1L8.5 8.5l.94-2.06 2.06-.94-2.06-.94L8.5 2.5l-.94 2.06-2.06.94zm10 10l.94 2.06.94-2.06 2.06-.94-2.06-.94-.94-2.06-.94 2.06-2.06.94z\"/><path d=\"M17.41 7.96l-1.37-1.37c-.4-.4-.92-.59-1.43-.59-.52 0-1.04.2-1.43.59L10.3 9.45l-7.72 7.72c-.78.78-.78 2.05 0 2.83L4 21.41c.39.39.9.59 1.41.59.51 0 1.02-.2 1.41-.59l7.78-7.78 2.81-2.81c.8-.78.8-2.07 0-2.86zM5.41 20L4 18.59l7.72-7.72 1.47 1.35L5.41 20z\"/>\n",
              "  </svg>\n",
              "      </button>\n",
              "      \n",
              "  <style>\n",
              "    .colab-df-container {\n",
              "      display:flex;\n",
              "      flex-wrap:wrap;\n",
              "      gap: 12px;\n",
              "    }\n",
              "\n",
              "    .colab-df-convert {\n",
              "      background-color: #E8F0FE;\n",
              "      border: none;\n",
              "      border-radius: 50%;\n",
              "      cursor: pointer;\n",
              "      display: none;\n",
              "      fill: #1967D2;\n",
              "      height: 32px;\n",
              "      padding: 0 0 0 0;\n",
              "      width: 32px;\n",
              "    }\n",
              "\n",
              "    .colab-df-convert:hover {\n",
              "      background-color: #E2EBFA;\n",
              "      box-shadow: 0px 1px 2px rgba(60, 64, 67, 0.3), 0px 1px 3px 1px rgba(60, 64, 67, 0.15);\n",
              "      fill: #174EA6;\n",
              "    }\n",
              "\n",
              "    [theme=dark] .colab-df-convert {\n",
              "      background-color: #3B4455;\n",
              "      fill: #D2E3FC;\n",
              "    }\n",
              "\n",
              "    [theme=dark] .colab-df-convert:hover {\n",
              "      background-color: #434B5C;\n",
              "      box-shadow: 0px 1px 3px 1px rgba(0, 0, 0, 0.15);\n",
              "      filter: drop-shadow(0px 1px 2px rgba(0, 0, 0, 0.3));\n",
              "      fill: #FFFFFF;\n",
              "    }\n",
              "  </style>\n",
              "\n",
              "      <script>\n",
              "        const buttonEl =\n",
              "          document.querySelector('#df-faf07550-2858-41cd-9375-5dc14dd7939e button.colab-df-convert');\n",
              "        buttonEl.style.display =\n",
              "          google.colab.kernel.accessAllowed ? 'block' : 'none';\n",
              "\n",
              "        async function convertToInteractive(key) {\n",
              "          const element = document.querySelector('#df-faf07550-2858-41cd-9375-5dc14dd7939e');\n",
              "          const dataTable =\n",
              "            await google.colab.kernel.invokeFunction('convertToInteractive',\n",
              "                                                     [key], {});\n",
              "          if (!dataTable) return;\n",
              "\n",
              "          const docLinkHtml = 'Like what you see? Visit the ' +\n",
              "            '<a target=\"_blank\" href=https://colab.research.google.com/notebooks/data_table.ipynb>data table notebook</a>'\n",
              "            + ' to learn more about interactive tables.';\n",
              "          element.innerHTML = '';\n",
              "          dataTable['output_type'] = 'display_data';\n",
              "          await google.colab.output.renderOutput(dataTable, element);\n",
              "          const docLink = document.createElement('div');\n",
              "          docLink.innerHTML = docLinkHtml;\n",
              "          element.appendChild(docLink);\n",
              "        }\n",
              "      </script>\n",
              "    </div>\n",
              "  </div>\n",
              "  "
            ]
          },
          "metadata": {},
          "execution_count": 52
        }
      ]
    },
    {
      "cell_type": "markdown",
      "source": [
        "**Tratando Valores faltantes:**"
      ],
      "metadata": {
        "id": "H3a7sOJVfSDa"
      }
    },
    {
      "cell_type": "code",
      "source": [
        "# Verificando se existem linhas com valores faltantes:\n",
        "df.isnull().sum()"
      ],
      "metadata": {
        "colab": {
          "base_uri": "https://localhost:8080/"
        },
        "id": "jgVE-2DhfYxD",
        "outputId": "fdcce251-5927-4d14-c4a4-c8b32e210600"
      },
      "execution_count": 53,
      "outputs": [
        {
          "output_type": "execute_result",
          "data": {
            "text/plain": [
              "ID                0\n",
              "Produto           0\n",
              "Qtd Vendida       0\n",
              "Data              0\n",
              "Loja              0\n",
              "Estado            0\n",
              "Cidade            0\n",
              "Preço Unitário    0\n",
              "Nome              0\n",
              "Sobrenome         0\n",
              "Gênero            0\n",
              "dtype: int64"
            ]
          },
          "metadata": {},
          "execution_count": 53
        }
      ]
    },
    {
      "cell_type": "code",
      "source": [
        "# Apagar os valores nulos caso tivesse:\n",
        "# df.dropna(inplace=True)"
      ],
      "metadata": {
        "id": "C2ukUSIKfgQc"
      },
      "execution_count": 54,
      "outputs": []
    },
    {
      "cell_type": "code",
      "source": [
        "# Substituir valores nulos por 0, caso tivessem=:\n",
        "# df[\"Qtd Vendida\"].fillna(0, inplace=True)"
      ],
      "metadata": {
        "id": "4LreQ52AgBF_"
      },
      "execution_count": 55,
      "outputs": []
    },
    {
      "cell_type": "code",
      "source": [
        "# Apagar as linhas com valores nulos com base em 1 coluna, caso tivesse:\n",
        "# df.dropna(subset=[\"Qtd Vendida\"], inplace=True)"
      ],
      "metadata": {
        "id": "eOrb1uHyg-Gb"
      },
      "execution_count": 56,
      "outputs": []
    },
    {
      "cell_type": "code",
      "source": [
        "# Removendo linhas que estejam com valores faltantes em todas as colunas, caso\n",
        "# tivesse:\n",
        "# df.dropna(how=\"all\", inplace=True)"
      ],
      "metadata": {
        "id": "BRm7jwwtgXDY"
      },
      "execution_count": 57,
      "outputs": []
    },
    {
      "cell_type": "markdown",
      "source": [
        "**Criando novas colunas:**"
      ],
      "metadata": {
        "id": "yDJeXj4EgzWo"
      }
    },
    {
      "cell_type": "code",
      "source": [
        "# Criando uma nova coluna de receita:\n",
        "df[\"Receita\"] = df[\"Qtd Vendida\"].mul(df[\"Preço Unitário\"])"
      ],
      "metadata": {
        "id": "sOeGZd70gyhr"
      },
      "execution_count": 58,
      "outputs": []
    },
    {
      "cell_type": "code",
      "source": [
        "df.head(10)"
      ],
      "metadata": {
        "colab": {
          "base_uri": "https://localhost:8080/",
          "height": 363
        },
        "id": "tcgeJT26h73Q",
        "outputId": "413f7b8d-9261-4443-f371-b1b595098134"
      },
      "execution_count": 59,
      "outputs": [
        {
          "output_type": "execute_result",
          "data": {
            "text/plain": [
              "       ID     Produto  Qtd Vendida                 Data   Loja        Estado  \\\n",
              "0  HL1918      iPhone            2  2020-01-01 00:00:00  iTech  Minas Gerais   \n",
              "1  HL7348  SmartWatch            3  2020-01-01 00:00:00  iTech  Minas Gerais   \n",
              "2  HL2714      Tablet            4  2020-02-01 00:00:00  iTech  Minas Gerais   \n",
              "3  HL7348  SmartWatch            4  2020-02-01 00:00:00  iTech  Minas Gerais   \n",
              "4  HL7348  SmartWatch            5  2020-02-01 00:00:00  iTech  Minas Gerais   \n",
              "5  HL9962     Android            1  2020-03-01 00:00:00  iTech  Minas Gerais   \n",
              "6  HL7348  SmartWatch            1  2020-03-01 00:00:00  iTech  Minas Gerais   \n",
              "7  HL1918      iPhone            1  2020-04-01 00:00:00  iTech  Minas Gerais   \n",
              "8  HL4379   Televisão            5  2020-04-01 00:00:00  iTech  Minas Gerais   \n",
              "9  HL4379   Televisão            3  2020-04-01 00:00:00  iTech  Minas Gerais   \n",
              "\n",
              "           Cidade  Preço Unitário      Nome  Sobrenome Gênero  Receita  \n",
              "0  Belo Horizonte          9440.0    Silvio     Santos      M  18880.0  \n",
              "1  Belo Horizonte          3945.0    Marina     Araujo      F  11835.0  \n",
              "2  Belo Horizonte         10392.0   Raphael    Roberto      M  41568.0  \n",
              "3  Belo Horizonte          7024.0  Isabelle      Souza      F  28096.0  \n",
              "4  Belo Horizonte         12058.0  Fernanda   Cozendey      F  60290.0  \n",
              "5  Belo Horizonte          1797.0      João    Teraoka      M   1797.0  \n",
              "6  Belo Horizonte          4681.0    Raíssa     Junior      F   4681.0  \n",
              "7  Belo Horizonte          5819.0       Ana  Rodrigues      F   5819.0  \n",
              "8  Belo Horizonte         13431.0  Fernanda      Mello      F  67155.0  \n",
              "9  Belo Horizonte         14605.0   Beatriz   Teixeira      F  43815.0  "
            ],
            "text/html": [
              "\n",
              "  <div id=\"df-4cc95c1b-1a8b-4e28-9bc3-9af7b3f6c258\">\n",
              "    <div class=\"colab-df-container\">\n",
              "      <div>\n",
              "<style scoped>\n",
              "    .dataframe tbody tr th:only-of-type {\n",
              "        vertical-align: middle;\n",
              "    }\n",
              "\n",
              "    .dataframe tbody tr th {\n",
              "        vertical-align: top;\n",
              "    }\n",
              "\n",
              "    .dataframe thead th {\n",
              "        text-align: right;\n",
              "    }\n",
              "</style>\n",
              "<table border=\"1\" class=\"dataframe\">\n",
              "  <thead>\n",
              "    <tr style=\"text-align: right;\">\n",
              "      <th></th>\n",
              "      <th>ID</th>\n",
              "      <th>Produto</th>\n",
              "      <th>Qtd Vendida</th>\n",
              "      <th>Data</th>\n",
              "      <th>Loja</th>\n",
              "      <th>Estado</th>\n",
              "      <th>Cidade</th>\n",
              "      <th>Preço Unitário</th>\n",
              "      <th>Nome</th>\n",
              "      <th>Sobrenome</th>\n",
              "      <th>Gênero</th>\n",
              "      <th>Receita</th>\n",
              "    </tr>\n",
              "  </thead>\n",
              "  <tbody>\n",
              "    <tr>\n",
              "      <th>0</th>\n",
              "      <td>HL1918</td>\n",
              "      <td>iPhone</td>\n",
              "      <td>2</td>\n",
              "      <td>2020-01-01 00:00:00</td>\n",
              "      <td>iTech</td>\n",
              "      <td>Minas Gerais</td>\n",
              "      <td>Belo Horizonte</td>\n",
              "      <td>9440.0</td>\n",
              "      <td>Silvio</td>\n",
              "      <td>Santos</td>\n",
              "      <td>M</td>\n",
              "      <td>18880.0</td>\n",
              "    </tr>\n",
              "    <tr>\n",
              "      <th>1</th>\n",
              "      <td>HL7348</td>\n",
              "      <td>SmartWatch</td>\n",
              "      <td>3</td>\n",
              "      <td>2020-01-01 00:00:00</td>\n",
              "      <td>iTech</td>\n",
              "      <td>Minas Gerais</td>\n",
              "      <td>Belo Horizonte</td>\n",
              "      <td>3945.0</td>\n",
              "      <td>Marina</td>\n",
              "      <td>Araujo</td>\n",
              "      <td>F</td>\n",
              "      <td>11835.0</td>\n",
              "    </tr>\n",
              "    <tr>\n",
              "      <th>2</th>\n",
              "      <td>HL2714</td>\n",
              "      <td>Tablet</td>\n",
              "      <td>4</td>\n",
              "      <td>2020-02-01 00:00:00</td>\n",
              "      <td>iTech</td>\n",
              "      <td>Minas Gerais</td>\n",
              "      <td>Belo Horizonte</td>\n",
              "      <td>10392.0</td>\n",
              "      <td>Raphael</td>\n",
              "      <td>Roberto</td>\n",
              "      <td>M</td>\n",
              "      <td>41568.0</td>\n",
              "    </tr>\n",
              "    <tr>\n",
              "      <th>3</th>\n",
              "      <td>HL7348</td>\n",
              "      <td>SmartWatch</td>\n",
              "      <td>4</td>\n",
              "      <td>2020-02-01 00:00:00</td>\n",
              "      <td>iTech</td>\n",
              "      <td>Minas Gerais</td>\n",
              "      <td>Belo Horizonte</td>\n",
              "      <td>7024.0</td>\n",
              "      <td>Isabelle</td>\n",
              "      <td>Souza</td>\n",
              "      <td>F</td>\n",
              "      <td>28096.0</td>\n",
              "    </tr>\n",
              "    <tr>\n",
              "      <th>4</th>\n",
              "      <td>HL7348</td>\n",
              "      <td>SmartWatch</td>\n",
              "      <td>5</td>\n",
              "      <td>2020-02-01 00:00:00</td>\n",
              "      <td>iTech</td>\n",
              "      <td>Minas Gerais</td>\n",
              "      <td>Belo Horizonte</td>\n",
              "      <td>12058.0</td>\n",
              "      <td>Fernanda</td>\n",
              "      <td>Cozendey</td>\n",
              "      <td>F</td>\n",
              "      <td>60290.0</td>\n",
              "    </tr>\n",
              "    <tr>\n",
              "      <th>5</th>\n",
              "      <td>HL9962</td>\n",
              "      <td>Android</td>\n",
              "      <td>1</td>\n",
              "      <td>2020-03-01 00:00:00</td>\n",
              "      <td>iTech</td>\n",
              "      <td>Minas Gerais</td>\n",
              "      <td>Belo Horizonte</td>\n",
              "      <td>1797.0</td>\n",
              "      <td>João</td>\n",
              "      <td>Teraoka</td>\n",
              "      <td>M</td>\n",
              "      <td>1797.0</td>\n",
              "    </tr>\n",
              "    <tr>\n",
              "      <th>6</th>\n",
              "      <td>HL7348</td>\n",
              "      <td>SmartWatch</td>\n",
              "      <td>1</td>\n",
              "      <td>2020-03-01 00:00:00</td>\n",
              "      <td>iTech</td>\n",
              "      <td>Minas Gerais</td>\n",
              "      <td>Belo Horizonte</td>\n",
              "      <td>4681.0</td>\n",
              "      <td>Raíssa</td>\n",
              "      <td>Junior</td>\n",
              "      <td>F</td>\n",
              "      <td>4681.0</td>\n",
              "    </tr>\n",
              "    <tr>\n",
              "      <th>7</th>\n",
              "      <td>HL1918</td>\n",
              "      <td>iPhone</td>\n",
              "      <td>1</td>\n",
              "      <td>2020-04-01 00:00:00</td>\n",
              "      <td>iTech</td>\n",
              "      <td>Minas Gerais</td>\n",
              "      <td>Belo Horizonte</td>\n",
              "      <td>5819.0</td>\n",
              "      <td>Ana</td>\n",
              "      <td>Rodrigues</td>\n",
              "      <td>F</td>\n",
              "      <td>5819.0</td>\n",
              "    </tr>\n",
              "    <tr>\n",
              "      <th>8</th>\n",
              "      <td>HL4379</td>\n",
              "      <td>Televisão</td>\n",
              "      <td>5</td>\n",
              "      <td>2020-04-01 00:00:00</td>\n",
              "      <td>iTech</td>\n",
              "      <td>Minas Gerais</td>\n",
              "      <td>Belo Horizonte</td>\n",
              "      <td>13431.0</td>\n",
              "      <td>Fernanda</td>\n",
              "      <td>Mello</td>\n",
              "      <td>F</td>\n",
              "      <td>67155.0</td>\n",
              "    </tr>\n",
              "    <tr>\n",
              "      <th>9</th>\n",
              "      <td>HL4379</td>\n",
              "      <td>Televisão</td>\n",
              "      <td>3</td>\n",
              "      <td>2020-04-01 00:00:00</td>\n",
              "      <td>iTech</td>\n",
              "      <td>Minas Gerais</td>\n",
              "      <td>Belo Horizonte</td>\n",
              "      <td>14605.0</td>\n",
              "      <td>Beatriz</td>\n",
              "      <td>Teixeira</td>\n",
              "      <td>F</td>\n",
              "      <td>43815.0</td>\n",
              "    </tr>\n",
              "  </tbody>\n",
              "</table>\n",
              "</div>\n",
              "      <button class=\"colab-df-convert\" onclick=\"convertToInteractive('df-4cc95c1b-1a8b-4e28-9bc3-9af7b3f6c258')\"\n",
              "              title=\"Convert this dataframe to an interactive table.\"\n",
              "              style=\"display:none;\">\n",
              "        \n",
              "  <svg xmlns=\"http://www.w3.org/2000/svg\" height=\"24px\"viewBox=\"0 0 24 24\"\n",
              "       width=\"24px\">\n",
              "    <path d=\"M0 0h24v24H0V0z\" fill=\"none\"/>\n",
              "    <path d=\"M18.56 5.44l.94 2.06.94-2.06 2.06-.94-2.06-.94-.94-2.06-.94 2.06-2.06.94zm-11 1L8.5 8.5l.94-2.06 2.06-.94-2.06-.94L8.5 2.5l-.94 2.06-2.06.94zm10 10l.94 2.06.94-2.06 2.06-.94-2.06-.94-.94-2.06-.94 2.06-2.06.94z\"/><path d=\"M17.41 7.96l-1.37-1.37c-.4-.4-.92-.59-1.43-.59-.52 0-1.04.2-1.43.59L10.3 9.45l-7.72 7.72c-.78.78-.78 2.05 0 2.83L4 21.41c.39.39.9.59 1.41.59.51 0 1.02-.2 1.41-.59l7.78-7.78 2.81-2.81c.8-.78.8-2.07 0-2.86zM5.41 20L4 18.59l7.72-7.72 1.47 1.35L5.41 20z\"/>\n",
              "  </svg>\n",
              "      </button>\n",
              "      \n",
              "  <style>\n",
              "    .colab-df-container {\n",
              "      display:flex;\n",
              "      flex-wrap:wrap;\n",
              "      gap: 12px;\n",
              "    }\n",
              "\n",
              "    .colab-df-convert {\n",
              "      background-color: #E8F0FE;\n",
              "      border: none;\n",
              "      border-radius: 50%;\n",
              "      cursor: pointer;\n",
              "      display: none;\n",
              "      fill: #1967D2;\n",
              "      height: 32px;\n",
              "      padding: 0 0 0 0;\n",
              "      width: 32px;\n",
              "    }\n",
              "\n",
              "    .colab-df-convert:hover {\n",
              "      background-color: #E2EBFA;\n",
              "      box-shadow: 0px 1px 2px rgba(60, 64, 67, 0.3), 0px 1px 3px 1px rgba(60, 64, 67, 0.15);\n",
              "      fill: #174EA6;\n",
              "    }\n",
              "\n",
              "    [theme=dark] .colab-df-convert {\n",
              "      background-color: #3B4455;\n",
              "      fill: #D2E3FC;\n",
              "    }\n",
              "\n",
              "    [theme=dark] .colab-df-convert:hover {\n",
              "      background-color: #434B5C;\n",
              "      box-shadow: 0px 1px 3px 1px rgba(0, 0, 0, 0.15);\n",
              "      filter: drop-shadow(0px 1px 2px rgba(0, 0, 0, 0.3));\n",
              "      fill: #FFFFFF;\n",
              "    }\n",
              "  </style>\n",
              "\n",
              "      <script>\n",
              "        const buttonEl =\n",
              "          document.querySelector('#df-4cc95c1b-1a8b-4e28-9bc3-9af7b3f6c258 button.colab-df-convert');\n",
              "        buttonEl.style.display =\n",
              "          google.colab.kernel.accessAllowed ? 'block' : 'none';\n",
              "\n",
              "        async function convertToInteractive(key) {\n",
              "          const element = document.querySelector('#df-4cc95c1b-1a8b-4e28-9bc3-9af7b3f6c258');\n",
              "          const dataTable =\n",
              "            await google.colab.kernel.invokeFunction('convertToInteractive',\n",
              "                                                     [key], {});\n",
              "          if (!dataTable) return;\n",
              "\n",
              "          const docLinkHtml = 'Like what you see? Visit the ' +\n",
              "            '<a target=\"_blank\" href=https://colab.research.google.com/notebooks/data_table.ipynb>data table notebook</a>'\n",
              "            + ' to learn more about interactive tables.';\n",
              "          element.innerHTML = '';\n",
              "          dataTable['output_type'] = 'display_data';\n",
              "          await google.colab.output.renderOutput(dataTable, element);\n",
              "          const docLink = document.createElement('div');\n",
              "          docLink.innerHTML = docLinkHtml;\n",
              "          element.appendChild(docLink);\n",
              "        }\n",
              "      </script>\n",
              "    </div>\n",
              "  </div>\n",
              "  "
            ]
          },
          "metadata": {},
          "execution_count": 59
        }
      ]
    },
    {
      "cell_type": "code",
      "source": [
        "# Retornando o maior valor de receita:\n",
        "df[\"Receita\"].max()"
      ],
      "metadata": {
        "colab": {
          "base_uri": "https://localhost:8080/"
        },
        "id": "naOHNWVUi5jE",
        "outputId": "8d50b9d8-e19e-4604-9fb0-4b29c3cc2cbd"
      },
      "execution_count": 60,
      "outputs": [
        {
          "output_type": "execute_result",
          "data": {
            "text/plain": [
              "74985.0"
            ]
          },
          "metadata": {},
          "execution_count": 60
        }
      ]
    },
    {
      "cell_type": "code",
      "source": [
        "# Retornando o menor valor de receita:\n",
        "df[\"Receita\"].min()"
      ],
      "metadata": {
        "colab": {
          "base_uri": "https://localhost:8080/"
        },
        "id": "GW_1Twm5kFly",
        "outputId": "b720184c-dc62-4d5e-9631-909d368c56f4"
      },
      "execution_count": 61,
      "outputs": [
        {
          "output_type": "execute_result",
          "data": {
            "text/plain": [
              "1508.0"
            ]
          },
          "metadata": {},
          "execution_count": 61
        }
      ]
    },
    {
      "cell_type": "code",
      "source": [
        "# Retornar as linhas com as maiores receitas - nlargest:\n",
        "df.nlargest(5, \"Receita\")"
      ],
      "metadata": {
        "colab": {
          "base_uri": "https://localhost:8080/",
          "height": 206
        },
        "id": "KL2QS4sskJQk",
        "outputId": "0dec2a4f-8e01-4515-9a11-79d24faa84c9"
      },
      "execution_count": 62,
      "outputs": [
        {
          "output_type": "execute_result",
          "data": {
            "text/plain": [
              "          ID     Produto  Qtd Vendida       Data   Loja          Estado  \\\n",
              "990   HL7348  SmartWatch            5  4/25/2020  iTech  Rio de Janeiro   \n",
              "341   HL1148      Câmera            5  3/26/2020  iTech    Minas Gerais   \n",
              "1044  HL1918      iPhone            5  5/28/2020  iTech  Rio de Janeiro   \n",
              "203   HL4379   Televisão            5  2/17/2020  iTech    Minas Gerais   \n",
              "1051  HL4379   Televisão            5  9/24/2020  iTech    Minas Gerais   \n",
              "\n",
              "              Cidade  Preço Unitário      Nome     Sobrenome Gênero  Receita  \n",
              "990          Niterói         14997.0  Deysiane         Novak      F  74985.0  \n",
              "341   Belo Horizonte         14988.0   Hiaiune         Faria      M  74940.0  \n",
              "1044         Niterói         14978.0     Maria      Teixeira      F  74890.0  \n",
              "203   Belo Horizonte         14975.0    Victor        Correa      M  74875.0  \n",
              "1051  Belo Horizonte         14952.0  Leonardo  Vasconcellos      M  74760.0  "
            ],
            "text/html": [
              "\n",
              "  <div id=\"df-83a0cb23-bd1f-4f3f-b21f-a513d66868f5\">\n",
              "    <div class=\"colab-df-container\">\n",
              "      <div>\n",
              "<style scoped>\n",
              "    .dataframe tbody tr th:only-of-type {\n",
              "        vertical-align: middle;\n",
              "    }\n",
              "\n",
              "    .dataframe tbody tr th {\n",
              "        vertical-align: top;\n",
              "    }\n",
              "\n",
              "    .dataframe thead th {\n",
              "        text-align: right;\n",
              "    }\n",
              "</style>\n",
              "<table border=\"1\" class=\"dataframe\">\n",
              "  <thead>\n",
              "    <tr style=\"text-align: right;\">\n",
              "      <th></th>\n",
              "      <th>ID</th>\n",
              "      <th>Produto</th>\n",
              "      <th>Qtd Vendida</th>\n",
              "      <th>Data</th>\n",
              "      <th>Loja</th>\n",
              "      <th>Estado</th>\n",
              "      <th>Cidade</th>\n",
              "      <th>Preço Unitário</th>\n",
              "      <th>Nome</th>\n",
              "      <th>Sobrenome</th>\n",
              "      <th>Gênero</th>\n",
              "      <th>Receita</th>\n",
              "    </tr>\n",
              "  </thead>\n",
              "  <tbody>\n",
              "    <tr>\n",
              "      <th>990</th>\n",
              "      <td>HL7348</td>\n",
              "      <td>SmartWatch</td>\n",
              "      <td>5</td>\n",
              "      <td>4/25/2020</td>\n",
              "      <td>iTech</td>\n",
              "      <td>Rio de Janeiro</td>\n",
              "      <td>Niterói</td>\n",
              "      <td>14997.0</td>\n",
              "      <td>Deysiane</td>\n",
              "      <td>Novak</td>\n",
              "      <td>F</td>\n",
              "      <td>74985.0</td>\n",
              "    </tr>\n",
              "    <tr>\n",
              "      <th>341</th>\n",
              "      <td>HL1148</td>\n",
              "      <td>Câmera</td>\n",
              "      <td>5</td>\n",
              "      <td>3/26/2020</td>\n",
              "      <td>iTech</td>\n",
              "      <td>Minas Gerais</td>\n",
              "      <td>Belo Horizonte</td>\n",
              "      <td>14988.0</td>\n",
              "      <td>Hiaiune</td>\n",
              "      <td>Faria</td>\n",
              "      <td>M</td>\n",
              "      <td>74940.0</td>\n",
              "    </tr>\n",
              "    <tr>\n",
              "      <th>1044</th>\n",
              "      <td>HL1918</td>\n",
              "      <td>iPhone</td>\n",
              "      <td>5</td>\n",
              "      <td>5/28/2020</td>\n",
              "      <td>iTech</td>\n",
              "      <td>Rio de Janeiro</td>\n",
              "      <td>Niterói</td>\n",
              "      <td>14978.0</td>\n",
              "      <td>Maria</td>\n",
              "      <td>Teixeira</td>\n",
              "      <td>F</td>\n",
              "      <td>74890.0</td>\n",
              "    </tr>\n",
              "    <tr>\n",
              "      <th>203</th>\n",
              "      <td>HL4379</td>\n",
              "      <td>Televisão</td>\n",
              "      <td>5</td>\n",
              "      <td>2/17/2020</td>\n",
              "      <td>iTech</td>\n",
              "      <td>Minas Gerais</td>\n",
              "      <td>Belo Horizonte</td>\n",
              "      <td>14975.0</td>\n",
              "      <td>Victor</td>\n",
              "      <td>Correa</td>\n",
              "      <td>M</td>\n",
              "      <td>74875.0</td>\n",
              "    </tr>\n",
              "    <tr>\n",
              "      <th>1051</th>\n",
              "      <td>HL4379</td>\n",
              "      <td>Televisão</td>\n",
              "      <td>5</td>\n",
              "      <td>9/24/2020</td>\n",
              "      <td>iTech</td>\n",
              "      <td>Minas Gerais</td>\n",
              "      <td>Belo Horizonte</td>\n",
              "      <td>14952.0</td>\n",
              "      <td>Leonardo</td>\n",
              "      <td>Vasconcellos</td>\n",
              "      <td>M</td>\n",
              "      <td>74760.0</td>\n",
              "    </tr>\n",
              "  </tbody>\n",
              "</table>\n",
              "</div>\n",
              "      <button class=\"colab-df-convert\" onclick=\"convertToInteractive('df-83a0cb23-bd1f-4f3f-b21f-a513d66868f5')\"\n",
              "              title=\"Convert this dataframe to an interactive table.\"\n",
              "              style=\"display:none;\">\n",
              "        \n",
              "  <svg xmlns=\"http://www.w3.org/2000/svg\" height=\"24px\"viewBox=\"0 0 24 24\"\n",
              "       width=\"24px\">\n",
              "    <path d=\"M0 0h24v24H0V0z\" fill=\"none\"/>\n",
              "    <path d=\"M18.56 5.44l.94 2.06.94-2.06 2.06-.94-2.06-.94-.94-2.06-.94 2.06-2.06.94zm-11 1L8.5 8.5l.94-2.06 2.06-.94-2.06-.94L8.5 2.5l-.94 2.06-2.06.94zm10 10l.94 2.06.94-2.06 2.06-.94-2.06-.94-.94-2.06-.94 2.06-2.06.94z\"/><path d=\"M17.41 7.96l-1.37-1.37c-.4-.4-.92-.59-1.43-.59-.52 0-1.04.2-1.43.59L10.3 9.45l-7.72 7.72c-.78.78-.78 2.05 0 2.83L4 21.41c.39.39.9.59 1.41.59.51 0 1.02-.2 1.41-.59l7.78-7.78 2.81-2.81c.8-.78.8-2.07 0-2.86zM5.41 20L4 18.59l7.72-7.72 1.47 1.35L5.41 20z\"/>\n",
              "  </svg>\n",
              "      </button>\n",
              "      \n",
              "  <style>\n",
              "    .colab-df-container {\n",
              "      display:flex;\n",
              "      flex-wrap:wrap;\n",
              "      gap: 12px;\n",
              "    }\n",
              "\n",
              "    .colab-df-convert {\n",
              "      background-color: #E8F0FE;\n",
              "      border: none;\n",
              "      border-radius: 50%;\n",
              "      cursor: pointer;\n",
              "      display: none;\n",
              "      fill: #1967D2;\n",
              "      height: 32px;\n",
              "      padding: 0 0 0 0;\n",
              "      width: 32px;\n",
              "    }\n",
              "\n",
              "    .colab-df-convert:hover {\n",
              "      background-color: #E2EBFA;\n",
              "      box-shadow: 0px 1px 2px rgba(60, 64, 67, 0.3), 0px 1px 3px 1px rgba(60, 64, 67, 0.15);\n",
              "      fill: #174EA6;\n",
              "    }\n",
              "\n",
              "    [theme=dark] .colab-df-convert {\n",
              "      background-color: #3B4455;\n",
              "      fill: #D2E3FC;\n",
              "    }\n",
              "\n",
              "    [theme=dark] .colab-df-convert:hover {\n",
              "      background-color: #434B5C;\n",
              "      box-shadow: 0px 1px 3px 1px rgba(0, 0, 0, 0.15);\n",
              "      filter: drop-shadow(0px 1px 2px rgba(0, 0, 0, 0.3));\n",
              "      fill: #FFFFFF;\n",
              "    }\n",
              "  </style>\n",
              "\n",
              "      <script>\n",
              "        const buttonEl =\n",
              "          document.querySelector('#df-83a0cb23-bd1f-4f3f-b21f-a513d66868f5 button.colab-df-convert');\n",
              "        buttonEl.style.display =\n",
              "          google.colab.kernel.accessAllowed ? 'block' : 'none';\n",
              "\n",
              "        async function convertToInteractive(key) {\n",
              "          const element = document.querySelector('#df-83a0cb23-bd1f-4f3f-b21f-a513d66868f5');\n",
              "          const dataTable =\n",
              "            await google.colab.kernel.invokeFunction('convertToInteractive',\n",
              "                                                     [key], {});\n",
              "          if (!dataTable) return;\n",
              "\n",
              "          const docLinkHtml = 'Like what you see? Visit the ' +\n",
              "            '<a target=\"_blank\" href=https://colab.research.google.com/notebooks/data_table.ipynb>data table notebook</a>'\n",
              "            + ' to learn more about interactive tables.';\n",
              "          element.innerHTML = '';\n",
              "          dataTable['output_type'] = 'display_data';\n",
              "          await google.colab.output.renderOutput(dataTable, element);\n",
              "          const docLink = document.createElement('div');\n",
              "          docLink.innerHTML = docLinkHtml;\n",
              "          element.appendChild(docLink);\n",
              "        }\n",
              "      </script>\n",
              "    </div>\n",
              "  </div>\n",
              "  "
            ]
          },
          "metadata": {},
          "execution_count": 62
        }
      ]
    },
    {
      "cell_type": "code",
      "source": [
        "# Retornar as linhas com as menores receitas - nsmallest:\n",
        "df.nsmallest(5, \"Receita\")"
      ],
      "metadata": {
        "colab": {
          "base_uri": "https://localhost:8080/",
          "height": 206
        },
        "id": "5j5eO2h1klCd",
        "outputId": "5e04e0f2-e1af-4a74-e77e-45ee2f2e476f"
      },
      "execution_count": 63,
      "outputs": [
        {
          "output_type": "execute_result",
          "data": {
            "text/plain": [
              "          ID    Produto  Qtd Vendida        Data   Loja          Estado  \\\n",
              "3036  HL4379  Televisão            1   9/28/2020  iTech       São Paulo   \n",
              "331   HL1918     iPhone            1  12/23/2020  iTech    Minas Gerais   \n",
              "1552  HL1918     iPhone            1  11/28/2020  iTech       São Paulo   \n",
              "1041  HL2714     Tablet            1   8/14/2020  iTech       São Paulo   \n",
              "2190  HL1148     Câmera            1  12/14/2020  iTech  Rio de Janeiro   \n",
              "\n",
              "              Cidade  Preço Unitário     Nome Sobrenome Gênero  Receita  \n",
              "3036       Guarulhos          1508.0  Jessica    Buraco      F   1508.0  \n",
              "331   Belo Horizonte          1509.0    Lucas    Passos      M   1509.0  \n",
              "1552       São Paulo          1517.0   Wilson  Carneiro      M   1517.0  \n",
              "1041       São Paulo          1520.0  Gabriel      Dias      M   1520.0  \n",
              "2190     Nova Iguaçu          1522.0   Marina   Valente      F   1522.0  "
            ],
            "text/html": [
              "\n",
              "  <div id=\"df-67246a0e-e445-4951-8731-fda181352eef\">\n",
              "    <div class=\"colab-df-container\">\n",
              "      <div>\n",
              "<style scoped>\n",
              "    .dataframe tbody tr th:only-of-type {\n",
              "        vertical-align: middle;\n",
              "    }\n",
              "\n",
              "    .dataframe tbody tr th {\n",
              "        vertical-align: top;\n",
              "    }\n",
              "\n",
              "    .dataframe thead th {\n",
              "        text-align: right;\n",
              "    }\n",
              "</style>\n",
              "<table border=\"1\" class=\"dataframe\">\n",
              "  <thead>\n",
              "    <tr style=\"text-align: right;\">\n",
              "      <th></th>\n",
              "      <th>ID</th>\n",
              "      <th>Produto</th>\n",
              "      <th>Qtd Vendida</th>\n",
              "      <th>Data</th>\n",
              "      <th>Loja</th>\n",
              "      <th>Estado</th>\n",
              "      <th>Cidade</th>\n",
              "      <th>Preço Unitário</th>\n",
              "      <th>Nome</th>\n",
              "      <th>Sobrenome</th>\n",
              "      <th>Gênero</th>\n",
              "      <th>Receita</th>\n",
              "    </tr>\n",
              "  </thead>\n",
              "  <tbody>\n",
              "    <tr>\n",
              "      <th>3036</th>\n",
              "      <td>HL4379</td>\n",
              "      <td>Televisão</td>\n",
              "      <td>1</td>\n",
              "      <td>9/28/2020</td>\n",
              "      <td>iTech</td>\n",
              "      <td>São Paulo</td>\n",
              "      <td>Guarulhos</td>\n",
              "      <td>1508.0</td>\n",
              "      <td>Jessica</td>\n",
              "      <td>Buraco</td>\n",
              "      <td>F</td>\n",
              "      <td>1508.0</td>\n",
              "    </tr>\n",
              "    <tr>\n",
              "      <th>331</th>\n",
              "      <td>HL1918</td>\n",
              "      <td>iPhone</td>\n",
              "      <td>1</td>\n",
              "      <td>12/23/2020</td>\n",
              "      <td>iTech</td>\n",
              "      <td>Minas Gerais</td>\n",
              "      <td>Belo Horizonte</td>\n",
              "      <td>1509.0</td>\n",
              "      <td>Lucas</td>\n",
              "      <td>Passos</td>\n",
              "      <td>M</td>\n",
              "      <td>1509.0</td>\n",
              "    </tr>\n",
              "    <tr>\n",
              "      <th>1552</th>\n",
              "      <td>HL1918</td>\n",
              "      <td>iPhone</td>\n",
              "      <td>1</td>\n",
              "      <td>11/28/2020</td>\n",
              "      <td>iTech</td>\n",
              "      <td>São Paulo</td>\n",
              "      <td>São Paulo</td>\n",
              "      <td>1517.0</td>\n",
              "      <td>Wilson</td>\n",
              "      <td>Carneiro</td>\n",
              "      <td>M</td>\n",
              "      <td>1517.0</td>\n",
              "    </tr>\n",
              "    <tr>\n",
              "      <th>1041</th>\n",
              "      <td>HL2714</td>\n",
              "      <td>Tablet</td>\n",
              "      <td>1</td>\n",
              "      <td>8/14/2020</td>\n",
              "      <td>iTech</td>\n",
              "      <td>São Paulo</td>\n",
              "      <td>São Paulo</td>\n",
              "      <td>1520.0</td>\n",
              "      <td>Gabriel</td>\n",
              "      <td>Dias</td>\n",
              "      <td>M</td>\n",
              "      <td>1520.0</td>\n",
              "    </tr>\n",
              "    <tr>\n",
              "      <th>2190</th>\n",
              "      <td>HL1148</td>\n",
              "      <td>Câmera</td>\n",
              "      <td>1</td>\n",
              "      <td>12/14/2020</td>\n",
              "      <td>iTech</td>\n",
              "      <td>Rio de Janeiro</td>\n",
              "      <td>Nova Iguaçu</td>\n",
              "      <td>1522.0</td>\n",
              "      <td>Marina</td>\n",
              "      <td>Valente</td>\n",
              "      <td>F</td>\n",
              "      <td>1522.0</td>\n",
              "    </tr>\n",
              "  </tbody>\n",
              "</table>\n",
              "</div>\n",
              "      <button class=\"colab-df-convert\" onclick=\"convertToInteractive('df-67246a0e-e445-4951-8731-fda181352eef')\"\n",
              "              title=\"Convert this dataframe to an interactive table.\"\n",
              "              style=\"display:none;\">\n",
              "        \n",
              "  <svg xmlns=\"http://www.w3.org/2000/svg\" height=\"24px\"viewBox=\"0 0 24 24\"\n",
              "       width=\"24px\">\n",
              "    <path d=\"M0 0h24v24H0V0z\" fill=\"none\"/>\n",
              "    <path d=\"M18.56 5.44l.94 2.06.94-2.06 2.06-.94-2.06-.94-.94-2.06-.94 2.06-2.06.94zm-11 1L8.5 8.5l.94-2.06 2.06-.94-2.06-.94L8.5 2.5l-.94 2.06-2.06.94zm10 10l.94 2.06.94-2.06 2.06-.94-2.06-.94-.94-2.06-.94 2.06-2.06.94z\"/><path d=\"M17.41 7.96l-1.37-1.37c-.4-.4-.92-.59-1.43-.59-.52 0-1.04.2-1.43.59L10.3 9.45l-7.72 7.72c-.78.78-.78 2.05 0 2.83L4 21.41c.39.39.9.59 1.41.59.51 0 1.02-.2 1.41-.59l7.78-7.78 2.81-2.81c.8-.78.8-2.07 0-2.86zM5.41 20L4 18.59l7.72-7.72 1.47 1.35L5.41 20z\"/>\n",
              "  </svg>\n",
              "      </button>\n",
              "      \n",
              "  <style>\n",
              "    .colab-df-container {\n",
              "      display:flex;\n",
              "      flex-wrap:wrap;\n",
              "      gap: 12px;\n",
              "    }\n",
              "\n",
              "    .colab-df-convert {\n",
              "      background-color: #E8F0FE;\n",
              "      border: none;\n",
              "      border-radius: 50%;\n",
              "      cursor: pointer;\n",
              "      display: none;\n",
              "      fill: #1967D2;\n",
              "      height: 32px;\n",
              "      padding: 0 0 0 0;\n",
              "      width: 32px;\n",
              "    }\n",
              "\n",
              "    .colab-df-convert:hover {\n",
              "      background-color: #E2EBFA;\n",
              "      box-shadow: 0px 1px 2px rgba(60, 64, 67, 0.3), 0px 1px 3px 1px rgba(60, 64, 67, 0.15);\n",
              "      fill: #174EA6;\n",
              "    }\n",
              "\n",
              "    [theme=dark] .colab-df-convert {\n",
              "      background-color: #3B4455;\n",
              "      fill: #D2E3FC;\n",
              "    }\n",
              "\n",
              "    [theme=dark] .colab-df-convert:hover {\n",
              "      background-color: #434B5C;\n",
              "      box-shadow: 0px 1px 3px 1px rgba(0, 0, 0, 0.15);\n",
              "      filter: drop-shadow(0px 1px 2px rgba(0, 0, 0, 0.3));\n",
              "      fill: #FFFFFF;\n",
              "    }\n",
              "  </style>\n",
              "\n",
              "      <script>\n",
              "        const buttonEl =\n",
              "          document.querySelector('#df-67246a0e-e445-4951-8731-fda181352eef button.colab-df-convert');\n",
              "        buttonEl.style.display =\n",
              "          google.colab.kernel.accessAllowed ? 'block' : 'none';\n",
              "\n",
              "        async function convertToInteractive(key) {\n",
              "          const element = document.querySelector('#df-67246a0e-e445-4951-8731-fda181352eef');\n",
              "          const dataTable =\n",
              "            await google.colab.kernel.invokeFunction('convertToInteractive',\n",
              "                                                     [key], {});\n",
              "          if (!dataTable) return;\n",
              "\n",
              "          const docLinkHtml = 'Like what you see? Visit the ' +\n",
              "            '<a target=\"_blank\" href=https://colab.research.google.com/notebooks/data_table.ipynb>data table notebook</a>'\n",
              "            + ' to learn more about interactive tables.';\n",
              "          element.innerHTML = '';\n",
              "          dataTable['output_type'] = 'display_data';\n",
              "          await google.colab.output.renderOutput(dataTable, element);\n",
              "          const docLink = document.createElement('div');\n",
              "          docLink.innerHTML = docLinkHtml;\n",
              "          element.appendChild(docLink);\n",
              "        }\n",
              "      </script>\n",
              "    </div>\n",
              "  </div>\n",
              "  "
            ]
          },
          "metadata": {},
          "execution_count": 63
        }
      ]
    },
    {
      "cell_type": "code",
      "source": [
        "# Agrupar as maiores receitas por cidade:\n",
        "df.groupby(\"Cidade\")[\"Receita\"].sum()"
      ],
      "metadata": {
        "colab": {
          "base_uri": "https://localhost:8080/"
        },
        "id": "9SfSxtl_kz6a",
        "outputId": "7ea0e3fb-acfb-48ad-e601-b6e0cd8d5c1d"
      },
      "execution_count": 64,
      "outputs": [
        {
          "output_type": "execute_result",
          "data": {
            "text/plain": [
              "Cidade\n",
              "Belo Horizonte    36566144.0\n",
              "Campinas          17464795.0\n",
              "Guarulhos         19391477.0\n",
              "Niterói           17755561.0\n",
              "Nova Iguaçu       18088804.0\n",
              "Porto Alegre      16490454.0\n",
              "Rio de Janeiro    19545948.0\n",
              "São Paulo         43326968.0\n",
              "Name: Receita, dtype: float64"
            ]
          },
          "metadata": {},
          "execution_count": 64
        }
      ]
    },
    {
      "cell_type": "code",
      "source": [
        "# Ordenar as receitas do maior para o menor:\n",
        "df.sort_values(\"Receita\", ascending=False).head(10)"
      ],
      "metadata": {
        "colab": {
          "base_uri": "https://localhost:8080/",
          "height": 363
        },
        "id": "LO79RaNmlNkz",
        "outputId": "0371a71a-8b08-4520-a412-7d304333ed59"
      },
      "execution_count": 65,
      "outputs": [
        {
          "output_type": "execute_result",
          "data": {
            "text/plain": [
              "          ID     Produto  Qtd Vendida                 Data   Loja  \\\n",
              "990   HL7348  SmartWatch            5            4/25/2020  iTech   \n",
              "341   HL1148      Câmera            5            3/26/2020  iTech   \n",
              "1044  HL1918      iPhone            5            5/28/2020  iTech   \n",
              "203   HL4379   Televisão            5            2/17/2020  iTech   \n",
              "1051  HL4379   Televisão            5            9/24/2020  iTech   \n",
              "275   HL1148      Câmera            5            2/27/2020  iTech   \n",
              "299   HL2714      Tablet            5  2020-04-12 00:00:00  iTech   \n",
              "30    HL1918      iPhone            5            1/14/2020  iTech   \n",
              "1118  HL4379   Televisão            5  2020-01-09 00:00:00  iTech   \n",
              "1383  HL1918      iPhone            5  2020-04-11 00:00:00  iTech   \n",
              "\n",
              "              Estado          Cidade  Preço Unitário       Nome     Sobrenome  \\\n",
              "990   Rio de Janeiro         Niterói         14997.0   Deysiane         Novak   \n",
              "341     Minas Gerais  Belo Horizonte         14988.0    Hiaiune         Faria   \n",
              "1044  Rio de Janeiro         Niterói         14978.0      Maria      Teixeira   \n",
              "203     Minas Gerais  Belo Horizonte         14975.0     Victor        Correa   \n",
              "1051    Minas Gerais  Belo Horizonte         14952.0   Leonardo  Vasconcellos   \n",
              "275        São Paulo       São Paulo         14951.0      Renan      Mendonça   \n",
              "299        São Paulo       São Paulo         14919.0   Carolina       Freitas   \n",
              "30    Rio de Janeiro  Rio de Janeiro         14890.0  Guilherme         Nunes   \n",
              "1118       São Paulo       São Paulo         14868.0    Jéssica         Verly   \n",
              "1383  Rio de Janeiro         Niterói         14853.0     Giulia     Magalhães   \n",
              "\n",
              "     Gênero  Receita  \n",
              "990       F  74985.0  \n",
              "341       M  74940.0  \n",
              "1044      F  74890.0  \n",
              "203       M  74875.0  \n",
              "1051      M  74760.0  \n",
              "275       M  74755.0  \n",
              "299       F  74595.0  \n",
              "30        M  74450.0  \n",
              "1118      F  74340.0  \n",
              "1383      F  74265.0  "
            ],
            "text/html": [
              "\n",
              "  <div id=\"df-105eec9b-5b58-45c1-9274-4c0e41cf784a\">\n",
              "    <div class=\"colab-df-container\">\n",
              "      <div>\n",
              "<style scoped>\n",
              "    .dataframe tbody tr th:only-of-type {\n",
              "        vertical-align: middle;\n",
              "    }\n",
              "\n",
              "    .dataframe tbody tr th {\n",
              "        vertical-align: top;\n",
              "    }\n",
              "\n",
              "    .dataframe thead th {\n",
              "        text-align: right;\n",
              "    }\n",
              "</style>\n",
              "<table border=\"1\" class=\"dataframe\">\n",
              "  <thead>\n",
              "    <tr style=\"text-align: right;\">\n",
              "      <th></th>\n",
              "      <th>ID</th>\n",
              "      <th>Produto</th>\n",
              "      <th>Qtd Vendida</th>\n",
              "      <th>Data</th>\n",
              "      <th>Loja</th>\n",
              "      <th>Estado</th>\n",
              "      <th>Cidade</th>\n",
              "      <th>Preço Unitário</th>\n",
              "      <th>Nome</th>\n",
              "      <th>Sobrenome</th>\n",
              "      <th>Gênero</th>\n",
              "      <th>Receita</th>\n",
              "    </tr>\n",
              "  </thead>\n",
              "  <tbody>\n",
              "    <tr>\n",
              "      <th>990</th>\n",
              "      <td>HL7348</td>\n",
              "      <td>SmartWatch</td>\n",
              "      <td>5</td>\n",
              "      <td>4/25/2020</td>\n",
              "      <td>iTech</td>\n",
              "      <td>Rio de Janeiro</td>\n",
              "      <td>Niterói</td>\n",
              "      <td>14997.0</td>\n",
              "      <td>Deysiane</td>\n",
              "      <td>Novak</td>\n",
              "      <td>F</td>\n",
              "      <td>74985.0</td>\n",
              "    </tr>\n",
              "    <tr>\n",
              "      <th>341</th>\n",
              "      <td>HL1148</td>\n",
              "      <td>Câmera</td>\n",
              "      <td>5</td>\n",
              "      <td>3/26/2020</td>\n",
              "      <td>iTech</td>\n",
              "      <td>Minas Gerais</td>\n",
              "      <td>Belo Horizonte</td>\n",
              "      <td>14988.0</td>\n",
              "      <td>Hiaiune</td>\n",
              "      <td>Faria</td>\n",
              "      <td>M</td>\n",
              "      <td>74940.0</td>\n",
              "    </tr>\n",
              "    <tr>\n",
              "      <th>1044</th>\n",
              "      <td>HL1918</td>\n",
              "      <td>iPhone</td>\n",
              "      <td>5</td>\n",
              "      <td>5/28/2020</td>\n",
              "      <td>iTech</td>\n",
              "      <td>Rio de Janeiro</td>\n",
              "      <td>Niterói</td>\n",
              "      <td>14978.0</td>\n",
              "      <td>Maria</td>\n",
              "      <td>Teixeira</td>\n",
              "      <td>F</td>\n",
              "      <td>74890.0</td>\n",
              "    </tr>\n",
              "    <tr>\n",
              "      <th>203</th>\n",
              "      <td>HL4379</td>\n",
              "      <td>Televisão</td>\n",
              "      <td>5</td>\n",
              "      <td>2/17/2020</td>\n",
              "      <td>iTech</td>\n",
              "      <td>Minas Gerais</td>\n",
              "      <td>Belo Horizonte</td>\n",
              "      <td>14975.0</td>\n",
              "      <td>Victor</td>\n",
              "      <td>Correa</td>\n",
              "      <td>M</td>\n",
              "      <td>74875.0</td>\n",
              "    </tr>\n",
              "    <tr>\n",
              "      <th>1051</th>\n",
              "      <td>HL4379</td>\n",
              "      <td>Televisão</td>\n",
              "      <td>5</td>\n",
              "      <td>9/24/2020</td>\n",
              "      <td>iTech</td>\n",
              "      <td>Minas Gerais</td>\n",
              "      <td>Belo Horizonte</td>\n",
              "      <td>14952.0</td>\n",
              "      <td>Leonardo</td>\n",
              "      <td>Vasconcellos</td>\n",
              "      <td>M</td>\n",
              "      <td>74760.0</td>\n",
              "    </tr>\n",
              "    <tr>\n",
              "      <th>275</th>\n",
              "      <td>HL1148</td>\n",
              "      <td>Câmera</td>\n",
              "      <td>5</td>\n",
              "      <td>2/27/2020</td>\n",
              "      <td>iTech</td>\n",
              "      <td>São Paulo</td>\n",
              "      <td>São Paulo</td>\n",
              "      <td>14951.0</td>\n",
              "      <td>Renan</td>\n",
              "      <td>Mendonça</td>\n",
              "      <td>M</td>\n",
              "      <td>74755.0</td>\n",
              "    </tr>\n",
              "    <tr>\n",
              "      <th>299</th>\n",
              "      <td>HL2714</td>\n",
              "      <td>Tablet</td>\n",
              "      <td>5</td>\n",
              "      <td>2020-04-12 00:00:00</td>\n",
              "      <td>iTech</td>\n",
              "      <td>São Paulo</td>\n",
              "      <td>São Paulo</td>\n",
              "      <td>14919.0</td>\n",
              "      <td>Carolina</td>\n",
              "      <td>Freitas</td>\n",
              "      <td>F</td>\n",
              "      <td>74595.0</td>\n",
              "    </tr>\n",
              "    <tr>\n",
              "      <th>30</th>\n",
              "      <td>HL1918</td>\n",
              "      <td>iPhone</td>\n",
              "      <td>5</td>\n",
              "      <td>1/14/2020</td>\n",
              "      <td>iTech</td>\n",
              "      <td>Rio de Janeiro</td>\n",
              "      <td>Rio de Janeiro</td>\n",
              "      <td>14890.0</td>\n",
              "      <td>Guilherme</td>\n",
              "      <td>Nunes</td>\n",
              "      <td>M</td>\n",
              "      <td>74450.0</td>\n",
              "    </tr>\n",
              "    <tr>\n",
              "      <th>1118</th>\n",
              "      <td>HL4379</td>\n",
              "      <td>Televisão</td>\n",
              "      <td>5</td>\n",
              "      <td>2020-01-09 00:00:00</td>\n",
              "      <td>iTech</td>\n",
              "      <td>São Paulo</td>\n",
              "      <td>São Paulo</td>\n",
              "      <td>14868.0</td>\n",
              "      <td>Jéssica</td>\n",
              "      <td>Verly</td>\n",
              "      <td>F</td>\n",
              "      <td>74340.0</td>\n",
              "    </tr>\n",
              "    <tr>\n",
              "      <th>1383</th>\n",
              "      <td>HL1918</td>\n",
              "      <td>iPhone</td>\n",
              "      <td>5</td>\n",
              "      <td>2020-04-11 00:00:00</td>\n",
              "      <td>iTech</td>\n",
              "      <td>Rio de Janeiro</td>\n",
              "      <td>Niterói</td>\n",
              "      <td>14853.0</td>\n",
              "      <td>Giulia</td>\n",
              "      <td>Magalhães</td>\n",
              "      <td>F</td>\n",
              "      <td>74265.0</td>\n",
              "    </tr>\n",
              "  </tbody>\n",
              "</table>\n",
              "</div>\n",
              "      <button class=\"colab-df-convert\" onclick=\"convertToInteractive('df-105eec9b-5b58-45c1-9274-4c0e41cf784a')\"\n",
              "              title=\"Convert this dataframe to an interactive table.\"\n",
              "              style=\"display:none;\">\n",
              "        \n",
              "  <svg xmlns=\"http://www.w3.org/2000/svg\" height=\"24px\"viewBox=\"0 0 24 24\"\n",
              "       width=\"24px\">\n",
              "    <path d=\"M0 0h24v24H0V0z\" fill=\"none\"/>\n",
              "    <path d=\"M18.56 5.44l.94 2.06.94-2.06 2.06-.94-2.06-.94-.94-2.06-.94 2.06-2.06.94zm-11 1L8.5 8.5l.94-2.06 2.06-.94-2.06-.94L8.5 2.5l-.94 2.06-2.06.94zm10 10l.94 2.06.94-2.06 2.06-.94-2.06-.94-.94-2.06-.94 2.06-2.06.94z\"/><path d=\"M17.41 7.96l-1.37-1.37c-.4-.4-.92-.59-1.43-.59-.52 0-1.04.2-1.43.59L10.3 9.45l-7.72 7.72c-.78.78-.78 2.05 0 2.83L4 21.41c.39.39.9.59 1.41.59.51 0 1.02-.2 1.41-.59l7.78-7.78 2.81-2.81c.8-.78.8-2.07 0-2.86zM5.41 20L4 18.59l7.72-7.72 1.47 1.35L5.41 20z\"/>\n",
              "  </svg>\n",
              "      </button>\n",
              "      \n",
              "  <style>\n",
              "    .colab-df-container {\n",
              "      display:flex;\n",
              "      flex-wrap:wrap;\n",
              "      gap: 12px;\n",
              "    }\n",
              "\n",
              "    .colab-df-convert {\n",
              "      background-color: #E8F0FE;\n",
              "      border: none;\n",
              "      border-radius: 50%;\n",
              "      cursor: pointer;\n",
              "      display: none;\n",
              "      fill: #1967D2;\n",
              "      height: 32px;\n",
              "      padding: 0 0 0 0;\n",
              "      width: 32px;\n",
              "    }\n",
              "\n",
              "    .colab-df-convert:hover {\n",
              "      background-color: #E2EBFA;\n",
              "      box-shadow: 0px 1px 2px rgba(60, 64, 67, 0.3), 0px 1px 3px 1px rgba(60, 64, 67, 0.15);\n",
              "      fill: #174EA6;\n",
              "    }\n",
              "\n",
              "    [theme=dark] .colab-df-convert {\n",
              "      background-color: #3B4455;\n",
              "      fill: #D2E3FC;\n",
              "    }\n",
              "\n",
              "    [theme=dark] .colab-df-convert:hover {\n",
              "      background-color: #434B5C;\n",
              "      box-shadow: 0px 1px 3px 1px rgba(0, 0, 0, 0.15);\n",
              "      filter: drop-shadow(0px 1px 2px rgba(0, 0, 0, 0.3));\n",
              "      fill: #FFFFFF;\n",
              "    }\n",
              "  </style>\n",
              "\n",
              "      <script>\n",
              "        const buttonEl =\n",
              "          document.querySelector('#df-105eec9b-5b58-45c1-9274-4c0e41cf784a button.colab-df-convert');\n",
              "        buttonEl.style.display =\n",
              "          google.colab.kernel.accessAllowed ? 'block' : 'none';\n",
              "\n",
              "        async function convertToInteractive(key) {\n",
              "          const element = document.querySelector('#df-105eec9b-5b58-45c1-9274-4c0e41cf784a');\n",
              "          const dataTable =\n",
              "            await google.colab.kernel.invokeFunction('convertToInteractive',\n",
              "                                                     [key], {});\n",
              "          if (!dataTable) return;\n",
              "\n",
              "          const docLinkHtml = 'Like what you see? Visit the ' +\n",
              "            '<a target=\"_blank\" href=https://colab.research.google.com/notebooks/data_table.ipynb>data table notebook</a>'\n",
              "            + ' to learn more about interactive tables.';\n",
              "          element.innerHTML = '';\n",
              "          dataTable['output_type'] = 'display_data';\n",
              "          await google.colab.output.renderOutput(dataTable, element);\n",
              "          const docLink = document.createElement('div');\n",
              "          docLink.innerHTML = docLinkHtml;\n",
              "          element.appendChild(docLink);\n",
              "        }\n",
              "      </script>\n",
              "    </div>\n",
              "  </div>\n",
              "  "
            ]
          },
          "metadata": {},
          "execution_count": 65
        }
      ]
    },
    {
      "cell_type": "markdown",
      "source": [
        "###**Trabalhando com datas:**"
      ],
      "metadata": {
        "id": "v8WQ7FyknpNx"
      }
    },
    {
      "cell_type": "code",
      "source": [
        "# Transformando coluna de data em data:\n",
        "df[\"Data\"] = pd.to_datetime(df[\"Data\"])"
      ],
      "metadata": {
        "id": "An6tn28an9HL"
      },
      "execution_count": 66,
      "outputs": []
    },
    {
      "cell_type": "code",
      "source": [
        "df.dtypes"
      ],
      "metadata": {
        "colab": {
          "base_uri": "https://localhost:8080/"
        },
        "id": "sSb6Fm-0u82M",
        "outputId": "b143e2a7-3c17-4f49-ba6f-49995aee2a34"
      },
      "execution_count": 67,
      "outputs": [
        {
          "output_type": "execute_result",
          "data": {
            "text/plain": [
              "ID                        object\n",
              "Produto                   object\n",
              "Qtd Vendida                int64\n",
              "Data              datetime64[ns]\n",
              "Loja                      object\n",
              "Estado                    object\n",
              "Cidade                    object\n",
              "Preço Unitário           float64\n",
              "Nome                      object\n",
              "Sobrenome                 object\n",
              "Gênero                    object\n",
              "Receita                  float64\n",
              "dtype: object"
            ]
          },
          "metadata": {},
          "execution_count": 67
        }
      ]
    },
    {
      "cell_type": "code",
      "source": [
        "df.head(10)"
      ],
      "metadata": {
        "colab": {
          "base_uri": "https://localhost:8080/",
          "height": 363
        },
        "id": "hScfDKhPvADL",
        "outputId": "2c2f1092-a829-406e-f463-9ccb9c769111"
      },
      "execution_count": 68,
      "outputs": [
        {
          "output_type": "execute_result",
          "data": {
            "text/plain": [
              "       ID     Produto  Qtd Vendida       Data   Loja        Estado  \\\n",
              "0  HL1918      iPhone            2 2020-01-01  iTech  Minas Gerais   \n",
              "1  HL7348  SmartWatch            3 2020-01-01  iTech  Minas Gerais   \n",
              "2  HL2714      Tablet            4 2020-02-01  iTech  Minas Gerais   \n",
              "3  HL7348  SmartWatch            4 2020-02-01  iTech  Minas Gerais   \n",
              "4  HL7348  SmartWatch            5 2020-02-01  iTech  Minas Gerais   \n",
              "5  HL9962     Android            1 2020-03-01  iTech  Minas Gerais   \n",
              "6  HL7348  SmartWatch            1 2020-03-01  iTech  Minas Gerais   \n",
              "7  HL1918      iPhone            1 2020-04-01  iTech  Minas Gerais   \n",
              "8  HL4379   Televisão            5 2020-04-01  iTech  Minas Gerais   \n",
              "9  HL4379   Televisão            3 2020-04-01  iTech  Minas Gerais   \n",
              "\n",
              "           Cidade  Preço Unitário      Nome  Sobrenome Gênero  Receita  \n",
              "0  Belo Horizonte          9440.0    Silvio     Santos      M  18880.0  \n",
              "1  Belo Horizonte          3945.0    Marina     Araujo      F  11835.0  \n",
              "2  Belo Horizonte         10392.0   Raphael    Roberto      M  41568.0  \n",
              "3  Belo Horizonte          7024.0  Isabelle      Souza      F  28096.0  \n",
              "4  Belo Horizonte         12058.0  Fernanda   Cozendey      F  60290.0  \n",
              "5  Belo Horizonte          1797.0      João    Teraoka      M   1797.0  \n",
              "6  Belo Horizonte          4681.0    Raíssa     Junior      F   4681.0  \n",
              "7  Belo Horizonte          5819.0       Ana  Rodrigues      F   5819.0  \n",
              "8  Belo Horizonte         13431.0  Fernanda      Mello      F  67155.0  \n",
              "9  Belo Horizonte         14605.0   Beatriz   Teixeira      F  43815.0  "
            ],
            "text/html": [
              "\n",
              "  <div id=\"df-ab78b55f-98e7-47bc-9ee2-8c1cc51e492c\">\n",
              "    <div class=\"colab-df-container\">\n",
              "      <div>\n",
              "<style scoped>\n",
              "    .dataframe tbody tr th:only-of-type {\n",
              "        vertical-align: middle;\n",
              "    }\n",
              "\n",
              "    .dataframe tbody tr th {\n",
              "        vertical-align: top;\n",
              "    }\n",
              "\n",
              "    .dataframe thead th {\n",
              "        text-align: right;\n",
              "    }\n",
              "</style>\n",
              "<table border=\"1\" class=\"dataframe\">\n",
              "  <thead>\n",
              "    <tr style=\"text-align: right;\">\n",
              "      <th></th>\n",
              "      <th>ID</th>\n",
              "      <th>Produto</th>\n",
              "      <th>Qtd Vendida</th>\n",
              "      <th>Data</th>\n",
              "      <th>Loja</th>\n",
              "      <th>Estado</th>\n",
              "      <th>Cidade</th>\n",
              "      <th>Preço Unitário</th>\n",
              "      <th>Nome</th>\n",
              "      <th>Sobrenome</th>\n",
              "      <th>Gênero</th>\n",
              "      <th>Receita</th>\n",
              "    </tr>\n",
              "  </thead>\n",
              "  <tbody>\n",
              "    <tr>\n",
              "      <th>0</th>\n",
              "      <td>HL1918</td>\n",
              "      <td>iPhone</td>\n",
              "      <td>2</td>\n",
              "      <td>2020-01-01</td>\n",
              "      <td>iTech</td>\n",
              "      <td>Minas Gerais</td>\n",
              "      <td>Belo Horizonte</td>\n",
              "      <td>9440.0</td>\n",
              "      <td>Silvio</td>\n",
              "      <td>Santos</td>\n",
              "      <td>M</td>\n",
              "      <td>18880.0</td>\n",
              "    </tr>\n",
              "    <tr>\n",
              "      <th>1</th>\n",
              "      <td>HL7348</td>\n",
              "      <td>SmartWatch</td>\n",
              "      <td>3</td>\n",
              "      <td>2020-01-01</td>\n",
              "      <td>iTech</td>\n",
              "      <td>Minas Gerais</td>\n",
              "      <td>Belo Horizonte</td>\n",
              "      <td>3945.0</td>\n",
              "      <td>Marina</td>\n",
              "      <td>Araujo</td>\n",
              "      <td>F</td>\n",
              "      <td>11835.0</td>\n",
              "    </tr>\n",
              "    <tr>\n",
              "      <th>2</th>\n",
              "      <td>HL2714</td>\n",
              "      <td>Tablet</td>\n",
              "      <td>4</td>\n",
              "      <td>2020-02-01</td>\n",
              "      <td>iTech</td>\n",
              "      <td>Minas Gerais</td>\n",
              "      <td>Belo Horizonte</td>\n",
              "      <td>10392.0</td>\n",
              "      <td>Raphael</td>\n",
              "      <td>Roberto</td>\n",
              "      <td>M</td>\n",
              "      <td>41568.0</td>\n",
              "    </tr>\n",
              "    <tr>\n",
              "      <th>3</th>\n",
              "      <td>HL7348</td>\n",
              "      <td>SmartWatch</td>\n",
              "      <td>4</td>\n",
              "      <td>2020-02-01</td>\n",
              "      <td>iTech</td>\n",
              "      <td>Minas Gerais</td>\n",
              "      <td>Belo Horizonte</td>\n",
              "      <td>7024.0</td>\n",
              "      <td>Isabelle</td>\n",
              "      <td>Souza</td>\n",
              "      <td>F</td>\n",
              "      <td>28096.0</td>\n",
              "    </tr>\n",
              "    <tr>\n",
              "      <th>4</th>\n",
              "      <td>HL7348</td>\n",
              "      <td>SmartWatch</td>\n",
              "      <td>5</td>\n",
              "      <td>2020-02-01</td>\n",
              "      <td>iTech</td>\n",
              "      <td>Minas Gerais</td>\n",
              "      <td>Belo Horizonte</td>\n",
              "      <td>12058.0</td>\n",
              "      <td>Fernanda</td>\n",
              "      <td>Cozendey</td>\n",
              "      <td>F</td>\n",
              "      <td>60290.0</td>\n",
              "    </tr>\n",
              "    <tr>\n",
              "      <th>5</th>\n",
              "      <td>HL9962</td>\n",
              "      <td>Android</td>\n",
              "      <td>1</td>\n",
              "      <td>2020-03-01</td>\n",
              "      <td>iTech</td>\n",
              "      <td>Minas Gerais</td>\n",
              "      <td>Belo Horizonte</td>\n",
              "      <td>1797.0</td>\n",
              "      <td>João</td>\n",
              "      <td>Teraoka</td>\n",
              "      <td>M</td>\n",
              "      <td>1797.0</td>\n",
              "    </tr>\n",
              "    <tr>\n",
              "      <th>6</th>\n",
              "      <td>HL7348</td>\n",
              "      <td>SmartWatch</td>\n",
              "      <td>1</td>\n",
              "      <td>2020-03-01</td>\n",
              "      <td>iTech</td>\n",
              "      <td>Minas Gerais</td>\n",
              "      <td>Belo Horizonte</td>\n",
              "      <td>4681.0</td>\n",
              "      <td>Raíssa</td>\n",
              "      <td>Junior</td>\n",
              "      <td>F</td>\n",
              "      <td>4681.0</td>\n",
              "    </tr>\n",
              "    <tr>\n",
              "      <th>7</th>\n",
              "      <td>HL1918</td>\n",
              "      <td>iPhone</td>\n",
              "      <td>1</td>\n",
              "      <td>2020-04-01</td>\n",
              "      <td>iTech</td>\n",
              "      <td>Minas Gerais</td>\n",
              "      <td>Belo Horizonte</td>\n",
              "      <td>5819.0</td>\n",
              "      <td>Ana</td>\n",
              "      <td>Rodrigues</td>\n",
              "      <td>F</td>\n",
              "      <td>5819.0</td>\n",
              "    </tr>\n",
              "    <tr>\n",
              "      <th>8</th>\n",
              "      <td>HL4379</td>\n",
              "      <td>Televisão</td>\n",
              "      <td>5</td>\n",
              "      <td>2020-04-01</td>\n",
              "      <td>iTech</td>\n",
              "      <td>Minas Gerais</td>\n",
              "      <td>Belo Horizonte</td>\n",
              "      <td>13431.0</td>\n",
              "      <td>Fernanda</td>\n",
              "      <td>Mello</td>\n",
              "      <td>F</td>\n",
              "      <td>67155.0</td>\n",
              "    </tr>\n",
              "    <tr>\n",
              "      <th>9</th>\n",
              "      <td>HL4379</td>\n",
              "      <td>Televisão</td>\n",
              "      <td>3</td>\n",
              "      <td>2020-04-01</td>\n",
              "      <td>iTech</td>\n",
              "      <td>Minas Gerais</td>\n",
              "      <td>Belo Horizonte</td>\n",
              "      <td>14605.0</td>\n",
              "      <td>Beatriz</td>\n",
              "      <td>Teixeira</td>\n",
              "      <td>F</td>\n",
              "      <td>43815.0</td>\n",
              "    </tr>\n",
              "  </tbody>\n",
              "</table>\n",
              "</div>\n",
              "      <button class=\"colab-df-convert\" onclick=\"convertToInteractive('df-ab78b55f-98e7-47bc-9ee2-8c1cc51e492c')\"\n",
              "              title=\"Convert this dataframe to an interactive table.\"\n",
              "              style=\"display:none;\">\n",
              "        \n",
              "  <svg xmlns=\"http://www.w3.org/2000/svg\" height=\"24px\"viewBox=\"0 0 24 24\"\n",
              "       width=\"24px\">\n",
              "    <path d=\"M0 0h24v24H0V0z\" fill=\"none\"/>\n",
              "    <path d=\"M18.56 5.44l.94 2.06.94-2.06 2.06-.94-2.06-.94-.94-2.06-.94 2.06-2.06.94zm-11 1L8.5 8.5l.94-2.06 2.06-.94-2.06-.94L8.5 2.5l-.94 2.06-2.06.94zm10 10l.94 2.06.94-2.06 2.06-.94-2.06-.94-.94-2.06-.94 2.06-2.06.94z\"/><path d=\"M17.41 7.96l-1.37-1.37c-.4-.4-.92-.59-1.43-.59-.52 0-1.04.2-1.43.59L10.3 9.45l-7.72 7.72c-.78.78-.78 2.05 0 2.83L4 21.41c.39.39.9.59 1.41.59.51 0 1.02-.2 1.41-.59l7.78-7.78 2.81-2.81c.8-.78.8-2.07 0-2.86zM5.41 20L4 18.59l7.72-7.72 1.47 1.35L5.41 20z\"/>\n",
              "  </svg>\n",
              "      </button>\n",
              "      \n",
              "  <style>\n",
              "    .colab-df-container {\n",
              "      display:flex;\n",
              "      flex-wrap:wrap;\n",
              "      gap: 12px;\n",
              "    }\n",
              "\n",
              "    .colab-df-convert {\n",
              "      background-color: #E8F0FE;\n",
              "      border: none;\n",
              "      border-radius: 50%;\n",
              "      cursor: pointer;\n",
              "      display: none;\n",
              "      fill: #1967D2;\n",
              "      height: 32px;\n",
              "      padding: 0 0 0 0;\n",
              "      width: 32px;\n",
              "    }\n",
              "\n",
              "    .colab-df-convert:hover {\n",
              "      background-color: #E2EBFA;\n",
              "      box-shadow: 0px 1px 2px rgba(60, 64, 67, 0.3), 0px 1px 3px 1px rgba(60, 64, 67, 0.15);\n",
              "      fill: #174EA6;\n",
              "    }\n",
              "\n",
              "    [theme=dark] .colab-df-convert {\n",
              "      background-color: #3B4455;\n",
              "      fill: #D2E3FC;\n",
              "    }\n",
              "\n",
              "    [theme=dark] .colab-df-convert:hover {\n",
              "      background-color: #434B5C;\n",
              "      box-shadow: 0px 1px 3px 1px rgba(0, 0, 0, 0.15);\n",
              "      filter: drop-shadow(0px 1px 2px rgba(0, 0, 0, 0.3));\n",
              "      fill: #FFFFFF;\n",
              "    }\n",
              "  </style>\n",
              "\n",
              "      <script>\n",
              "        const buttonEl =\n",
              "          document.querySelector('#df-ab78b55f-98e7-47bc-9ee2-8c1cc51e492c button.colab-df-convert');\n",
              "        buttonEl.style.display =\n",
              "          google.colab.kernel.accessAllowed ? 'block' : 'none';\n",
              "\n",
              "        async function convertToInteractive(key) {\n",
              "          const element = document.querySelector('#df-ab78b55f-98e7-47bc-9ee2-8c1cc51e492c');\n",
              "          const dataTable =\n",
              "            await google.colab.kernel.invokeFunction('convertToInteractive',\n",
              "                                                     [key], {});\n",
              "          if (!dataTable) return;\n",
              "\n",
              "          const docLinkHtml = 'Like what you see? Visit the ' +\n",
              "            '<a target=\"_blank\" href=https://colab.research.google.com/notebooks/data_table.ipynb>data table notebook</a>'\n",
              "            + ' to learn more about interactive tables.';\n",
              "          element.innerHTML = '';\n",
              "          dataTable['output_type'] = 'display_data';\n",
              "          await google.colab.output.renderOutput(dataTable, element);\n",
              "          const docLink = document.createElement('div');\n",
              "          docLink.innerHTML = docLinkHtml;\n",
              "          element.appendChild(docLink);\n",
              "        }\n",
              "      </script>\n",
              "    </div>\n",
              "  </div>\n",
              "  "
            ]
          },
          "metadata": {},
          "execution_count": 68
        }
      ]
    },
    {
      "cell_type": "code",
      "source": [
        "# Agrupamento por ano:\n",
        "df.groupby(df[\"Data\"].dt.year)[\"Receita\"].sum()"
      ],
      "metadata": {
        "colab": {
          "base_uri": "https://localhost:8080/"
        },
        "id": "jCDiZfhGvCIu",
        "outputId": "4cdd25b9-4a05-42f4-8131-2cf41315a7da"
      },
      "execution_count": 69,
      "outputs": [
        {
          "output_type": "execute_result",
          "data": {
            "text/plain": [
              "Data\n",
              "2020    188630151.0\n",
              "Name: Receita, dtype: float64"
            ]
          },
          "metadata": {},
          "execution_count": 69
        }
      ]
    },
    {
      "cell_type": "code",
      "source": [
        "# Criando uma nova coluna com o ano: \n",
        "# df[\"Ano_venda\"] = df[\"Data\"].dt.year"
      ],
      "metadata": {
        "id": "Hioit-ZmwLMk"
      },
      "execution_count": 70,
      "outputs": []
    },
    {
      "cell_type": "code",
      "source": [
        "# Extraindo o mês e o dia:\n",
        "# df[\"mes_venda\"], df[\"dia_venda\"] = (df[\"Data\"].dt.month, df[\"Data\"].dt.day)"
      ],
      "metadata": {
        "id": "gb4lAuNWvZ4v"
      },
      "execution_count": 71,
      "outputs": []
    },
    {
      "cell_type": "code",
      "source": [
        "# Retornando a data mais antiga:\n",
        "df[\"Data\"].min()"
      ],
      "metadata": {
        "colab": {
          "base_uri": "https://localhost:8080/"
        },
        "id": "PVNOTcgbwWSd",
        "outputId": "7627b951-3510-4d69-d4d3-d3fbe0b88d20"
      },
      "execution_count": 72,
      "outputs": [
        {
          "output_type": "execute_result",
          "data": {
            "text/plain": [
              "Timestamp('2020-01-01 00:00:00')"
            ]
          },
          "metadata": {},
          "execution_count": 72
        }
      ]
    },
    {
      "cell_type": "code",
      "source": [
        "# Calculando a diferença dos dias:\n",
        "# df[\"Diferença_dias\"] = df[\"Data\"] - df[\"Data\"].min()"
      ],
      "metadata": {
        "id": "aPJe8tJqwgVC"
      },
      "execution_count": 73,
      "outputs": []
    },
    {
      "cell_type": "code",
      "source": [
        "# Criando uma coluna de trimestre:\n",
        "# df[\"Trimestre\"] = df[\"Data\"].dt.quarter"
      ],
      "metadata": {
        "id": "luC1LyjZwtBH"
      },
      "execution_count": 74,
      "outputs": []
    },
    {
      "cell_type": "code",
      "source": [
        "# Filtrando as vendas de março 2020:\n",
        "# vendas_marco = df.loc[(df[\"Data\"].dt.year == 2020) & (df[\"Data\"].dt.month == 3)]"
      ],
      "metadata": {
        "id": "9uMZEvSnxEwH"
      },
      "execution_count": 75,
      "outputs": []
    },
    {
      "cell_type": "markdown",
      "source": [
        "###**Visualização dos dados:**"
      ],
      "metadata": {
        "id": "hs7QPbNXxks1"
      }
    },
    {
      "cell_type": "code",
      "source": [
        "# Contar quantas linhas temos na coluna id:\n",
        "df[\"Cidade\"].value_counts(ascending=False)"
      ],
      "metadata": {
        "colab": {
          "base_uri": "https://localhost:8080/"
        },
        "id": "1aEx7c72xpBd",
        "outputId": "b225659b-13d6-49d3-eb93-f9cfb8f5a352"
      },
      "execution_count": 76,
      "outputs": [
        {
          "output_type": "execute_result",
          "data": {
            "text/plain": [
              "São Paulo         1733\n",
              "Belo Horizonte    1458\n",
              "Guarulhos          792\n",
              "Rio de Janeiro     762\n",
              "Niterói            738\n",
              "Nova Iguaçu        729\n",
              "Campinas           708\n",
              "Porto Alegre       683\n",
              "Name: Cidade, dtype: int64"
            ]
          },
          "metadata": {},
          "execution_count": 76
        }
      ]
    },
    {
      "cell_type": "code",
      "source": [
        "# Gráfico de barras:\n",
        "df[\"Cidade\"].value_counts(ascending=False).plot.bar();"
      ],
      "metadata": {
        "colab": {
          "base_uri": "https://localhost:8080/",
          "height": 328
        },
        "id": "uPGVh2cSyeKV",
        "outputId": "0c35b89a-f724-405b-b0a5-88031e2e186e"
      },
      "execution_count": 77,
      "outputs": [
        {
          "output_type": "display_data",
          "data": {
            "text/plain": [
              "<Figure size 432x288 with 1 Axes>"
            ],
            "image/png": "[encoded data removed]"
          },
          "metadata": {
            "needs_background": "light"
          }
        }
      ]
    },
    {
      "cell_type": "code",
      "source": [
        "# Gráfico de barras horizontal:\n",
        "# default menor para o maior\n",
        "df[\"Cidade\"].value_counts().plot.barh();"
      ],
      "metadata": {
        "colab": {
          "base_uri": "https://localhost:8080/",
          "height": 265
        },
        "id": "oN0SQxPYyy5m",
        "outputId": "7e680f60-992c-41c0-a3bb-7030c2f415ba"
      },
      "execution_count": 78,
      "outputs": [
        {
          "output_type": "display_data",
          "data": {
            "text/plain": [
              "<Figure size 432x288 with 1 Axes>"
            ],
            "image/png": "[encoded data removed]"
          },
          "metadata": {
            "needs_background": "light"
          }
        }
      ]
    },
    {
      "cell_type": "code",
      "source": [
        "# Grafico de barras horizontal do menor para o maior:\n",
        "df[\"Cidade\"].value_counts(ascending=True).plot.barh();"
      ],
      "metadata": {
        "colab": {
          "base_uri": "https://localhost:8080/",
          "height": 265
        },
        "id": "gvytbDwIzCYy",
        "outputId": "e81199e2-a97f-40f5-be16-d7aa34660823"
      },
      "execution_count": 79,
      "outputs": [
        {
          "output_type": "display_data",
          "data": {
            "text/plain": [
              "<Figure size 432x288 with 1 Axes>"
            ],
            "image/png": "[encoded data removed]"
          },
          "metadata": {
            "needs_background": "light"
          }
        }
      ]
    },
    {
      "cell_type": "code",
      "source": [
        "# Gráfico de pizza com a receita por ano:\n",
        "df.groupby(df[\"Data\"].dt.year)[\"Receita\"].sum().plot.pie();"
      ],
      "metadata": {
        "colab": {
          "base_uri": "https://localhost:8080/",
          "height": 248
        },
        "id": "UUBMWHbdzPFn",
        "outputId": "90bcb4b8-cc7c-43ce-8717-0b5453994cda"
      },
      "execution_count": 80,
      "outputs": [
        {
          "output_type": "display_data",
          "data": {
            "text/plain": [
              "<Figure size 432x288 with 1 Axes>"
            ],
            "image/png": "[encoded data removed]"
          },
          "metadata": {}
        }
      ]
    },
    {
      "cell_type": "code",
      "source": [
        "# Total vendas por cidade: \n",
        "df[\"Cidade\"].value_counts()"
      ],
      "metadata": {
        "colab": {
          "base_uri": "https://localhost:8080/"
        },
        "id": "Th9mIHAg1voJ",
        "outputId": "307fcbea-eebb-4525-8c24-8dd032d5f40c"
      },
      "execution_count": 81,
      "outputs": [
        {
          "output_type": "execute_result",
          "data": {
            "text/plain": [
              "São Paulo         1733\n",
              "Belo Horizonte    1458\n",
              "Guarulhos          792\n",
              "Rio de Janeiro     762\n",
              "Niterói            738\n",
              "Nova Iguaçu        729\n",
              "Campinas           708\n",
              "Porto Alegre       683\n",
              "Name: Cidade, dtype: int64"
            ]
          },
          "metadata": {},
          "execution_count": 81
        }
      ]
    },
    {
      "cell_type": "code",
      "source": [
        "# Gráfico de pizza com total vendas por cidade: \n",
        "df[\"Cidade\"].value_counts().plot.pie();"
      ],
      "metadata": {
        "colab": {
          "base_uri": "https://localhost:8080/",
          "height": 248
        },
        "id": "1Ec7B2qM0Ykd",
        "outputId": "8a7008b8-a4f4-4618-ab73-15ebe8c44d98"
      },
      "execution_count": 82,
      "outputs": [
        {
          "output_type": "display_data",
          "data": {
            "text/plain": [
              "<Figure size 432x288 with 1 Axes>"
            ],
            "image/png": "[encoded data removed]"
          },
          "metadata": {}
        }
      ]
    },
    {
      "cell_type": "code",
      "source": [
        "# Total vendas por Estado: \n",
        "df[\"Estado\"].value_counts()"
      ],
      "metadata": {
        "colab": {
          "base_uri": "https://localhost:8080/"
        },
        "id": "eUb0lpwW1rfn",
        "outputId": "f4867388-e1db-4c00-f81f-c56b542c66ea"
      },
      "execution_count": 83,
      "outputs": [
        {
          "output_type": "execute_result",
          "data": {
            "text/plain": [
              "São Paulo            3233\n",
              "Rio de Janeiro       2229\n",
              "Minas Gerais         1458\n",
              "Rio Grande do Sul     683\n",
              "Name: Estado, dtype: int64"
            ]
          },
          "metadata": {},
          "execution_count": 83
        }
      ]
    },
    {
      "cell_type": "code",
      "source": [
        "# Gráfico de pizza com total vendas por Estado: \n",
        "df[\"Estado\"].value_counts().plot.pie();"
      ],
      "metadata": {
        "colab": {
          "base_uri": "https://localhost:8080/",
          "height": 248
        },
        "id": "eZKPpVwL16hG",
        "outputId": "6785fe7b-8d52-4275-f502-fb0b715a6625"
      },
      "execution_count": 84,
      "outputs": [
        {
          "output_type": "display_data",
          "data": {
            "text/plain": [
              "<Figure size 432x288 with 1 Axes>"
            ],
            "image/png": "[encoded data removed]"
          },
          "metadata": {}
        }
      ]
    },
    {
      "cell_type": "code",
      "source": [
        "# Adicionando um título e alterando o nome dos eixos:\n",
        "import matplotlib.pyplot as plt\n",
        "df[\"Cidade\"].value_counts().plot.bar(title=\"Total de vendas por cidade\", color=\"red\")\n",
        "plt.xlabel(\"Cidades\")\n",
        "plt.ylabel(\"Total de vendas\");"
      ],
      "metadata": {
        "colab": {
          "base_uri": "https://localhost:8080/",
          "height": 358
        },
        "id": "5bT9W4DW2Bju",
        "outputId": "5148f341-32d1-42f2-8184-6c06cd560ba3"
      },
      "execution_count": 85,
      "outputs": [
        {
          "output_type": "display_data",
          "data": {
            "text/plain": [
              "<Figure size 432x288 with 1 Axes>"
            ],
            "image/png": "[encoded data removed]"
          },
          "metadata": {
            "needs_background": "light"
          }
        }
      ]
    },
    {
      "cell_type": "code",
      "source": [
        "# Alterando o estilo:\n",
        "plt.style.use(\"ggplot\")"
      ],
      "metadata": {
        "id": "rHGpmnfF2va0"
      },
      "execution_count": 86,
      "outputs": []
    },
    {
      "cell_type": "code",
      "source": [
        "# Quantidade de produtos vendidos por mês:\n",
        "df.groupby(df[\"Data\"].dt.month)[\"Qtd Vendida\"].sum()"
      ],
      "metadata": {
        "colab": {
          "base_uri": "https://localhost:8080/"
        },
        "id": "a3GzAchB4XqB",
        "outputId": "23f62bab-5a7a-49b9-d343-055c977b2303"
      },
      "execution_count": 87,
      "outputs": [
        {
          "output_type": "execute_result",
          "data": {
            "text/plain": [
              "Data\n",
              "1     2324\n",
              "2     1883\n",
              "3     1549\n",
              "4     1575\n",
              "5     1782\n",
              "6     1942\n",
              "7     2086\n",
              "8     1511\n",
              "9     1875\n",
              "10    1876\n",
              "11    2084\n",
              "12    2365\n",
              "Name: Qtd Vendida, dtype: int64"
            ]
          },
          "metadata": {},
          "execution_count": 87
        }
      ]
    },
    {
      "cell_type": "code",
      "source": [
        "df.groupby(df[\"Data\"].dt.month)[\"Qtd Vendida\"].sum().plot()\n",
        "plt.xlabel(\"Mês\")\n",
        "plt.ylabel(\"Total de produtos vendidos\")\n",
        "plt.legend();"
      ],
      "metadata": {
        "colab": {
          "base_uri": "https://localhost:8080/",
          "height": 285
        },
        "id": "dDyg1KLN3fOS",
        "outputId": "b10fb72b-f7eb-4d6f-d3bb-0a5b967c8ecb"
      },
      "execution_count": 88,
      "outputs": [
        {
          "output_type": "display_data",
          "data": {
            "text/plain": [
              "<Figure size 432x288 with 1 Axes>"
            ],
            "image/png": "[encoded data removed]"
          },
          "metadata": {}
        }
      ]
    },
    {
      "cell_type": "code",
      "source": [
        "# Hisograma:\n",
        "plt.hist(df[\"Qtd Vendida\"], color=\"purple\");"
      ],
      "metadata": {
        "colab": {
          "base_uri": "https://localhost:8080/",
          "height": 265
        },
        "id": "vW6TmWj84Cro",
        "outputId": "31f1e1f3-b8ac-44d5-ea76-95bc0f90faaf"
      },
      "execution_count": 89,
      "outputs": [
        {
          "output_type": "display_data",
          "data": {
            "text/plain": [
              "<Figure size 432x288 with 1 Axes>"
            ],
            "image/png": "[encoded data removed]"
          },
          "metadata": {}
        }
      ]
    },
    {
      "cell_type": "code",
      "source": [
        "# Salvando em png:\n",
        "df.groupby(df[\"Data\"].dt.month)[\"Qtd Vendida\"].sum().plot()\n",
        "plt.xlabel(\"Mês\")\n",
        "plt.ylabel(\"Total de produtos vendidos\")\n",
        "plt.legend();\n",
        "plt.savefig(\"grafico total de vendas x mes.png\")"
      ],
      "metadata": {
        "colab": {
          "base_uri": "https://localhost:8080/",
          "height": 285
        },
        "id": "_5i3EyA7_P1Q",
        "outputId": "bb113731-b5ed-4ea2-f97e-8432781b0118"
      },
      "execution_count": 90,
      "outputs": [
        {
          "output_type": "display_data",
          "data": {
            "text/plain": [
              "<Figure size 432x288 with 1 Axes>"
            ],
            "image/png": "[encoded data removed]"
          },
          "metadata": {}
        }
      ]
    },
    {
      "cell_type": "markdown",
      "source": [
        "###**Análise exploratória:**"
      ],
      "metadata": {
        "id": "UY5bbMhiAK9F"
      }
    },
    {
      "cell_type": "code",
      "source": [
        "#Importando as bibliotecas\n",
        "import pandas as pd\n",
        "import matplotlib.pyplot as plt\n",
        "plt.style.use(\"seaborn\")"
      ],
      "metadata": {
        "id": "w3lCYNW6AOPj"
      },
      "execution_count": 91,
      "outputs": []
    },
    {
      "cell_type": "code",
      "source": [
        "#Upload do arquivo\n",
        "from google.colab import files\n",
        "arq = files.upload()"
      ],
      "metadata": {
        "colab": {
          "base_uri": "https://localhost:8080/",
          "height": 74
        },
        "id": "FSspY2yeTq7i",
        "outputId": "53180ab2-38c9-4d7e-f606-b253a5c8dfb0"
      },
      "execution_count": 92,
      "outputs": [
        {
          "output_type": "display_data",
          "data": {
            "text/plain": [
              "<IPython.core.display.HTML object>"
            ],
            "text/html": [
              "\n",
              "     <input type=\"file\" id=\"files-161ecbad-e1a3-49de-8f51-0085e02f9102\" name=\"files[]\" multiple disabled\n",
              "        style=\"border:none\" />\n",
              "     <output id=\"result-161ecbad-e1a3-49de-8f51-0085e02f9102\">\n",
              "      Upload widget is only available when the cell has been executed in the\n",
              "      current browser session. Please rerun this cell to enable.\n",
              "      </output>\n",
              "      <script>// Copyright 2017 Google LLC\n",
              "//\n",
              "// Licensed under the Apache License, Version 2.0 (the \"License\");\n",
              "// you may not use this file except in compliance with the License.\n",
              "// You may obtain a copy of the License at\n",
              "//\n",
              "//      http://www.apache.org/licenses/LICENSE-2.0\n",
              "//\n",
              "// Unless required by applicable law or agreed to in writing, software\n",
              "// distributed under the License is distributed on an \"AS IS\" BASIS,\n",
              "// WITHOUT WARRANTIES OR CONDITIONS OF ANY KIND, either express or implied.\n",
              "// See the License for the specific language governing permissions and\n",
              "// limitations under the License.\n",
              "\n",
              "/**\n",
              " * @fileoverview Helpers for google.colab Python module.\n",
              " */\n",
              "(function(scope) {\n",
              "function span(text, styleAttributes = {}) {\n",
              "  const element = document.createElement('span');\n",
              "  element.textContent = text;\n",
              "  for (const key of Object.keys(styleAttributes)) {\n",
              "    element.style[key] = styleAttributes[key];\n",
              "  }\n",
              "  return element;\n",
              "}\n",
              "\n",
              "// Max number of bytes which will be uploaded at a time.\n",
              "const MAX_PAYLOAD_SIZE = 100 * 1024;\n",
              "\n",
              "function _uploadFiles(inputId, outputId) {\n",
              "  const steps = uploadFilesStep(inputId, outputId);\n",
              "  const outputElement = document.getElementById(outputId);\n",
              "  // Cache steps on the outputElement to make it available for the next call\n",
              "  // to uploadFilesContinue from Python.\n",
              "  outputElement.steps = steps;\n",
              "\n",
              "  return _uploadFilesContinue(outputId);\n",
              "}\n",
              "\n",
              "// This is roughly an async generator (not supported in the browser yet),\n",
              "// where there are multiple asynchronous steps and the Python side is going\n",
              "// to poll for completion of each step.\n",
              "// This uses a Promise to block the python side on completion of each step,\n",
              "// then passes the result of the previous step as the input to the next step.\n",
              "function _uploadFilesContinue(outputId) {\n",
              "  const outputElement = document.getElementById(outputId);\n",
              "  const steps = outputElement.steps;\n",
              "\n",
              "  const next = steps.next(outputElement.lastPromiseValue);\n",
              "  return Promise.resolve(next.value.promise).then((value) => {\n",
              "    // Cache the last promise value to make it available to the next\n",
              "    // step of the generator.\n",
              "    outputElement.lastPromiseValue = value;\n",
              "    return next.value.response;\n",
              "  });\n",
              "}\n",
              "\n",
              "/**\n",
              " * Generator function which is called between each async step of the upload\n",
              " * process.\n",
              " * @param {string} inputId Element ID of the input file picker element.\n",
              " * @param {string} outputId Element ID of the output display.\n",
              " * @return {!Iterable<!Object>} Iterable of next steps.\n",
              " */\n",
              "function* uploadFilesStep(inputId, outputId) {\n",
              "  const inputElement = document.getElementById(inputId);\n",
              "  inputElement.disabled = false;\n",
              "\n",
              "  const outputElement = document.getElementById(outputId);\n",
              "  outputElement.innerHTML = '';\n",
              "\n",
              "  const pickedPromise = new Promise((resolve) => {\n",
              "    inputElement.addEventListener('change', (e) => {\n",
              "      resolve(e.target.files);\n",
              "    });\n",
              "  });\n",
              "\n",
              "  const cancel = document.createElement('button');\n",
              "  inputElement.parentElement.appendChild(cancel);\n",
              "  cancel.textContent = 'Cancel upload';\n",
              "  const cancelPromise = new Promise((resolve) => {\n",
              "    cancel.onclick = () => {\n",
              "      resolve(null);\n",
              "    };\n",
              "  });\n",
              "\n",
              "  // Wait for the user to pick the files.\n",
              "  const files = yield {\n",
              "    promise: Promise.race([pickedPromise, cancelPromise]),\n",
              "    response: {\n",
              "      action: 'starting',\n",
              "    }\n",
              "  };\n",
              "\n",
              "  cancel.remove();\n",
              "\n",
              "  // Disable the input element since further picks are not allowed.\n",
              "  inputElement.disabled = true;\n",
              "\n",
              "  if (!files) {\n",
              "    return {\n",
              "      response: {\n",
              "        action: 'complete',\n",
              "      }\n",
              "    };\n",
              "  }\n",
              "\n",
              "  for (const file of files) {\n",
              "    const li = document.createElement('li');\n",
              "    li.append(span(file.name, {fontWeight: 'bold'}));\n",
              "    li.append(span(\n",
              "        `(${file.type || 'n/a'}) - ${file.size} bytes, ` +\n",
              "        `last modified: ${\n",
              "            file.lastModifiedDate ? file.lastModifiedDate.toLocaleDateString() :\n",
              "                                    'n/a'} - `));\n",
              "    const percent = span('0% done');\n",
              "    li.appendChild(percent);\n",
              "\n",
              "    outputElement.appendChild(li);\n",
              "\n",
              "    const fileDataPromise = new Promise((resolve) => {\n",
              "      const reader = new FileReader();\n",
              "      reader.onload = (e) => {\n",
              "        resolve(e.target.result);\n",
              "      };\n",
              "      reader.readAsArrayBuffer(file);\n",
              "    });\n",
              "    // Wait for the data to be ready.\n",
              "    let fileData = yield {\n",
              "      promise: fileDataPromise,\n",
              "      response: {\n",
              "        action: 'continue',\n",
              "      }\n",
              "    };\n",
              "\n",
              "    // Use a chunked sending to avoid message size limits. See b/62115660.\n",
              "    let position = 0;\n",
              "    do {\n",
              "      const length = Math.min(fileData.byteLength - position, MAX_PAYLOAD_SIZE);\n",
              "      const chunk = new Uint8Array(fileData, position, length);\n",
              "      position += length;\n",
              "\n",
              "      const base64 = btoa(String.fromCharCode.apply(null, chunk));\n",
              "      yield {\n",
              "        response: {\n",
              "          action: 'append',\n",
              "          file: file.name,\n",
              "          data: base64,\n",
              "        },\n",
              "      };\n",
              "\n",
              "      let percentDone = fileData.byteLength === 0 ?\n",
              "          100 :\n",
              "          Math.round((position / fileData.byteLength) * 100);\n",
              "      percent.textContent = `${percentDone}% done`;\n",
              "\n",
              "    } while (position < fileData.byteLength);\n",
              "  }\n",
              "\n",
              "  // All done.\n",
              "  yield {\n",
              "    response: {\n",
              "      action: 'complete',\n",
              "    }\n",
              "  };\n",
              "}\n",
              "\n",
              "scope.google = scope.google || {};\n",
              "scope.google.colab = scope.google.colab || {};\n",
              "scope.google.colab._files = {\n",
              "  _uploadFiles,\n",
              "  _uploadFilesContinue,\n",
              "};\n",
              "})(self);\n",
              "</script> "
            ]
          },
          "metadata": {}
        },
        {
          "output_type": "stream",
          "name": "stdout",
          "text": [
            "Saving AdventureWorks.xlsx to AdventureWorks.xlsx\n"
          ]
        }
      ]
    },
    {
      "cell_type": "code",
      "source": [
        "# Criando o DataFrame:\n",
        "df = pd.read_excel(\"AdventureWorks.xlsx\") "
      ],
      "metadata": {
        "id": "_y9ZhdijTynB"
      },
      "execution_count": 93,
      "outputs": []
    },
    {
      "cell_type": "code",
      "source": [
        "# Visualizando as 5 primeiras linhas:\n",
        "df.head()"
      ],
      "metadata": {
        "colab": {
          "base_uri": "https://localhost:8080/",
          "height": 441
        },
        "id": "9tqh4pHRT9nM",
        "outputId": "894a967b-b520-4dec-95b3-aa83f0281c59"
      },
      "execution_count": 94,
      "outputs": [
        {
          "output_type": "execute_result",
          "data": {
            "text/plain": [
              "  Data Venda Data Envio  ID Loja  ID Produto  ID Cliente       No. Venda  \\\n",
              "0 2008-05-09 2008-05-29      199         384       18839  200805093CS607   \n",
              "1 2008-05-12 2008-05-17      306         384       19051  200805123CS567   \n",
              "2 2008-05-14 2008-05-20      306         384       19052  200805143CS576   \n",
              "3 2008-05-21 2008-05-27      306         384       19052  200805213CS576   \n",
              "4 2008-06-20 2008-06-27      306         384       19053  200806203CS586   \n",
              "\n",
              "   Custo Unitário  Preço Unitário  Quantidade  Valor Desconto  Valor Venda  \\\n",
              "0          348.58           758.0           6             0.0       4548.0   \n",
              "1          348.58           758.0           6             0.0       4548.0   \n",
              "2          348.58           758.0           6             0.0       4548.0   \n",
              "3          348.58           758.0           6             0.0       4548.0   \n",
              "4          348.58           758.0           6             0.0       4548.0   \n",
              "\n",
              "                                 Produto       Fabricante            Marca  \\\n",
              "0  Adventure Works Laptop15.4W M1548 Red  Adventure Works  Adventure Works   \n",
              "1  Adventure Works Laptop15.4W M1548 Red  Adventure Works  Adventure Works   \n",
              "2  Adventure Works Laptop15.4W M1548 Red  Adventure Works  Adventure Works   \n",
              "3  Adventure Works Laptop15.4W M1548 Red  Adventure Works  Adventure Works   \n",
              "4  Adventure Works Laptop15.4W M1548 Red  Adventure Works  Adventure Works   \n",
              "\n",
              "    Classe  Cor  \n",
              "0  Regular  Red  \n",
              "1  Regular  Red  \n",
              "2  Regular  Red  \n",
              "3  Regular  Red  \n",
              "4  Regular  Red  "
            ],
            "text/html": [
              "\n",
              "  <div id=\"df-ddaf52e3-e415-47e1-bd07-7081b7190375\">\n",
              "    <div class=\"colab-df-container\">\n",
              "      <div>\n",
              "<style scoped>\n",
              "    .dataframe tbody tr th:only-of-type {\n",
              "        vertical-align: middle;\n",
              "    }\n",
              "\n",
              "    .dataframe tbody tr th {\n",
              "        vertical-align: top;\n",
              "    }\n",
              "\n",
              "    .dataframe thead th {\n",
              "        text-align: right;\n",
              "    }\n",
              "</style>\n",
              "<table border=\"1\" class=\"dataframe\">\n",
              "  <thead>\n",
              "    <tr style=\"text-align: right;\">\n",
              "      <th></th>\n",
              "      <th>Data Venda</th>\n",
              "      <th>Data Envio</th>\n",
              "      <th>ID Loja</th>\n",
              "      <th>ID Produto</th>\n",
              "      <th>ID Cliente</th>\n",
              "      <th>No. Venda</th>\n",
              "      <th>Custo Unitário</th>\n",
              "      <th>Preço Unitário</th>\n",
              "      <th>Quantidade</th>\n",
              "      <th>Valor Desconto</th>\n",
              "      <th>Valor Venda</th>\n",
              "      <th>Produto</th>\n",
              "      <th>Fabricante</th>\n",
              "      <th>Marca</th>\n",
              "      <th>Classe</th>\n",
              "      <th>Cor</th>\n",
              "    </tr>\n",
              "  </thead>\n",
              "  <tbody>\n",
              "    <tr>\n",
              "      <th>0</th>\n",
              "      <td>2008-05-09</td>\n",
              "      <td>2008-05-29</td>\n",
              "      <td>199</td>\n",
              "      <td>384</td>\n",
              "      <td>18839</td>\n",
              "      <td>200805093CS607</td>\n",
              "      <td>348.58</td>\n",
              "      <td>758.0</td>\n",
              "      <td>6</td>\n",
              "      <td>0.0</td>\n",
              "      <td>4548.0</td>\n",
              "      <td>Adventure Works Laptop15.4W M1548 Red</td>\n",
              "      <td>Adventure Works</td>\n",
              "      <td>Adventure Works</td>\n",
              "      <td>Regular</td>\n",
              "      <td>Red</td>\n",
              "    </tr>\n",
              "    <tr>\n",
              "      <th>1</th>\n",
              "      <td>2008-05-12</td>\n",
              "      <td>2008-05-17</td>\n",
              "      <td>306</td>\n",
              "      <td>384</td>\n",
              "      <td>19051</td>\n",
              "      <td>200805123CS567</td>\n",
              "      <td>348.58</td>\n",
              "      <td>758.0</td>\n",
              "      <td>6</td>\n",
              "      <td>0.0</td>\n",
              "      <td>4548.0</td>\n",
              "      <td>Adventure Works Laptop15.4W M1548 Red</td>\n",
              "      <td>Adventure Works</td>\n",
              "      <td>Adventure Works</td>\n",
              "      <td>Regular</td>\n",
              "      <td>Red</td>\n",
              "    </tr>\n",
              "    <tr>\n",
              "      <th>2</th>\n",
              "      <td>2008-05-14</td>\n",
              "      <td>2008-05-20</td>\n",
              "      <td>306</td>\n",
              "      <td>384</td>\n",
              "      <td>19052</td>\n",
              "      <td>200805143CS576</td>\n",
              "      <td>348.58</td>\n",
              "      <td>758.0</td>\n",
              "      <td>6</td>\n",
              "      <td>0.0</td>\n",
              "      <td>4548.0</td>\n",
              "      <td>Adventure Works Laptop15.4W M1548 Red</td>\n",
              "      <td>Adventure Works</td>\n",
              "      <td>Adventure Works</td>\n",
              "      <td>Regular</td>\n",
              "      <td>Red</td>\n",
              "    </tr>\n",
              "    <tr>\n",
              "      <th>3</th>\n",
              "      <td>2008-05-21</td>\n",
              "      <td>2008-05-27</td>\n",
              "      <td>306</td>\n",
              "      <td>384</td>\n",
              "      <td>19052</td>\n",
              "      <td>200805213CS576</td>\n",
              "      <td>348.58</td>\n",
              "      <td>758.0</td>\n",
              "      <td>6</td>\n",
              "      <td>0.0</td>\n",
              "      <td>4548.0</td>\n",
              "      <td>Adventure Works Laptop15.4W M1548 Red</td>\n",
              "      <td>Adventure Works</td>\n",
              "      <td>Adventure Works</td>\n",
              "      <td>Regular</td>\n",
              "      <td>Red</td>\n",
              "    </tr>\n",
              "    <tr>\n",
              "      <th>4</th>\n",
              "      <td>2008-06-20</td>\n",
              "      <td>2008-06-27</td>\n",
              "      <td>306</td>\n",
              "      <td>384</td>\n",
              "      <td>19053</td>\n",
              "      <td>200806203CS586</td>\n",
              "      <td>348.58</td>\n",
              "      <td>758.0</td>\n",
              "      <td>6</td>\n",
              "      <td>0.0</td>\n",
              "      <td>4548.0</td>\n",
              "      <td>Adventure Works Laptop15.4W M1548 Red</td>\n",
              "      <td>Adventure Works</td>\n",
              "      <td>Adventure Works</td>\n",
              "      <td>Regular</td>\n",
              "      <td>Red</td>\n",
              "    </tr>\n",
              "  </tbody>\n",
              "</table>\n",
              "</div>\n",
              "      <button class=\"colab-df-convert\" onclick=\"convertToInteractive('df-ddaf52e3-e415-47e1-bd07-7081b7190375')\"\n",
              "              title=\"Convert this dataframe to an interactive table.\"\n",
              "              style=\"display:none;\">\n",
              "        \n",
              "  <svg xmlns=\"http://www.w3.org/2000/svg\" height=\"24px\"viewBox=\"0 0 24 24\"\n",
              "       width=\"24px\">\n",
              "    <path d=\"M0 0h24v24H0V0z\" fill=\"none\"/>\n",
              "    <path d=\"M18.56 5.44l.94 2.06.94-2.06 2.06-.94-2.06-.94-.94-2.06-.94 2.06-2.06.94zm-11 1L8.5 8.5l.94-2.06 2.06-.94-2.06-.94L8.5 2.5l-.94 2.06-2.06.94zm10 10l.94 2.06.94-2.06 2.06-.94-2.06-.94-.94-2.06-.94 2.06-2.06.94z\"/><path d=\"M17.41 7.96l-1.37-1.37c-.4-.4-.92-.59-1.43-.59-.52 0-1.04.2-1.43.59L10.3 9.45l-7.72 7.72c-.78.78-.78 2.05 0 2.83L4 21.41c.39.39.9.59 1.41.59.51 0 1.02-.2 1.41-.59l7.78-7.78 2.81-2.81c.8-.78.8-2.07 0-2.86zM5.41 20L4 18.59l7.72-7.72 1.47 1.35L5.41 20z\"/>\n",
              "  </svg>\n",
              "      </button>\n",
              "      \n",
              "  <style>\n",
              "    .colab-df-container {\n",
              "      display:flex;\n",
              "      flex-wrap:wrap;\n",
              "      gap: 12px;\n",
              "    }\n",
              "\n",
              "    .colab-df-convert {\n",
              "      background-color: #E8F0FE;\n",
              "      border: none;\n",
              "      border-radius: 50%;\n",
              "      cursor: pointer;\n",
              "      display: none;\n",
              "      fill: #1967D2;\n",
              "      height: 32px;\n",
              "      padding: 0 0 0 0;\n",
              "      width: 32px;\n",
              "    }\n",
              "\n",
              "    .colab-df-convert:hover {\n",
              "      background-color: #E2EBFA;\n",
              "      box-shadow: 0px 1px 2px rgba(60, 64, 67, 0.3), 0px 1px 3px 1px rgba(60, 64, 67, 0.15);\n",
              "      fill: #174EA6;\n",
              "    }\n",
              "\n",
              "    [theme=dark] .colab-df-convert {\n",
              "      background-color: #3B4455;\n",
              "      fill: #D2E3FC;\n",
              "    }\n",
              "\n",
              "    [theme=dark] .colab-df-convert:hover {\n",
              "      background-color: #434B5C;\n",
              "      box-shadow: 0px 1px 3px 1px rgba(0, 0, 0, 0.15);\n",
              "      filter: drop-shadow(0px 1px 2px rgba(0, 0, 0, 0.3));\n",
              "      fill: #FFFFFF;\n",
              "    }\n",
              "  </style>\n",
              "\n",
              "      <script>\n",
              "        const buttonEl =\n",
              "          document.querySelector('#df-ddaf52e3-e415-47e1-bd07-7081b7190375 button.colab-df-convert');\n",
              "        buttonEl.style.display =\n",
              "          google.colab.kernel.accessAllowed ? 'block' : 'none';\n",
              "\n",
              "        async function convertToInteractive(key) {\n",
              "          const element = document.querySelector('#df-ddaf52e3-e415-47e1-bd07-7081b7190375');\n",
              "          const dataTable =\n",
              "            await google.colab.kernel.invokeFunction('convertToInteractive',\n",
              "                                                     [key], {});\n",
              "          if (!dataTable) return;\n",
              "\n",
              "          const docLinkHtml = 'Like what you see? Visit the ' +\n",
              "            '<a target=\"_blank\" href=https://colab.research.google.com/notebooks/data_table.ipynb>data table notebook</a>'\n",
              "            + ' to learn more about interactive tables.';\n",
              "          element.innerHTML = '';\n",
              "          dataTable['output_type'] = 'display_data';\n",
              "          await google.colab.output.renderOutput(dataTable, element);\n",
              "          const docLink = document.createElement('div');\n",
              "          docLink.innerHTML = docLinkHtml;\n",
              "          element.appendChild(docLink);\n",
              "        }\n",
              "      </script>\n",
              "    </div>\n",
              "  </div>\n",
              "  "
            ]
          },
          "metadata": {},
          "execution_count": 94
        }
      ]
    },
    {
      "cell_type": "code",
      "source": [
        "# Verificando a quantidade de linhas e colunas:\n",
        "df.shape"
      ],
      "metadata": {
        "colab": {
          "base_uri": "https://localhost:8080/"
        },
        "id": "pzmHHnWEUFJD",
        "outputId": "810c8388-427a-4280-ad84-6cb900020d46"
      },
      "execution_count": 95,
      "outputs": [
        {
          "output_type": "execute_result",
          "data": {
            "text/plain": [
              "(904, 16)"
            ]
          },
          "metadata": {},
          "execution_count": 95
        }
      ]
    },
    {
      "cell_type": "code",
      "source": [
        "# Verificando os tipos de dados\n",
        "df.dtypes"
      ],
      "metadata": {
        "colab": {
          "base_uri": "https://localhost:8080/"
        },
        "id": "kHPe6l91UNia",
        "outputId": "604ae42c-a3ce-4727-bd4d-014bb0d69088"
      },
      "execution_count": 96,
      "outputs": [
        {
          "output_type": "execute_result",
          "data": {
            "text/plain": [
              "Data Venda        datetime64[ns]\n",
              "Data Envio        datetime64[ns]\n",
              "ID Loja                    int64\n",
              "ID Produto                 int64\n",
              "ID Cliente                 int64\n",
              "No. Venda                 object\n",
              "Custo Unitário           float64\n",
              "Preço Unitário           float64\n",
              "Quantidade                 int64\n",
              "Valor Desconto           float64\n",
              "Valor Venda              float64\n",
              "Produto                   object\n",
              "Fabricante                object\n",
              "Marca                     object\n",
              "Classe                    object\n",
              "Cor                       object\n",
              "dtype: object"
            ]
          },
          "metadata": {},
          "execution_count": 96
        }
      ]
    },
    {
      "cell_type": "code",
      "source": [
        "# Verificando qual a receita total:\n",
        "df[\"Valor Venda\"].sum()"
      ],
      "metadata": {
        "colab": {
          "base_uri": "https://localhost:8080/"
        },
        "id": "Hr7iuRaZUR2Z",
        "outputId": "43073f5b-4362-454a-bd7f-734314527eb1"
      },
      "execution_count": 97,
      "outputs": [
        {
          "output_type": "execute_result",
          "data": {
            "text/plain": [
              "5984606.1426"
            ]
          },
          "metadata": {},
          "execution_count": 97
        }
      ]
    },
    {
      "cell_type": "code",
      "source": [
        "# Criando a coluna de custo = custo unitário x quantidade:\n",
        "df[\"custo\"] = df[\"Custo Unitário\"].mul(df[\"Quantidade\"]) "
      ],
      "metadata": {
        "id": "ER9s5fnFUZqk"
      },
      "execution_count": 98,
      "outputs": []
    },
    {
      "cell_type": "code",
      "source": [
        "df.head(1)"
      ],
      "metadata": {
        "colab": {
          "base_uri": "https://localhost:8080/",
          "height": 177
        },
        "id": "IC9sEG68UjW6",
        "outputId": "c6a4ad58-c095-4f6c-c722-c6425bc05282"
      },
      "execution_count": 99,
      "outputs": [
        {
          "output_type": "execute_result",
          "data": {
            "text/plain": [
              "  Data Venda Data Envio  ID Loja  ID Produto  ID Cliente       No. Venda  \\\n",
              "0 2008-05-09 2008-05-29      199         384       18839  200805093CS607   \n",
              "\n",
              "   Custo Unitário  Preço Unitário  Quantidade  Valor Desconto  Valor Venda  \\\n",
              "0          348.58           758.0           6             0.0       4548.0   \n",
              "\n",
              "                                 Produto       Fabricante            Marca  \\\n",
              "0  Adventure Works Laptop15.4W M1548 Red  Adventure Works  Adventure Works   \n",
              "\n",
              "    Classe  Cor    custo  \n",
              "0  Regular  Red  2091.48  "
            ],
            "text/html": [
              "\n",
              "  <div id=\"df-6fb4d487-b0d3-4e0f-bb1c-1a5d476416b4\">\n",
              "    <div class=\"colab-df-container\">\n",
              "      <div>\n",
              "<style scoped>\n",
              "    .dataframe tbody tr th:only-of-type {\n",
              "        vertical-align: middle;\n",
              "    }\n",
              "\n",
              "    .dataframe tbody tr th {\n",
              "        vertical-align: top;\n",
              "    }\n",
              "\n",
              "    .dataframe thead th {\n",
              "        text-align: right;\n",
              "    }\n",
              "</style>\n",
              "<table border=\"1\" class=\"dataframe\">\n",
              "  <thead>\n",
              "    <tr style=\"text-align: right;\">\n",
              "      <th></th>\n",
              "      <th>Data Venda</th>\n",
              "      <th>Data Envio</th>\n",
              "      <th>ID Loja</th>\n",
              "      <th>ID Produto</th>\n",
              "      <th>ID Cliente</th>\n",
              "      <th>No. Venda</th>\n",
              "      <th>Custo Unitário</th>\n",
              "      <th>Preço Unitário</th>\n",
              "      <th>Quantidade</th>\n",
              "      <th>Valor Desconto</th>\n",
              "      <th>Valor Venda</th>\n",
              "      <th>Produto</th>\n",
              "      <th>Fabricante</th>\n",
              "      <th>Marca</th>\n",
              "      <th>Classe</th>\n",
              "      <th>Cor</th>\n",
              "      <th>custo</th>\n",
              "    </tr>\n",
              "  </thead>\n",
              "  <tbody>\n",
              "    <tr>\n",
              "      <th>0</th>\n",
              "      <td>2008-05-09</td>\n",
              "      <td>2008-05-29</td>\n",
              "      <td>199</td>\n",
              "      <td>384</td>\n",
              "      <td>18839</td>\n",
              "      <td>200805093CS607</td>\n",
              "      <td>348.58</td>\n",
              "      <td>758.0</td>\n",
              "      <td>6</td>\n",
              "      <td>0.0</td>\n",
              "      <td>4548.0</td>\n",
              "      <td>Adventure Works Laptop15.4W M1548 Red</td>\n",
              "      <td>Adventure Works</td>\n",
              "      <td>Adventure Works</td>\n",
              "      <td>Regular</td>\n",
              "      <td>Red</td>\n",
              "      <td>2091.48</td>\n",
              "    </tr>\n",
              "  </tbody>\n",
              "</table>\n",
              "</div>\n",
              "      <button class=\"colab-df-convert\" onclick=\"convertToInteractive('df-6fb4d487-b0d3-4e0f-bb1c-1a5d476416b4')\"\n",
              "              title=\"Convert this dataframe to an interactive table.\"\n",
              "              style=\"display:none;\">\n",
              "        \n",
              "  <svg xmlns=\"http://www.w3.org/2000/svg\" height=\"24px\"viewBox=\"0 0 24 24\"\n",
              "       width=\"24px\">\n",
              "    <path d=\"M0 0h24v24H0V0z\" fill=\"none\"/>\n",
              "    <path d=\"M18.56 5.44l.94 2.06.94-2.06 2.06-.94-2.06-.94-.94-2.06-.94 2.06-2.06.94zm-11 1L8.5 8.5l.94-2.06 2.06-.94-2.06-.94L8.5 2.5l-.94 2.06-2.06.94zm10 10l.94 2.06.94-2.06 2.06-.94-2.06-.94-.94-2.06-.94 2.06-2.06.94z\"/><path d=\"M17.41 7.96l-1.37-1.37c-.4-.4-.92-.59-1.43-.59-.52 0-1.04.2-1.43.59L10.3 9.45l-7.72 7.72c-.78.78-.78 2.05 0 2.83L4 21.41c.39.39.9.59 1.41.59.51 0 1.02-.2 1.41-.59l7.78-7.78 2.81-2.81c.8-.78.8-2.07 0-2.86zM5.41 20L4 18.59l7.72-7.72 1.47 1.35L5.41 20z\"/>\n",
              "  </svg>\n",
              "      </button>\n",
              "      \n",
              "  <style>\n",
              "    .colab-df-container {\n",
              "      display:flex;\n",
              "      flex-wrap:wrap;\n",
              "      gap: 12px;\n",
              "    }\n",
              "\n",
              "    .colab-df-convert {\n",
              "      background-color: #E8F0FE;\n",
              "      border: none;\n",
              "      border-radius: 50%;\n",
              "      cursor: pointer;\n",
              "      display: none;\n",
              "      fill: #1967D2;\n",
              "      height: 32px;\n",
              "      padding: 0 0 0 0;\n",
              "      width: 32px;\n",
              "    }\n",
              "\n",
              "    .colab-df-convert:hover {\n",
              "      background-color: #E2EBFA;\n",
              "      box-shadow: 0px 1px 2px rgba(60, 64, 67, 0.3), 0px 1px 3px 1px rgba(60, 64, 67, 0.15);\n",
              "      fill: #174EA6;\n",
              "    }\n",
              "\n",
              "    [theme=dark] .colab-df-convert {\n",
              "      background-color: #3B4455;\n",
              "      fill: #D2E3FC;\n",
              "    }\n",
              "\n",
              "    [theme=dark] .colab-df-convert:hover {\n",
              "      background-color: #434B5C;\n",
              "      box-shadow: 0px 1px 3px 1px rgba(0, 0, 0, 0.15);\n",
              "      filter: drop-shadow(0px 1px 2px rgba(0, 0, 0, 0.3));\n",
              "      fill: #FFFFFF;\n",
              "    }\n",
              "  </style>\n",
              "\n",
              "      <script>\n",
              "        const buttonEl =\n",
              "          document.querySelector('#df-6fb4d487-b0d3-4e0f-bb1c-1a5d476416b4 button.colab-df-convert');\n",
              "        buttonEl.style.display =\n",
              "          google.colab.kernel.accessAllowed ? 'block' : 'none';\n",
              "\n",
              "        async function convertToInteractive(key) {\n",
              "          const element = document.querySelector('#df-6fb4d487-b0d3-4e0f-bb1c-1a5d476416b4');\n",
              "          const dataTable =\n",
              "            await google.colab.kernel.invokeFunction('convertToInteractive',\n",
              "                                                     [key], {});\n",
              "          if (!dataTable) return;\n",
              "\n",
              "          const docLinkHtml = 'Like what you see? Visit the ' +\n",
              "            '<a target=\"_blank\" href=https://colab.research.google.com/notebooks/data_table.ipynb>data table notebook</a>'\n",
              "            + ' to learn more about interactive tables.';\n",
              "          element.innerHTML = '';\n",
              "          dataTable['output_type'] = 'display_data';\n",
              "          await google.colab.output.renderOutput(dataTable, element);\n",
              "          const docLink = document.createElement('div');\n",
              "          docLink.innerHTML = docLinkHtml;\n",
              "          element.appendChild(docLink);\n",
              "        }\n",
              "      </script>\n",
              "    </div>\n",
              "  </div>\n",
              "  "
            ]
          },
          "metadata": {},
          "execution_count": 99
        }
      ]
    },
    {
      "cell_type": "code",
      "source": [
        "# Econtrando o custo total:\n",
        "round(df[\"custo\"].sum(), 2)"
      ],
      "metadata": {
        "colab": {
          "base_uri": "https://localhost:8080/"
        },
        "id": "5yqWIawYUmGq",
        "outputId": "935be183-eaab-480a-d90c-ac81e15758c6"
      },
      "execution_count": 100,
      "outputs": [
        {
          "output_type": "execute_result",
          "data": {
            "text/plain": [
              "2486783.05"
            ]
          },
          "metadata": {},
          "execution_count": 100
        }
      ]
    },
    {
      "cell_type": "code",
      "source": [
        "# Agora que temos a receita e custo e o total, podemos achar o Lucro total.\n",
        "# Lucro = Valor da venda - custo\n",
        "df[\"lucro\"]  = df[\"Valor Venda\"] - df[\"custo\"]"
      ],
      "metadata": {
        "id": "_mdWyfG8Uzd2"
      },
      "execution_count": 101,
      "outputs": []
    },
    {
      "cell_type": "code",
      "source": [
        "df.head(1)"
      ],
      "metadata": {
        "colab": {
          "base_uri": "https://localhost:8080/",
          "height": 177
        },
        "id": "_Iv26SfjU6by",
        "outputId": "74e1f44e-9084-46a1-f9bd-f7e7197224fa"
      },
      "execution_count": 102,
      "outputs": [
        {
          "output_type": "execute_result",
          "data": {
            "text/plain": [
              "  Data Venda Data Envio  ID Loja  ID Produto  ID Cliente       No. Venda  \\\n",
              "0 2008-05-09 2008-05-29      199         384       18839  200805093CS607   \n",
              "\n",
              "   Custo Unitário  Preço Unitário  Quantidade  Valor Desconto  Valor Venda  \\\n",
              "0          348.58           758.0           6             0.0       4548.0   \n",
              "\n",
              "                                 Produto       Fabricante            Marca  \\\n",
              "0  Adventure Works Laptop15.4W M1548 Red  Adventure Works  Adventure Works   \n",
              "\n",
              "    Classe  Cor    custo    lucro  \n",
              "0  Regular  Red  2091.48  2456.52  "
            ],
            "text/html": [
              "\n",
              "  <div id=\"df-4d1f3a75-cb2a-4115-a55e-671b90bae086\">\n",
              "    <div class=\"colab-df-container\">\n",
              "      <div>\n",
              "<style scoped>\n",
              "    .dataframe tbody tr th:only-of-type {\n",
              "        vertical-align: middle;\n",
              "    }\n",
              "\n",
              "    .dataframe tbody tr th {\n",
              "        vertical-align: top;\n",
              "    }\n",
              "\n",
              "    .dataframe thead th {\n",
              "        text-align: right;\n",
              "    }\n",
              "</style>\n",
              "<table border=\"1\" class=\"dataframe\">\n",
              "  <thead>\n",
              "    <tr style=\"text-align: right;\">\n",
              "      <th></th>\n",
              "      <th>Data Venda</th>\n",
              "      <th>Data Envio</th>\n",
              "      <th>ID Loja</th>\n",
              "      <th>ID Produto</th>\n",
              "      <th>ID Cliente</th>\n",
              "      <th>No. Venda</th>\n",
              "      <th>Custo Unitário</th>\n",
              "      <th>Preço Unitário</th>\n",
              "      <th>Quantidade</th>\n",
              "      <th>Valor Desconto</th>\n",
              "      <th>Valor Venda</th>\n",
              "      <th>Produto</th>\n",
              "      <th>Fabricante</th>\n",
              "      <th>Marca</th>\n",
              "      <th>Classe</th>\n",
              "      <th>Cor</th>\n",
              "      <th>custo</th>\n",
              "      <th>lucro</th>\n",
              "    </tr>\n",
              "  </thead>\n",
              "  <tbody>\n",
              "    <tr>\n",
              "      <th>0</th>\n",
              "      <td>2008-05-09</td>\n",
              "      <td>2008-05-29</td>\n",
              "      <td>199</td>\n",
              "      <td>384</td>\n",
              "      <td>18839</td>\n",
              "      <td>200805093CS607</td>\n",
              "      <td>348.58</td>\n",
              "      <td>758.0</td>\n",
              "      <td>6</td>\n",
              "      <td>0.0</td>\n",
              "      <td>4548.0</td>\n",
              "      <td>Adventure Works Laptop15.4W M1548 Red</td>\n",
              "      <td>Adventure Works</td>\n",
              "      <td>Adventure Works</td>\n",
              "      <td>Regular</td>\n",
              "      <td>Red</td>\n",
              "      <td>2091.48</td>\n",
              "      <td>2456.52</td>\n",
              "    </tr>\n",
              "  </tbody>\n",
              "</table>\n",
              "</div>\n",
              "      <button class=\"colab-df-convert\" onclick=\"convertToInteractive('df-4d1f3a75-cb2a-4115-a55e-671b90bae086')\"\n",
              "              title=\"Convert this dataframe to an interactive table.\"\n",
              "              style=\"display:none;\">\n",
              "        \n",
              "  <svg xmlns=\"http://www.w3.org/2000/svg\" height=\"24px\"viewBox=\"0 0 24 24\"\n",
              "       width=\"24px\">\n",
              "    <path d=\"M0 0h24v24H0V0z\" fill=\"none\"/>\n",
              "    <path d=\"M18.56 5.44l.94 2.06.94-2.06 2.06-.94-2.06-.94-.94-2.06-.94 2.06-2.06.94zm-11 1L8.5 8.5l.94-2.06 2.06-.94-2.06-.94L8.5 2.5l-.94 2.06-2.06.94zm10 10l.94 2.06.94-2.06 2.06-.94-2.06-.94-.94-2.06-.94 2.06-2.06.94z\"/><path d=\"M17.41 7.96l-1.37-1.37c-.4-.4-.92-.59-1.43-.59-.52 0-1.04.2-1.43.59L10.3 9.45l-7.72 7.72c-.78.78-.78 2.05 0 2.83L4 21.41c.39.39.9.59 1.41.59.51 0 1.02-.2 1.41-.59l7.78-7.78 2.81-2.81c.8-.78.8-2.07 0-2.86zM5.41 20L4 18.59l7.72-7.72 1.47 1.35L5.41 20z\"/>\n",
              "  </svg>\n",
              "      </button>\n",
              "      \n",
              "  <style>\n",
              "    .colab-df-container {\n",
              "      display:flex;\n",
              "      flex-wrap:wrap;\n",
              "      gap: 12px;\n",
              "    }\n",
              "\n",
              "    .colab-df-convert {\n",
              "      background-color: #E8F0FE;\n",
              "      border: none;\n",
              "      border-radius: 50%;\n",
              "      cursor: pointer;\n",
              "      display: none;\n",
              "      fill: #1967D2;\n",
              "      height: 32px;\n",
              "      padding: 0 0 0 0;\n",
              "      width: 32px;\n",
              "    }\n",
              "\n",
              "    .colab-df-convert:hover {\n",
              "      background-color: #E2EBFA;\n",
              "      box-shadow: 0px 1px 2px rgba(60, 64, 67, 0.3), 0px 1px 3px 1px rgba(60, 64, 67, 0.15);\n",
              "      fill: #174EA6;\n",
              "    }\n",
              "\n",
              "    [theme=dark] .colab-df-convert {\n",
              "      background-color: #3B4455;\n",
              "      fill: #D2E3FC;\n",
              "    }\n",
              "\n",
              "    [theme=dark] .colab-df-convert:hover {\n",
              "      background-color: #434B5C;\n",
              "      box-shadow: 0px 1px 3px 1px rgba(0, 0, 0, 0.15);\n",
              "      filter: drop-shadow(0px 1px 2px rgba(0, 0, 0, 0.3));\n",
              "      fill: #FFFFFF;\n",
              "    }\n",
              "  </style>\n",
              "\n",
              "      <script>\n",
              "        const buttonEl =\n",
              "          document.querySelector('#df-4d1f3a75-cb2a-4115-a55e-671b90bae086 button.colab-df-convert');\n",
              "        buttonEl.style.display =\n",
              "          google.colab.kernel.accessAllowed ? 'block' : 'none';\n",
              "\n",
              "        async function convertToInteractive(key) {\n",
              "          const element = document.querySelector('#df-4d1f3a75-cb2a-4115-a55e-671b90bae086');\n",
              "          const dataTable =\n",
              "            await google.colab.kernel.invokeFunction('convertToInteractive',\n",
              "                                                     [key], {});\n",
              "          if (!dataTable) return;\n",
              "\n",
              "          const docLinkHtml = 'Like what you see? Visit the ' +\n",
              "            '<a target=\"_blank\" href=https://colab.research.google.com/notebooks/data_table.ipynb>data table notebook</a>'\n",
              "            + ' to learn more about interactive tables.';\n",
              "          element.innerHTML = '';\n",
              "          dataTable['output_type'] = 'display_data';\n",
              "          await google.colab.output.renderOutput(dataTable, element);\n",
              "          const docLink = document.createElement('div');\n",
              "          docLink.innerHTML = docLinkHtml;\n",
              "          element.appendChild(docLink);\n",
              "        }\n",
              "      </script>\n",
              "    </div>\n",
              "  </div>\n",
              "  "
            ]
          },
          "metadata": {},
          "execution_count": 102
        }
      ]
    },
    {
      "cell_type": "code",
      "source": [
        "# Lucro total:\n",
        "round(df[\"lucro\"].sum(),2)"
      ],
      "metadata": {
        "colab": {
          "base_uri": "https://localhost:8080/"
        },
        "id": "nLXumoitU77l",
        "outputId": "04ffd9d9-8626-4046-a9be-97af6b7a6e1b"
      },
      "execution_count": 103,
      "outputs": [
        {
          "output_type": "execute_result",
          "data": {
            "text/plain": [
              "3497823.09"
            ]
          },
          "metadata": {},
          "execution_count": 103
        }
      ]
    },
    {
      "cell_type": "code",
      "source": [
        "# Criando uma coluna com total de dias para enviar o produto:\n",
        "df[\"Tempo_envio\"] = df[\"Data Envio\"] - df[\"Data Venda\"]"
      ],
      "metadata": {
        "id": "nqA1ZmrMVCCx"
      },
      "execution_count": 104,
      "outputs": []
    },
    {
      "cell_type": "code",
      "source": [
        "df.head(1)"
      ],
      "metadata": {
        "id": "aI7dZ7fzVJtW",
        "outputId": "d5048264-7206-4b19-e4a9-ed413dee8c5e",
        "colab": {
          "base_uri": "https://localhost:8080/",
          "height": 194
        }
      },
      "execution_count": 105,
      "outputs": [
        {
          "output_type": "execute_result",
          "data": {
            "text/plain": [
              "  Data Venda Data Envio  ID Loja  ID Produto  ID Cliente       No. Venda  \\\n",
              "0 2008-05-09 2008-05-29      199         384       18839  200805093CS607   \n",
              "\n",
              "   Custo Unitário  Preço Unitário  Quantidade  Valor Desconto  Valor Venda  \\\n",
              "0          348.58           758.0           6             0.0       4548.0   \n",
              "\n",
              "                                 Produto       Fabricante            Marca  \\\n",
              "0  Adventure Works Laptop15.4W M1548 Red  Adventure Works  Adventure Works   \n",
              "\n",
              "    Classe  Cor    custo    lucro Tempo_envio  \n",
              "0  Regular  Red  2091.48  2456.52     20 days  "
            ],
            "text/html": [
              "\n",
              "  <div id=\"df-e0369380-94a2-4310-931f-aaa60a07291f\">\n",
              "    <div class=\"colab-df-container\">\n",
              "      <div>\n",
              "<style scoped>\n",
              "    .dataframe tbody tr th:only-of-type {\n",
              "        vertical-align: middle;\n",
              "    }\n",
              "\n",
              "    .dataframe tbody tr th {\n",
              "        vertical-align: top;\n",
              "    }\n",
              "\n",
              "    .dataframe thead th {\n",
              "        text-align: right;\n",
              "    }\n",
              "</style>\n",
              "<table border=\"1\" class=\"dataframe\">\n",
              "  <thead>\n",
              "    <tr style=\"text-align: right;\">\n",
              "      <th></th>\n",
              "      <th>Data Venda</th>\n",
              "      <th>Data Envio</th>\n",
              "      <th>ID Loja</th>\n",
              "      <th>ID Produto</th>\n",
              "      <th>ID Cliente</th>\n",
              "      <th>No. Venda</th>\n",
              "      <th>Custo Unitário</th>\n",
              "      <th>Preço Unitário</th>\n",
              "      <th>Quantidade</th>\n",
              "      <th>Valor Desconto</th>\n",
              "      <th>Valor Venda</th>\n",
              "      <th>Produto</th>\n",
              "      <th>Fabricante</th>\n",
              "      <th>Marca</th>\n",
              "      <th>Classe</th>\n",
              "      <th>Cor</th>\n",
              "      <th>custo</th>\n",
              "      <th>lucro</th>\n",
              "      <th>Tempo_envio</th>\n",
              "    </tr>\n",
              "  </thead>\n",
              "  <tbody>\n",
              "    <tr>\n",
              "      <th>0</th>\n",
              "      <td>2008-05-09</td>\n",
              "      <td>2008-05-29</td>\n",
              "      <td>199</td>\n",
              "      <td>384</td>\n",
              "      <td>18839</td>\n",
              "      <td>200805093CS607</td>\n",
              "      <td>348.58</td>\n",
              "      <td>758.0</td>\n",
              "      <td>6</td>\n",
              "      <td>0.0</td>\n",
              "      <td>4548.0</td>\n",
              "      <td>Adventure Works Laptop15.4W M1548 Red</td>\n",
              "      <td>Adventure Works</td>\n",
              "      <td>Adventure Works</td>\n",
              "      <td>Regular</td>\n",
              "      <td>Red</td>\n",
              "      <td>2091.48</td>\n",
              "      <td>2456.52</td>\n",
              "      <td>20 days</td>\n",
              "    </tr>\n",
              "  </tbody>\n",
              "</table>\n",
              "</div>\n",
              "      <button class=\"colab-df-convert\" onclick=\"convertToInteractive('df-e0369380-94a2-4310-931f-aaa60a07291f')\"\n",
              "              title=\"Convert this dataframe to an interactive table.\"\n",
              "              style=\"display:none;\">\n",
              "        \n",
              "  <svg xmlns=\"http://www.w3.org/2000/svg\" height=\"24px\"viewBox=\"0 0 24 24\"\n",
              "       width=\"24px\">\n",
              "    <path d=\"M0 0h24v24H0V0z\" fill=\"none\"/>\n",
              "    <path d=\"M18.56 5.44l.94 2.06.94-2.06 2.06-.94-2.06-.94-.94-2.06-.94 2.06-2.06.94zm-11 1L8.5 8.5l.94-2.06 2.06-.94-2.06-.94L8.5 2.5l-.94 2.06-2.06.94zm10 10l.94 2.06.94-2.06 2.06-.94-2.06-.94-.94-2.06-.94 2.06-2.06.94z\"/><path d=\"M17.41 7.96l-1.37-1.37c-.4-.4-.92-.59-1.43-.59-.52 0-1.04.2-1.43.59L10.3 9.45l-7.72 7.72c-.78.78-.78 2.05 0 2.83L4 21.41c.39.39.9.59 1.41.59.51 0 1.02-.2 1.41-.59l7.78-7.78 2.81-2.81c.8-.78.8-2.07 0-2.86zM5.41 20L4 18.59l7.72-7.72 1.47 1.35L5.41 20z\"/>\n",
              "  </svg>\n",
              "      </button>\n",
              "      \n",
              "  <style>\n",
              "    .colab-df-container {\n",
              "      display:flex;\n",
              "      flex-wrap:wrap;\n",
              "      gap: 12px;\n",
              "    }\n",
              "\n",
              "    .colab-df-convert {\n",
              "      background-color: #E8F0FE;\n",
              "      border: none;\n",
              "      border-radius: 50%;\n",
              "      cursor: pointer;\n",
              "      display: none;\n",
              "      fill: #1967D2;\n",
              "      height: 32px;\n",
              "      padding: 0 0 0 0;\n",
              "      width: 32px;\n",
              "    }\n",
              "\n",
              "    .colab-df-convert:hover {\n",
              "      background-color: #E2EBFA;\n",
              "      box-shadow: 0px 1px 2px rgba(60, 64, 67, 0.3), 0px 1px 3px 1px rgba(60, 64, 67, 0.15);\n",
              "      fill: #174EA6;\n",
              "    }\n",
              "\n",
              "    [theme=dark] .colab-df-convert {\n",
              "      background-color: #3B4455;\n",
              "      fill: #D2E3FC;\n",
              "    }\n",
              "\n",
              "    [theme=dark] .colab-df-convert:hover {\n",
              "      background-color: #434B5C;\n",
              "      box-shadow: 0px 1px 3px 1px rgba(0, 0, 0, 0.15);\n",
              "      filter: drop-shadow(0px 1px 2px rgba(0, 0, 0, 0.3));\n",
              "      fill: #FFFFFF;\n",
              "    }\n",
              "  </style>\n",
              "\n",
              "      <script>\n",
              "        const buttonEl =\n",
              "          document.querySelector('#df-e0369380-94a2-4310-931f-aaa60a07291f button.colab-df-convert');\n",
              "        buttonEl.style.display =\n",
              "          google.colab.kernel.accessAllowed ? 'block' : 'none';\n",
              "\n",
              "        async function convertToInteractive(key) {\n",
              "          const element = document.querySelector('#df-e0369380-94a2-4310-931f-aaa60a07291f');\n",
              "          const dataTable =\n",
              "            await google.colab.kernel.invokeFunction('convertToInteractive',\n",
              "                                                     [key], {});\n",
              "          if (!dataTable) return;\n",
              "\n",
              "          const docLinkHtml = 'Like what you see? Visit the ' +\n",
              "            '<a target=\"_blank\" href=https://colab.research.google.com/notebooks/data_table.ipynb>data table notebook</a>'\n",
              "            + ' to learn more about interactive tables.';\n",
              "          element.innerHTML = '';\n",
              "          dataTable['output_type'] = 'display_data';\n",
              "          await google.colab.output.renderOutput(dataTable, element);\n",
              "          const docLink = document.createElement('div');\n",
              "          docLink.innerHTML = docLinkHtml;\n",
              "          element.appendChild(docLink);\n",
              "        }\n",
              "      </script>\n",
              "    </div>\n",
              "  </div>\n",
              "  "
            ]
          },
          "metadata": {},
          "execution_count": 105
        }
      ]
    },
    {
      "cell_type": "code",
      "source": [
        "# Agora, vamos saber a média do tempo de envio para cada Marca.\n",
        "# Vamos transformar a coluna Tempo_envio em numérica:\n",
        "df[\"Tempo_envio\"] = (df[\"Data Envio\"] - df[\"Data Venda\"]).dt.days"
      ],
      "metadata": {
        "id": "gOf50YzaVLA7"
      },
      "execution_count": 106,
      "outputs": []
    },
    {
      "cell_type": "code",
      "source": [
        "df.head(1)"
      ],
      "metadata": {
        "colab": {
          "base_uri": "https://localhost:8080/",
          "height": 194
        },
        "id": "xOcXXXO34yQq",
        "outputId": "5e110879-e9b7-41af-c669-24f1f6e71cfd"
      },
      "execution_count": 107,
      "outputs": [
        {
          "output_type": "execute_result",
          "data": {
            "text/plain": [
              "  Data Venda Data Envio  ID Loja  ID Produto  ID Cliente       No. Venda  \\\n",
              "0 2008-05-09 2008-05-29      199         384       18839  200805093CS607   \n",
              "\n",
              "   Custo Unitário  Preço Unitário  Quantidade  Valor Desconto  Valor Venda  \\\n",
              "0          348.58           758.0           6             0.0       4548.0   \n",
              "\n",
              "                                 Produto       Fabricante            Marca  \\\n",
              "0  Adventure Works Laptop15.4W M1548 Red  Adventure Works  Adventure Works   \n",
              "\n",
              "    Classe  Cor    custo    lucro  Tempo_envio  \n",
              "0  Regular  Red  2091.48  2456.52           20  "
            ],
            "text/html": [
              "\n",
              "  <div id=\"df-71c375dd-14aa-4629-9740-a8f7b74b22f8\">\n",
              "    <div class=\"colab-df-container\">\n",
              "      <div>\n",
              "<style scoped>\n",
              "    .dataframe tbody tr th:only-of-type {\n",
              "        vertical-align: middle;\n",
              "    }\n",
              "\n",
              "    .dataframe tbody tr th {\n",
              "        vertical-align: top;\n",
              "    }\n",
              "\n",
              "    .dataframe thead th {\n",
              "        text-align: right;\n",
              "    }\n",
              "</style>\n",
              "<table border=\"1\" class=\"dataframe\">\n",
              "  <thead>\n",
              "    <tr style=\"text-align: right;\">\n",
              "      <th></th>\n",
              "      <th>Data Venda</th>\n",
              "      <th>Data Envio</th>\n",
              "      <th>ID Loja</th>\n",
              "      <th>ID Produto</th>\n",
              "      <th>ID Cliente</th>\n",
              "      <th>No. Venda</th>\n",
              "      <th>Custo Unitário</th>\n",
              "      <th>Preço Unitário</th>\n",
              "      <th>Quantidade</th>\n",
              "      <th>Valor Desconto</th>\n",
              "      <th>Valor Venda</th>\n",
              "      <th>Produto</th>\n",
              "      <th>Fabricante</th>\n",
              "      <th>Marca</th>\n",
              "      <th>Classe</th>\n",
              "      <th>Cor</th>\n",
              "      <th>custo</th>\n",
              "      <th>lucro</th>\n",
              "      <th>Tempo_envio</th>\n",
              "    </tr>\n",
              "  </thead>\n",
              "  <tbody>\n",
              "    <tr>\n",
              "      <th>0</th>\n",
              "      <td>2008-05-09</td>\n",
              "      <td>2008-05-29</td>\n",
              "      <td>199</td>\n",
              "      <td>384</td>\n",
              "      <td>18839</td>\n",
              "      <td>200805093CS607</td>\n",
              "      <td>348.58</td>\n",
              "      <td>758.0</td>\n",
              "      <td>6</td>\n",
              "      <td>0.0</td>\n",
              "      <td>4548.0</td>\n",
              "      <td>Adventure Works Laptop15.4W M1548 Red</td>\n",
              "      <td>Adventure Works</td>\n",
              "      <td>Adventure Works</td>\n",
              "      <td>Regular</td>\n",
              "      <td>Red</td>\n",
              "      <td>2091.48</td>\n",
              "      <td>2456.52</td>\n",
              "      <td>20</td>\n",
              "    </tr>\n",
              "  </tbody>\n",
              "</table>\n",
              "</div>\n",
              "      <button class=\"colab-df-convert\" onclick=\"convertToInteractive('df-71c375dd-14aa-4629-9740-a8f7b74b22f8')\"\n",
              "              title=\"Convert this dataframe to an interactive table.\"\n",
              "              style=\"display:none;\">\n",
              "        \n",
              "  <svg xmlns=\"http://www.w3.org/2000/svg\" height=\"24px\"viewBox=\"0 0 24 24\"\n",
              "       width=\"24px\">\n",
              "    <path d=\"M0 0h24v24H0V0z\" fill=\"none\"/>\n",
              "    <path d=\"M18.56 5.44l.94 2.06.94-2.06 2.06-.94-2.06-.94-.94-2.06-.94 2.06-2.06.94zm-11 1L8.5 8.5l.94-2.06 2.06-.94-2.06-.94L8.5 2.5l-.94 2.06-2.06.94zm10 10l.94 2.06.94-2.06 2.06-.94-2.06-.94-.94-2.06-.94 2.06-2.06.94z\"/><path d=\"M17.41 7.96l-1.37-1.37c-.4-.4-.92-.59-1.43-.59-.52 0-1.04.2-1.43.59L10.3 9.45l-7.72 7.72c-.78.78-.78 2.05 0 2.83L4 21.41c.39.39.9.59 1.41.59.51 0 1.02-.2 1.41-.59l7.78-7.78 2.81-2.81c.8-.78.8-2.07 0-2.86zM5.41 20L4 18.59l7.72-7.72 1.47 1.35L5.41 20z\"/>\n",
              "  </svg>\n",
              "      </button>\n",
              "      \n",
              "  <style>\n",
              "    .colab-df-container {\n",
              "      display:flex;\n",
              "      flex-wrap:wrap;\n",
              "      gap: 12px;\n",
              "    }\n",
              "\n",
              "    .colab-df-convert {\n",
              "      background-color: #E8F0FE;\n",
              "      border: none;\n",
              "      border-radius: 50%;\n",
              "      cursor: pointer;\n",
              "      display: none;\n",
              "      fill: #1967D2;\n",
              "      height: 32px;\n",
              "      padding: 0 0 0 0;\n",
              "      width: 32px;\n",
              "    }\n",
              "\n",
              "    .colab-df-convert:hover {\n",
              "      background-color: #E2EBFA;\n",
              "      box-shadow: 0px 1px 2px rgba(60, 64, 67, 0.3), 0px 1px 3px 1px rgba(60, 64, 67, 0.15);\n",
              "      fill: #174EA6;\n",
              "    }\n",
              "\n",
              "    [theme=dark] .colab-df-convert {\n",
              "      background-color: #3B4455;\n",
              "      fill: #D2E3FC;\n",
              "    }\n",
              "\n",
              "    [theme=dark] .colab-df-convert:hover {\n",
              "      background-color: #434B5C;\n",
              "      box-shadow: 0px 1px 3px 1px rgba(0, 0, 0, 0.15);\n",
              "      filter: drop-shadow(0px 1px 2px rgba(0, 0, 0, 0.3));\n",
              "      fill: #FFFFFF;\n",
              "    }\n",
              "  </style>\n",
              "\n",
              "      <script>\n",
              "        const buttonEl =\n",
              "          document.querySelector('#df-71c375dd-14aa-4629-9740-a8f7b74b22f8 button.colab-df-convert');\n",
              "        buttonEl.style.display =\n",
              "          google.colab.kernel.accessAllowed ? 'block' : 'none';\n",
              "\n",
              "        async function convertToInteractive(key) {\n",
              "          const element = document.querySelector('#df-71c375dd-14aa-4629-9740-a8f7b74b22f8');\n",
              "          const dataTable =\n",
              "            await google.colab.kernel.invokeFunction('convertToInteractive',\n",
              "                                                     [key], {});\n",
              "          if (!dataTable) return;\n",
              "\n",
              "          const docLinkHtml = 'Like what you see? Visit the ' +\n",
              "            '<a target=\"_blank\" href=https://colab.research.google.com/notebooks/data_table.ipynb>data table notebook</a>'\n",
              "            + ' to learn more about interactive tables.';\n",
              "          element.innerHTML = '';\n",
              "          dataTable['output_type'] = 'display_data';\n",
              "          await google.colab.output.renderOutput(dataTable, element);\n",
              "          const docLink = document.createElement('div');\n",
              "          docLink.innerHTML = docLinkHtml;\n",
              "          element.appendChild(docLink);\n",
              "        }\n",
              "      </script>\n",
              "    </div>\n",
              "  </div>\n",
              "  "
            ]
          },
          "metadata": {},
          "execution_count": 107
        }
      ]
    },
    {
      "cell_type": "code",
      "source": [
        "# Média de envio por marca:\n",
        "df.groupby(\"Marca\")[\"Tempo_envio\"].mean()"
      ],
      "metadata": {
        "colab": {
          "base_uri": "https://localhost:8080/"
        },
        "id": "7ikA3hXa44ms",
        "outputId": "666a4834-d545-4b1b-dabd-f5c9c5ba9205"
      },
      "execution_count": 108,
      "outputs": [
        {
          "output_type": "execute_result",
          "data": {
            "text/plain": [
              "Marca\n",
              "Adventure Works    8.663866\n",
              "Contoso            8.470930\n",
              "Fabrikam           8.510121\n",
              "Name: Tempo_envio, dtype: float64"
            ]
          },
          "metadata": {},
          "execution_count": 108
        }
      ]
    },
    {
      "cell_type": "markdown",
      "source": [
        "###**Missing Values (Valores faltantes)**"
      ],
      "metadata": {
        "id": "fWnnCzkM5Dm0"
      }
    },
    {
      "cell_type": "code",
      "source": [
        "# Verificar se existem dados faltantes:\n",
        "df.isnull().sum()"
      ],
      "metadata": {
        "colab": {
          "base_uri": "https://localhost:8080/"
        },
        "id": "oFjgNIEk5NGI",
        "outputId": "f5e19139-7e87-495c-fc61-1afba6853381"
      },
      "execution_count": 109,
      "outputs": [
        {
          "output_type": "execute_result",
          "data": {
            "text/plain": [
              "Data Venda        0\n",
              "Data Envio        0\n",
              "ID Loja           0\n",
              "ID Produto        0\n",
              "ID Cliente        0\n",
              "No. Venda         0\n",
              "Custo Unitário    0\n",
              "Preço Unitário    0\n",
              "Quantidade        0\n",
              "Valor Desconto    0\n",
              "Valor Venda       0\n",
              "Produto           0\n",
              "Fabricante        0\n",
              "Marca             0\n",
              "Classe            0\n",
              "Cor               0\n",
              "custo             0\n",
              "lucro             0\n",
              "Tempo_envio       0\n",
              "dtype: int64"
            ]
          },
          "metadata": {},
          "execution_count": 109
        }
      ]
    },
    {
      "cell_type": "code",
      "source": [
        "# Agora vamos saber o Lucro por ano e por marca:\n",
        "df.groupby([df[\"Data Venda\"].dt.year, \"Marca\"])[\"lucro\"].sum()"
      ],
      "metadata": {
        "colab": {
          "base_uri": "https://localhost:8080/"
        },
        "id": "ITuJE3Xl5TCl",
        "outputId": "58d7b0d1-5842-4308-aa47-7252aacd1213"
      },
      "execution_count": 110,
      "outputs": [
        {
          "output_type": "execute_result",
          "data": {
            "text/plain": [
              "Data Venda  Marca          \n",
              "2008        Adventure Works    3.066412e+05\n",
              "            Contoso            5.641600e+04\n",
              "            Fabrikam           1.557021e+06\n",
              "2009        Adventure Works    4.053951e+05\n",
              "            Contoso            1.382590e+05\n",
              "            Fabrikam           1.034091e+06\n",
              "Name: lucro, dtype: float64"
            ]
          },
          "metadata": {},
          "execution_count": 110
        }
      ]
    },
    {
      "cell_type": "code",
      "source": [
        "# Formartar a exibição do tipo float:\n",
        "pd.options.display.float_format = '{:20,.2f}'.format"
      ],
      "metadata": {
        "id": "TBG1QRHC5mqM"
      },
      "execution_count": 112,
      "outputs": []
    },
    {
      "cell_type": "code",
      "source": [
        "# Resetando o index:\n",
        "lucro_ano = df.groupby([df[\"Data Venda\"].dt.year, \"Marca\"])[\"lucro\"].sum().reset_index()\n",
        "lucro_ano"
      ],
      "metadata": {
        "colab": {
          "base_uri": "https://localhost:8080/",
          "height": 237
        },
        "id": "MVIH8sZ05rJW",
        "outputId": "6e31a447-af3d-42c0-c99e-978a22576d89"
      },
      "execution_count": 113,
      "outputs": [
        {
          "output_type": "execute_result",
          "data": {
            "text/plain": [
              "   Data Venda            Marca                lucro\n",
              "0        2008  Adventure Works           306,641.16\n",
              "1        2008          Contoso            56,416.00\n",
              "2        2008         Fabrikam         1,557,020.55\n",
              "3        2009  Adventure Works           405,395.08\n",
              "4        2009          Contoso           138,258.95\n",
              "5        2009         Fabrikam         1,034,091.35"
            ],
            "text/html": [
              "\n",
              "  <div id=\"df-32958d5b-c724-4216-9cf2-57c23ef36720\">\n",
              "    <div class=\"colab-df-container\">\n",
              "      <div>\n",
              "<style scoped>\n",
              "    .dataframe tbody tr th:only-of-type {\n",
              "        vertical-align: middle;\n",
              "    }\n",
              "\n",
              "    .dataframe tbody tr th {\n",
              "        vertical-align: top;\n",
              "    }\n",
              "\n",
              "    .dataframe thead th {\n",
              "        text-align: right;\n",
              "    }\n",
              "</style>\n",
              "<table border=\"1\" class=\"dataframe\">\n",
              "  <thead>\n",
              "    <tr style=\"text-align: right;\">\n",
              "      <th></th>\n",
              "      <th>Data Venda</th>\n",
              "      <th>Marca</th>\n",
              "      <th>lucro</th>\n",
              "    </tr>\n",
              "  </thead>\n",
              "  <tbody>\n",
              "    <tr>\n",
              "      <th>0</th>\n",
              "      <td>2008</td>\n",
              "      <td>Adventure Works</td>\n",
              "      <td>306,641.16</td>\n",
              "    </tr>\n",
              "    <tr>\n",
              "      <th>1</th>\n",
              "      <td>2008</td>\n",
              "      <td>Contoso</td>\n",
              "      <td>56,416.00</td>\n",
              "    </tr>\n",
              "    <tr>\n",
              "      <th>2</th>\n",
              "      <td>2008</td>\n",
              "      <td>Fabrikam</td>\n",
              "      <td>1,557,020.55</td>\n",
              "    </tr>\n",
              "    <tr>\n",
              "      <th>3</th>\n",
              "      <td>2009</td>\n",
              "      <td>Adventure Works</td>\n",
              "      <td>405,395.08</td>\n",
              "    </tr>\n",
              "    <tr>\n",
              "      <th>4</th>\n",
              "      <td>2009</td>\n",
              "      <td>Contoso</td>\n",
              "      <td>138,258.95</td>\n",
              "    </tr>\n",
              "    <tr>\n",
              "      <th>5</th>\n",
              "      <td>2009</td>\n",
              "      <td>Fabrikam</td>\n",
              "      <td>1,034,091.35</td>\n",
              "    </tr>\n",
              "  </tbody>\n",
              "</table>\n",
              "</div>\n",
              "      <button class=\"colab-df-convert\" onclick=\"convertToInteractive('df-32958d5b-c724-4216-9cf2-57c23ef36720')\"\n",
              "              title=\"Convert this dataframe to an interactive table.\"\n",
              "              style=\"display:none;\">\n",
              "        \n",
              "  <svg xmlns=\"http://www.w3.org/2000/svg\" height=\"24px\"viewBox=\"0 0 24 24\"\n",
              "       width=\"24px\">\n",
              "    <path d=\"M0 0h24v24H0V0z\" fill=\"none\"/>\n",
              "    <path d=\"M18.56 5.44l.94 2.06.94-2.06 2.06-.94-2.06-.94-.94-2.06-.94 2.06-2.06.94zm-11 1L8.5 8.5l.94-2.06 2.06-.94-2.06-.94L8.5 2.5l-.94 2.06-2.06.94zm10 10l.94 2.06.94-2.06 2.06-.94-2.06-.94-.94-2.06-.94 2.06-2.06.94z\"/><path d=\"M17.41 7.96l-1.37-1.37c-.4-.4-.92-.59-1.43-.59-.52 0-1.04.2-1.43.59L10.3 9.45l-7.72 7.72c-.78.78-.78 2.05 0 2.83L4 21.41c.39.39.9.59 1.41.59.51 0 1.02-.2 1.41-.59l7.78-7.78 2.81-2.81c.8-.78.8-2.07 0-2.86zM5.41 20L4 18.59l7.72-7.72 1.47 1.35L5.41 20z\"/>\n",
              "  </svg>\n",
              "      </button>\n",
              "      \n",
              "  <style>\n",
              "    .colab-df-container {\n",
              "      display:flex;\n",
              "      flex-wrap:wrap;\n",
              "      gap: 12px;\n",
              "    }\n",
              "\n",
              "    .colab-df-convert {\n",
              "      background-color: #E8F0FE;\n",
              "      border: none;\n",
              "      border-radius: 50%;\n",
              "      cursor: pointer;\n",
              "      display: none;\n",
              "      fill: #1967D2;\n",
              "      height: 32px;\n",
              "      padding: 0 0 0 0;\n",
              "      width: 32px;\n",
              "    }\n",
              "\n",
              "    .colab-df-convert:hover {\n",
              "      background-color: #E2EBFA;\n",
              "      box-shadow: 0px 1px 2px rgba(60, 64, 67, 0.3), 0px 1px 3px 1px rgba(60, 64, 67, 0.15);\n",
              "      fill: #174EA6;\n",
              "    }\n",
              "\n",
              "    [theme=dark] .colab-df-convert {\n",
              "      background-color: #3B4455;\n",
              "      fill: #D2E3FC;\n",
              "    }\n",
              "\n",
              "    [theme=dark] .colab-df-convert:hover {\n",
              "      background-color: #434B5C;\n",
              "      box-shadow: 0px 1px 3px 1px rgba(0, 0, 0, 0.15);\n",
              "      filter: drop-shadow(0px 1px 2px rgba(0, 0, 0, 0.3));\n",
              "      fill: #FFFFFF;\n",
              "    }\n",
              "  </style>\n",
              "\n",
              "      <script>\n",
              "        const buttonEl =\n",
              "          document.querySelector('#df-32958d5b-c724-4216-9cf2-57c23ef36720 button.colab-df-convert');\n",
              "        buttonEl.style.display =\n",
              "          google.colab.kernel.accessAllowed ? 'block' : 'none';\n",
              "\n",
              "        async function convertToInteractive(key) {\n",
              "          const element = document.querySelector('#df-32958d5b-c724-4216-9cf2-57c23ef36720');\n",
              "          const dataTable =\n",
              "            await google.colab.kernel.invokeFunction('convertToInteractive',\n",
              "                                                     [key], {});\n",
              "          if (!dataTable) return;\n",
              "\n",
              "          const docLinkHtml = 'Like what you see? Visit the ' +\n",
              "            '<a target=\"_blank\" href=https://colab.research.google.com/notebooks/data_table.ipynb>data table notebook</a>'\n",
              "            + ' to learn more about interactive tables.';\n",
              "          element.innerHTML = '';\n",
              "          dataTable['output_type'] = 'display_data';\n",
              "          await google.colab.output.renderOutput(dataTable, element);\n",
              "          const docLink = document.createElement('div');\n",
              "          docLink.innerHTML = docLinkHtml;\n",
              "          element.appendChild(docLink);\n",
              "        }\n",
              "      </script>\n",
              "    </div>\n",
              "  </div>\n",
              "  "
            ]
          },
          "metadata": {},
          "execution_count": 113
        }
      ]
    },
    {
      "cell_type": "code",
      "source": [
        "# Gráfico Total de produtos vendidos:\n",
        "df.groupby(\"Produto\")[\"Quantidade\"].sum().sort_values(ascending=True).plot.barh(title=\"Total Produtos Vendidos\", color=\"purple\")\n",
        "plt.xlabel(\"Total\")\n",
        "plt.ylabel(\"Produto\");"
      ],
      "metadata": {
        "colab": {
          "base_uri": "https://localhost:8080/",
          "height": 376
        },
        "id": "NZXeV3a353dQ",
        "outputId": "b46945fe-5ae2-41d7-8478-a8378ef129bd"
      },
      "execution_count": 117,
      "outputs": [
        {
          "output_type": "display_data",
          "data": {
            "text/plain": [
              "<Figure size 576x396 with 1 Axes>"
            ],
            "image/png": "[encoded data removed]"
          },
          "metadata": {}
        }
      ]
    },
    {
      "cell_type": "code",
      "source": [
        "# Gráfico do lucro pelo ano:\n",
        "df.groupby(df[\"Data Venda\"].dt.year)[\"lucro\"].sum().plot.bar(title=\"Lucro x Ano\", color=\"purple\")\n",
        "plt.xlabel(\"Ano\")\n",
        "plt.ylabel(\"Receita\");"
      ],
      "metadata": {
        "colab": {
          "base_uri": "https://localhost:8080/",
          "height": 388
        },
        "id": "uxXLheqw6DSM",
        "outputId": "71f34be1-f278-4228-c4d0-3dc58d7814b9"
      },
      "execution_count": 118,
      "outputs": [
        {
          "output_type": "display_data",
          "data": {
            "text/plain": [
              "<Figure size 576x396 with 1 Axes>"
            ],
            "image/png": "[encoded data removed]"
          },
          "metadata": {}
        }
      ]
    },
    {
      "cell_type": "code",
      "source": [
        "# Lucro por ano:\n",
        "df.groupby(df[\"Data Venda\"].dt.year)[\"lucro\"].sum()"
      ],
      "metadata": {
        "colab": {
          "base_uri": "https://localhost:8080/"
        },
        "id": "Y4ITSJMO6S50",
        "outputId": "d43d6b5f-464e-443f-c499-fc4446e75bb7"
      },
      "execution_count": 119,
      "outputs": [
        {
          "output_type": "execute_result",
          "data": {
            "text/plain": [
              "Data Venda\n",
              "2008           1,920,077.71\n",
              "2009           1,577,745.38\n",
              "Name: lucro, dtype: float64"
            ]
          },
          "metadata": {},
          "execution_count": 119
        }
      ]
    },
    {
      "cell_type": "code",
      "source": [
        "# Selecionando apenas as vendas de 2009:\n",
        "df_2009 = df[df[\"Data Venda\"].dt.year == 2009]"
      ],
      "metadata": {
        "id": "3AiSZcKk6gJ5"
      },
      "execution_count": 120,
      "outputs": []
    },
    {
      "cell_type": "code",
      "source": [
        "df_2009.head()"
      ],
      "metadata": {
        "colab": {
          "base_uri": "https://localhost:8080/",
          "height": 548
        },
        "id": "FQ69s0UW6kQj",
        "outputId": "a7ca974f-23e2-40c7-d7ba-3b1cb92c32a7"
      },
      "execution_count": 121,
      "outputs": [
        {
          "output_type": "execute_result",
          "data": {
            "text/plain": [
              "   Data Venda Data Envio  ID Loja  ID Produto  ID Cliente       No. Venda  \\\n",
              "11 2009-05-02 2009-05-14      199         384       18938  200905023CS847   \n",
              "12 2009-05-16 2009-05-27      306         384       19067  200905163CS746   \n",
              "13 2009-05-31 2009-06-12      306         384       19068  200905313CS748   \n",
              "14 2009-06-28 2009-07-11      199         384       18959  200906283CS870   \n",
              "15 2009-07-08 2009-07-12      306         384       19070  200907083CS757   \n",
              "\n",
              "         Custo Unitário       Preço Unitário  Quantidade       Valor Desconto  \\\n",
              "11               348.58               758.00           6                 0.00   \n",
              "12               348.58               758.00           6                 0.00   \n",
              "13               348.58               758.00           6                 0.00   \n",
              "14               348.58               758.00           6                 0.00   \n",
              "15               348.58               758.00           6                 0.00   \n",
              "\n",
              "            Valor Venda                                Produto  \\\n",
              "11             4,548.00  Adventure Works Laptop15.4W M1548 Red   \n",
              "12             4,548.00  Adventure Works Laptop15.4W M1548 Red   \n",
              "13             4,548.00  Adventure Works Laptop15.4W M1548 Red   \n",
              "14             4,548.00  Adventure Works Laptop15.4W M1548 Red   \n",
              "15             4,548.00  Adventure Works Laptop15.4W M1548 Red   \n",
              "\n",
              "         Fabricante            Marca   Classe  Cor                custo  \\\n",
              "11  Adventure Works  Adventure Works  Regular  Red             2,091.48   \n",
              "12  Adventure Works  Adventure Works  Regular  Red             2,091.48   \n",
              "13  Adventure Works  Adventure Works  Regular  Red             2,091.48   \n",
              "14  Adventure Works  Adventure Works  Regular  Red             2,091.48   \n",
              "15  Adventure Works  Adventure Works  Regular  Red             2,091.48   \n",
              "\n",
              "                  lucro  Tempo_envio  \n",
              "11             2,456.52           12  \n",
              "12             2,456.52           11  \n",
              "13             2,456.52           12  \n",
              "14             2,456.52           13  \n",
              "15             2,456.52            4  "
            ],
            "text/html": [
              "\n",
              "  <div id=\"df-1700b2bc-4f4b-4754-9dd2-791bc28e82e4\">\n",
              "    <div class=\"colab-df-container\">\n",
              "      <div>\n",
              "<style scoped>\n",
              "    .dataframe tbody tr th:only-of-type {\n",
              "        vertical-align: middle;\n",
              "    }\n",
              "\n",
              "    .dataframe tbody tr th {\n",
              "        vertical-align: top;\n",
              "    }\n",
              "\n",
              "    .dataframe thead th {\n",
              "        text-align: right;\n",
              "    }\n",
              "</style>\n",
              "<table border=\"1\" class=\"dataframe\">\n",
              "  <thead>\n",
              "    <tr style=\"text-align: right;\">\n",
              "      <th></th>\n",
              "      <th>Data Venda</th>\n",
              "      <th>Data Envio</th>\n",
              "      <th>ID Loja</th>\n",
              "      <th>ID Produto</th>\n",
              "      <th>ID Cliente</th>\n",
              "      <th>No. Venda</th>\n",
              "      <th>Custo Unitário</th>\n",
              "      <th>Preço Unitário</th>\n",
              "      <th>Quantidade</th>\n",
              "      <th>Valor Desconto</th>\n",
              "      <th>Valor Venda</th>\n",
              "      <th>Produto</th>\n",
              "      <th>Fabricante</th>\n",
              "      <th>Marca</th>\n",
              "      <th>Classe</th>\n",
              "      <th>Cor</th>\n",
              "      <th>custo</th>\n",
              "      <th>lucro</th>\n",
              "      <th>Tempo_envio</th>\n",
              "    </tr>\n",
              "  </thead>\n",
              "  <tbody>\n",
              "    <tr>\n",
              "      <th>11</th>\n",
              "      <td>2009-05-02</td>\n",
              "      <td>2009-05-14</td>\n",
              "      <td>199</td>\n",
              "      <td>384</td>\n",
              "      <td>18938</td>\n",
              "      <td>200905023CS847</td>\n",
              "      <td>348.58</td>\n",
              "      <td>758.00</td>\n",
              "      <td>6</td>\n",
              "      <td>0.00</td>\n",
              "      <td>4,548.00</td>\n",
              "      <td>Adventure Works Laptop15.4W M1548 Red</td>\n",
              "      <td>Adventure Works</td>\n",
              "      <td>Adventure Works</td>\n",
              "      <td>Regular</td>\n",
              "      <td>Red</td>\n",
              "      <td>2,091.48</td>\n",
              "      <td>2,456.52</td>\n",
              "      <td>12</td>\n",
              "    </tr>\n",
              "    <tr>\n",
              "      <th>12</th>\n",
              "      <td>2009-05-16</td>\n",
              "      <td>2009-05-27</td>\n",
              "      <td>306</td>\n",
              "      <td>384</td>\n",
              "      <td>19067</td>\n",
              "      <td>200905163CS746</td>\n",
              "      <td>348.58</td>\n",
              "      <td>758.00</td>\n",
              "      <td>6</td>\n",
              "      <td>0.00</td>\n",
              "      <td>4,548.00</td>\n",
              "      <td>Adventure Works Laptop15.4W M1548 Red</td>\n",
              "      <td>Adventure Works</td>\n",
              "      <td>Adventure Works</td>\n",
              "      <td>Regular</td>\n",
              "      <td>Red</td>\n",
              "      <td>2,091.48</td>\n",
              "      <td>2,456.52</td>\n",
              "      <td>11</td>\n",
              "    </tr>\n",
              "    <tr>\n",
              "      <th>13</th>\n",
              "      <td>2009-05-31</td>\n",
              "      <td>2009-06-12</td>\n",
              "      <td>306</td>\n",
              "      <td>384</td>\n",
              "      <td>19068</td>\n",
              "      <td>200905313CS748</td>\n",
              "      <td>348.58</td>\n",
              "      <td>758.00</td>\n",
              "      <td>6</td>\n",
              "      <td>0.00</td>\n",
              "      <td>4,548.00</td>\n",
              "      <td>Adventure Works Laptop15.4W M1548 Red</td>\n",
              "      <td>Adventure Works</td>\n",
              "      <td>Adventure Works</td>\n",
              "      <td>Regular</td>\n",
              "      <td>Red</td>\n",
              "      <td>2,091.48</td>\n",
              "      <td>2,456.52</td>\n",
              "      <td>12</td>\n",
              "    </tr>\n",
              "    <tr>\n",
              "      <th>14</th>\n",
              "      <td>2009-06-28</td>\n",
              "      <td>2009-07-11</td>\n",
              "      <td>199</td>\n",
              "      <td>384</td>\n",
              "      <td>18959</td>\n",
              "      <td>200906283CS870</td>\n",
              "      <td>348.58</td>\n",
              "      <td>758.00</td>\n",
              "      <td>6</td>\n",
              "      <td>0.00</td>\n",
              "      <td>4,548.00</td>\n",
              "      <td>Adventure Works Laptop15.4W M1548 Red</td>\n",
              "      <td>Adventure Works</td>\n",
              "      <td>Adventure Works</td>\n",
              "      <td>Regular</td>\n",
              "      <td>Red</td>\n",
              "      <td>2,091.48</td>\n",
              "      <td>2,456.52</td>\n",
              "      <td>13</td>\n",
              "    </tr>\n",
              "    <tr>\n",
              "      <th>15</th>\n",
              "      <td>2009-07-08</td>\n",
              "      <td>2009-07-12</td>\n",
              "      <td>306</td>\n",
              "      <td>384</td>\n",
              "      <td>19070</td>\n",
              "      <td>200907083CS757</td>\n",
              "      <td>348.58</td>\n",
              "      <td>758.00</td>\n",
              "      <td>6</td>\n",
              "      <td>0.00</td>\n",
              "      <td>4,548.00</td>\n",
              "      <td>Adventure Works Laptop15.4W M1548 Red</td>\n",
              "      <td>Adventure Works</td>\n",
              "      <td>Adventure Works</td>\n",
              "      <td>Regular</td>\n",
              "      <td>Red</td>\n",
              "      <td>2,091.48</td>\n",
              "      <td>2,456.52</td>\n",
              "      <td>4</td>\n",
              "    </tr>\n",
              "  </tbody>\n",
              "</table>\n",
              "</div>\n",
              "      <button class=\"colab-df-convert\" onclick=\"convertToInteractive('df-1700b2bc-4f4b-4754-9dd2-791bc28e82e4')\"\n",
              "              title=\"Convert this dataframe to an interactive table.\"\n",
              "              style=\"display:none;\">\n",
              "        \n",
              "  <svg xmlns=\"http://www.w3.org/2000/svg\" height=\"24px\"viewBox=\"0 0 24 24\"\n",
              "       width=\"24px\">\n",
              "    <path d=\"M0 0h24v24H0V0z\" fill=\"none\"/>\n",
              "    <path d=\"M18.56 5.44l.94 2.06.94-2.06 2.06-.94-2.06-.94-.94-2.06-.94 2.06-2.06.94zm-11 1L8.5 8.5l.94-2.06 2.06-.94-2.06-.94L8.5 2.5l-.94 2.06-2.06.94zm10 10l.94 2.06.94-2.06 2.06-.94-2.06-.94-.94-2.06-.94 2.06-2.06.94z\"/><path d=\"M17.41 7.96l-1.37-1.37c-.4-.4-.92-.59-1.43-.59-.52 0-1.04.2-1.43.59L10.3 9.45l-7.72 7.72c-.78.78-.78 2.05 0 2.83L4 21.41c.39.39.9.59 1.41.59.51 0 1.02-.2 1.41-.59l7.78-7.78 2.81-2.81c.8-.78.8-2.07 0-2.86zM5.41 20L4 18.59l7.72-7.72 1.47 1.35L5.41 20z\"/>\n",
              "  </svg>\n",
              "      </button>\n",
              "      \n",
              "  <style>\n",
              "    .colab-df-container {\n",
              "      display:flex;\n",
              "      flex-wrap:wrap;\n",
              "      gap: 12px;\n",
              "    }\n",
              "\n",
              "    .colab-df-convert {\n",
              "      background-color: #E8F0FE;\n",
              "      border: none;\n",
              "      border-radius: 50%;\n",
              "      cursor: pointer;\n",
              "      display: none;\n",
              "      fill: #1967D2;\n",
              "      height: 32px;\n",
              "      padding: 0 0 0 0;\n",
              "      width: 32px;\n",
              "    }\n",
              "\n",
              "    .colab-df-convert:hover {\n",
              "      background-color: #E2EBFA;\n",
              "      box-shadow: 0px 1px 2px rgba(60, 64, 67, 0.3), 0px 1px 3px 1px rgba(60, 64, 67, 0.15);\n",
              "      fill: #174EA6;\n",
              "    }\n",
              "\n",
              "    [theme=dark] .colab-df-convert {\n",
              "      background-color: #3B4455;\n",
              "      fill: #D2E3FC;\n",
              "    }\n",
              "\n",
              "    [theme=dark] .colab-df-convert:hover {\n",
              "      background-color: #434B5C;\n",
              "      box-shadow: 0px 1px 3px 1px rgba(0, 0, 0, 0.15);\n",
              "      filter: drop-shadow(0px 1px 2px rgba(0, 0, 0, 0.3));\n",
              "      fill: #FFFFFF;\n",
              "    }\n",
              "  </style>\n",
              "\n",
              "      <script>\n",
              "        const buttonEl =\n",
              "          document.querySelector('#df-1700b2bc-4f4b-4754-9dd2-791bc28e82e4 button.colab-df-convert');\n",
              "        buttonEl.style.display =\n",
              "          google.colab.kernel.accessAllowed ? 'block' : 'none';\n",
              "\n",
              "        async function convertToInteractive(key) {\n",
              "          const element = document.querySelector('#df-1700b2bc-4f4b-4754-9dd2-791bc28e82e4');\n",
              "          const dataTable =\n",
              "            await google.colab.kernel.invokeFunction('convertToInteractive',\n",
              "                                                     [key], {});\n",
              "          if (!dataTable) return;\n",
              "\n",
              "          const docLinkHtml = 'Like what you see? Visit the ' +\n",
              "            '<a target=\"_blank\" href=https://colab.research.google.com/notebooks/data_table.ipynb>data table notebook</a>'\n",
              "            + ' to learn more about interactive tables.';\n",
              "          element.innerHTML = '';\n",
              "          dataTable['output_type'] = 'display_data';\n",
              "          await google.colab.output.renderOutput(dataTable, element);\n",
              "          const docLink = document.createElement('div');\n",
              "          docLink.innerHTML = docLinkHtml;\n",
              "          element.appendChild(docLink);\n",
              "        }\n",
              "      </script>\n",
              "    </div>\n",
              "  </div>\n",
              "  "
            ]
          },
          "metadata": {},
          "execution_count": 121
        }
      ]
    },
    {
      "cell_type": "code",
      "source": [
        "# Lucro por mês:\n",
        "df_2009.groupby(df_2009[\"Data Venda\"].dt.month)[\"lucro\"].sum().plot(title=\"Lucro x Mês\")\n",
        "plt.xlabel(\"Mês\")\n",
        "plt.ylabel(\"Lucro\");"
      ],
      "metadata": {
        "colab": {
          "base_uri": "https://localhost:8080/",
          "height": 376
        },
        "id": "pUoVvVBe6n24",
        "outputId": "7110e5d9-fb4d-42a0-ab43-c6a7b94aa3cc"
      },
      "execution_count": 122,
      "outputs": [
        {
          "output_type": "display_data",
          "data": {
            "text/plain": [
              "<Figure size 576x396 with 1 Axes>"
            ],
            "image/png": "[encoded data removed]"
          },
          "metadata": {}
        }
      ]
    },
    {
      "cell_type": "code",
      "source": [
        "# Lucro por marca:\n",
        "df_2009.groupby(\"Marca\")[\"lucro\"].sum().plot.bar(title=\"Lucro x Marca\", color=\"purple\")\n",
        "plt.xlabel(\"Marca\")\n",
        "plt.ylabel(\"Lucro\")\n",
        "plt.xticks(rotation='horizontal');"
      ],
      "metadata": {
        "colab": {
          "base_uri": "https://localhost:8080/",
          "height": 376
        },
        "id": "tHke4osf71ex",
        "outputId": "999b68e7-142e-4640-9ea7-adc369ebc8a5"
      },
      "execution_count": 124,
      "outputs": [
        {
          "output_type": "display_data",
          "data": {
            "text/plain": [
              "<Figure size 576x396 with 1 Axes>"
            ],
            "image/png": "[encoded data removed]"
          },
          "metadata": {}
        }
      ]
    },
    {
      "cell_type": "code",
      "source": [
        "# Lucro por classe:\n",
        "df_2009.groupby(\"Classe\")[\"lucro\"].sum().plot.bar(title=\"Lucro x Classe\", color=\"purple\")\n",
        "plt.xlabel(\"Classe\")\n",
        "plt.ylabel(\"Lucro\")\n",
        "plt.xticks(rotation='horizontal');"
      ],
      "metadata": {
        "colab": {
          "base_uri": "https://localhost:8080/",
          "height": 376
        },
        "id": "LuFty34c76VU",
        "outputId": "7fe38579-c29c-4772-cbd2-03e27b1e2d10"
      },
      "execution_count": 125,
      "outputs": [
        {
          "output_type": "display_data",
          "data": {
            "text/plain": [
              "<Figure size 576x396 with 1 Axes>"
            ],
            "image/png": "[encoded data removed]"
          },
          "metadata": {}
        }
      ]
    },
    {
      "cell_type": "code",
      "source": [
        "df[\"Tempo_envio\"].describe()"
      ],
      "metadata": {
        "colab": {
          "base_uri": "https://localhost:8080/"
        },
        "id": "wf_q0TvO8CBt",
        "outputId": "b499e8cc-aa7d-45b7-e6b3-0d9fa9959220"
      },
      "execution_count": 126,
      "outputs": [
        {
          "output_type": "execute_result",
          "data": {
            "text/plain": [
              "count                 904.00\n",
              "mean                    8.54\n",
              "std                     3.06\n",
              "min                     4.00\n",
              "25%                     6.00\n",
              "50%                     9.00\n",
              "75%                    11.00\n",
              "max                    20.00\n",
              "Name: Tempo_envio, dtype: float64"
            ]
          },
          "metadata": {},
          "execution_count": 126
        }
      ]
    },
    {
      "cell_type": "code",
      "source": [
        "# Gráfico boxplot:\n",
        "plt.boxplot(df[\"Tempo_envio\"]);"
      ],
      "metadata": {
        "colab": {
          "base_uri": "https://localhost:8080/",
          "height": 347
        },
        "id": "Ga055TA38Iwr",
        "outputId": "511e2742-6abe-41e9-dd21-5b03b6da33f1"
      },
      "execution_count": 127,
      "outputs": [
        {
          "output_type": "display_data",
          "data": {
            "text/plain": [
              "<Figure size 576x396 with 1 Axes>"
            ],
            "image/png": "[encoded data removed]"
          },
          "metadata": {}
        }
      ]
    },
    {
      "cell_type": "code",
      "source": [
        "# Histograma:\n",
        "plt.hist(df[\"Tempo_envio\"]);"
      ],
      "metadata": {
        "colab": {
          "base_uri": "https://localhost:8080/",
          "height": 347
        },
        "id": "8243ltup8Pe0",
        "outputId": "22913d5c-3027-4b67-c8f1-2b4bf512dba9"
      },
      "execution_count": 128,
      "outputs": [
        {
          "output_type": "display_data",
          "data": {
            "text/plain": [
              "<Figure size 576x396 with 1 Axes>"
            ],
            "image/png": "[encoded data removed]"
          },
          "metadata": {}
        }
      ]
    },
    {
      "cell_type": "code",
      "source": [
        "# Tempo mínimo de envio:\n",
        "df[\"Tempo_envio\"].min()"
      ],
      "metadata": {
        "colab": {
          "base_uri": "https://localhost:8080/"
        },
        "id": "XaXanNng8XcF",
        "outputId": "026d5b65-fa2f-4231-a7d5-8dc7b45fb1ee"
      },
      "execution_count": 129,
      "outputs": [
        {
          "output_type": "execute_result",
          "data": {
            "text/plain": [
              "4"
            ]
          },
          "metadata": {},
          "execution_count": 129
        }
      ]
    },
    {
      "cell_type": "code",
      "source": [
        "# Tempo máximo de envio:\n",
        "df['Tempo_envio'].max()"
      ],
      "metadata": {
        "colab": {
          "base_uri": "https://localhost:8080/"
        },
        "id": "DI5_s5Va8icC",
        "outputId": "01229282-d92e-44b3-8acc-ba0ea7934402"
      },
      "execution_count": 130,
      "outputs": [
        {
          "output_type": "execute_result",
          "data": {
            "text/plain": [
              "20"
            ]
          },
          "metadata": {},
          "execution_count": 130
        }
      ]
    },
    {
      "cell_type": "code",
      "source": [
        "# Identificando o Outlier (valor discrepante):\n",
        "df[df[\"Tempo_envio\"] == 20]"
      ],
      "metadata": {
        "colab": {
          "base_uri": "https://localhost:8080/",
          "height": 214
        },
        "id": "zscekc-18mnf",
        "outputId": "49701887-b410-419f-cbaf-714e1fd8cafa"
      },
      "execution_count": 131,
      "outputs": [
        {
          "output_type": "execute_result",
          "data": {
            "text/plain": [
              "  Data Venda Data Envio  ID Loja  ID Produto  ID Cliente       No. Venda  \\\n",
              "0 2008-05-09 2008-05-29      199         384       18839  200805093CS607   \n",
              "\n",
              "        Custo Unitário       Preço Unitário  Quantidade       Valor Desconto  \\\n",
              "0               348.58               758.00           6                 0.00   \n",
              "\n",
              "           Valor Venda                                Produto  \\\n",
              "0             4,548.00  Adventure Works Laptop15.4W M1548 Red   \n",
              "\n",
              "        Fabricante            Marca   Classe  Cor                custo  \\\n",
              "0  Adventure Works  Adventure Works  Regular  Red             2,091.48   \n",
              "\n",
              "                 lucro  Tempo_envio  \n",
              "0             2,456.52           20  "
            ],
            "text/html": [
              "\n",
              "  <div id=\"df-8eb9681e-82c5-4f5b-9f94-00817844f48c\">\n",
              "    <div class=\"colab-df-container\">\n",
              "      <div>\n",
              "<style scoped>\n",
              "    .dataframe tbody tr th:only-of-type {\n",
              "        vertical-align: middle;\n",
              "    }\n",
              "\n",
              "    .dataframe tbody tr th {\n",
              "        vertical-align: top;\n",
              "    }\n",
              "\n",
              "    .dataframe thead th {\n",
              "        text-align: right;\n",
              "    }\n",
              "</style>\n",
              "<table border=\"1\" class=\"dataframe\">\n",
              "  <thead>\n",
              "    <tr style=\"text-align: right;\">\n",
              "      <th></th>\n",
              "      <th>Data Venda</th>\n",
              "      <th>Data Envio</th>\n",
              "      <th>ID Loja</th>\n",
              "      <th>ID Produto</th>\n",
              "      <th>ID Cliente</th>\n",
              "      <th>No. Venda</th>\n",
              "      <th>Custo Unitário</th>\n",
              "      <th>Preço Unitário</th>\n",
              "      <th>Quantidade</th>\n",
              "      <th>Valor Desconto</th>\n",
              "      <th>Valor Venda</th>\n",
              "      <th>Produto</th>\n",
              "      <th>Fabricante</th>\n",
              "      <th>Marca</th>\n",
              "      <th>Classe</th>\n",
              "      <th>Cor</th>\n",
              "      <th>custo</th>\n",
              "      <th>lucro</th>\n",
              "      <th>Tempo_envio</th>\n",
              "    </tr>\n",
              "  </thead>\n",
              "  <tbody>\n",
              "    <tr>\n",
              "      <th>0</th>\n",
              "      <td>2008-05-09</td>\n",
              "      <td>2008-05-29</td>\n",
              "      <td>199</td>\n",
              "      <td>384</td>\n",
              "      <td>18839</td>\n",
              "      <td>200805093CS607</td>\n",
              "      <td>348.58</td>\n",
              "      <td>758.00</td>\n",
              "      <td>6</td>\n",
              "      <td>0.00</td>\n",
              "      <td>4,548.00</td>\n",
              "      <td>Adventure Works Laptop15.4W M1548 Red</td>\n",
              "      <td>Adventure Works</td>\n",
              "      <td>Adventure Works</td>\n",
              "      <td>Regular</td>\n",
              "      <td>Red</td>\n",
              "      <td>2,091.48</td>\n",
              "      <td>2,456.52</td>\n",
              "      <td>20</td>\n",
              "    </tr>\n",
              "  </tbody>\n",
              "</table>\n",
              "</div>\n",
              "      <button class=\"colab-df-convert\" onclick=\"convertToInteractive('df-8eb9681e-82c5-4f5b-9f94-00817844f48c')\"\n",
              "              title=\"Convert this dataframe to an interactive table.\"\n",
              "              style=\"display:none;\">\n",
              "        \n",
              "  <svg xmlns=\"http://www.w3.org/2000/svg\" height=\"24px\"viewBox=\"0 0 24 24\"\n",
              "       width=\"24px\">\n",
              "    <path d=\"M0 0h24v24H0V0z\" fill=\"none\"/>\n",
              "    <path d=\"M18.56 5.44l.94 2.06.94-2.06 2.06-.94-2.06-.94-.94-2.06-.94 2.06-2.06.94zm-11 1L8.5 8.5l.94-2.06 2.06-.94-2.06-.94L8.5 2.5l-.94 2.06-2.06.94zm10 10l.94 2.06.94-2.06 2.06-.94-2.06-.94-.94-2.06-.94 2.06-2.06.94z\"/><path d=\"M17.41 7.96l-1.37-1.37c-.4-.4-.92-.59-1.43-.59-.52 0-1.04.2-1.43.59L10.3 9.45l-7.72 7.72c-.78.78-.78 2.05 0 2.83L4 21.41c.39.39.9.59 1.41.59.51 0 1.02-.2 1.41-.59l7.78-7.78 2.81-2.81c.8-.78.8-2.07 0-2.86zM5.41 20L4 18.59l7.72-7.72 1.47 1.35L5.41 20z\"/>\n",
              "  </svg>\n",
              "      </button>\n",
              "      \n",
              "  <style>\n",
              "    .colab-df-container {\n",
              "      display:flex;\n",
              "      flex-wrap:wrap;\n",
              "      gap: 12px;\n",
              "    }\n",
              "\n",
              "    .colab-df-convert {\n",
              "      background-color: #E8F0FE;\n",
              "      border: none;\n",
              "      border-radius: 50%;\n",
              "      cursor: pointer;\n",
              "      display: none;\n",
              "      fill: #1967D2;\n",
              "      height: 32px;\n",
              "      padding: 0 0 0 0;\n",
              "      width: 32px;\n",
              "    }\n",
              "\n",
              "    .colab-df-convert:hover {\n",
              "      background-color: #E2EBFA;\n",
              "      box-shadow: 0px 1px 2px rgba(60, 64, 67, 0.3), 0px 1px 3px 1px rgba(60, 64, 67, 0.15);\n",
              "      fill: #174EA6;\n",
              "    }\n",
              "\n",
              "    [theme=dark] .colab-df-convert {\n",
              "      background-color: #3B4455;\n",
              "      fill: #D2E3FC;\n",
              "    }\n",
              "\n",
              "    [theme=dark] .colab-df-convert:hover {\n",
              "      background-color: #434B5C;\n",
              "      box-shadow: 0px 1px 3px 1px rgba(0, 0, 0, 0.15);\n",
              "      filter: drop-shadow(0px 1px 2px rgba(0, 0, 0, 0.3));\n",
              "      fill: #FFFFFF;\n",
              "    }\n",
              "  </style>\n",
              "\n",
              "      <script>\n",
              "        const buttonEl =\n",
              "          document.querySelector('#df-8eb9681e-82c5-4f5b-9f94-00817844f48c button.colab-df-convert');\n",
              "        buttonEl.style.display =\n",
              "          google.colab.kernel.accessAllowed ? 'block' : 'none';\n",
              "\n",
              "        async function convertToInteractive(key) {\n",
              "          const element = document.querySelector('#df-8eb9681e-82c5-4f5b-9f94-00817844f48c');\n",
              "          const dataTable =\n",
              "            await google.colab.kernel.invokeFunction('convertToInteractive',\n",
              "                                                     [key], {});\n",
              "          if (!dataTable) return;\n",
              "\n",
              "          const docLinkHtml = 'Like what you see? Visit the ' +\n",
              "            '<a target=\"_blank\" href=https://colab.research.google.com/notebooks/data_table.ipynb>data table notebook</a>'\n",
              "            + ' to learn more about interactive tables.';\n",
              "          element.innerHTML = '';\n",
              "          dataTable['output_type'] = 'display_data';\n",
              "          await google.colab.output.renderOutput(dataTable, element);\n",
              "          const docLink = document.createElement('div');\n",
              "          docLink.innerHTML = docLinkHtml;\n",
              "          element.appendChild(docLink);\n",
              "        }\n",
              "      </script>\n",
              "    </div>\n",
              "  </div>\n",
              "  "
            ]
          },
          "metadata": {},
          "execution_count": 131
        }
      ]
    },
    {
      "cell_type": "code",
      "source": [
        "# Exportando os dados para um arquivo CSV:\n",
        "df.to_csv(\"df_vendas_novo.csv\", index=False)"
      ],
      "metadata": {
        "id": "w7PwteHi8rvl"
      },
      "execution_count": 132,
      "outputs": []
    }
  ]
}